{
 "cells": [
  {
   "cell_type": "markdown",
   "metadata": {},
   "source": [
    "### Hyper-parameter optimization con Optuna"
   ]
  },
  {
   "cell_type": "code",
   "execution_count": 1,
   "metadata": {},
   "outputs": [],
   "source": [
    "import pandas as pd\n",
    "import numpy as np\n",
    "import time\n",
    "import xgboost as xgb\n",
    "\n",
    "from xgboost import XGBClassifier\n",
    "from sklearn.model_selection import train_test_split\n",
    "from sklearn.metrics import accuracy_score, confusion_matrix\n",
    "from sklearn.preprocessing import StandardScaler\n",
    "\n",
    "import matplotlib.pyplot as plt\n",
    "\n",
    "import pickle\n",
    "\n",
    "import optuna"
   ]
  },
  {
   "cell_type": "code",
   "execution_count": 2,
   "metadata": {},
   "outputs": [],
   "source": [
    "data = pd.read_csv('cs-training-nonull.csv')\n",
    "\n",
    "# remove unneeded\n",
    "data = data.drop('id', axis = 1)"
   ]
  },
  {
   "cell_type": "code",
   "execution_count": 3,
   "metadata": {},
   "outputs": [],
   "source": [
    "# global constants\n",
    "N_ESTIMATORS = 100\n",
    "# numero di features compreso le due colonne indicatore aggiunte\n",
    "N_FEATURES = 12\n",
    "\n",
    "# nome della colonna con le label\n",
    "TARGET = 'SeriousDlqin2yrs'\n",
    "\n",
    "# colonne con missing values\n",
    "COL1_MISSING = 'MonthlyIncome'\n",
    "COL2_MISSING = 'NumberOfDependents'\n",
    "\n",
    "# nomi delle due colonne indicator (valgono 1 laddove il dato è inputato)\n",
    "IND1 = 'isna_mi'\n",
    "IND2 = 'isna_nod'\n",
    "ind_col = [IND1, IND2]\n",
    "\n",
    "# prese da stats sul train test, usate per inputare i missing values su COL1 e CL2\n",
    "MONTHLY_INC_MEDIAN = 5400.0\n",
    "N_OF_DEP_MODE = 0"
   ]
  },
  {
   "cell_type": "code",
   "execution_count": 4,
   "metadata": {},
   "outputs": [],
   "source": [
    "# split in train, validation set\n",
    "def split_train_test(df, ratio):\n",
    "    # shuffle before split\n",
    "    df = df.sample(frac = 1)\n",
    "    N_REC = df.shape[0]\n",
    "    N_TRAIN = int(N_REC * ratio)\n",
    "    N_VALID = N_REC - N_TRAIN\n",
    "    train_df = df[:N_TRAIN]\n",
    "    valid_df = df[N_TRAIN:]\n",
    "    \n",
    "    return train_df, valid_df"
   ]
  },
  {
   "cell_type": "code",
   "execution_count": 5,
   "metadata": {},
   "outputs": [],
   "source": [
    "train_df, valid_df = split_train_test(data, 0.8)"
   ]
  },
  {
   "cell_type": "code",
   "execution_count": 6,
   "metadata": {},
   "outputs": [],
   "source": [
    "# metto da parte le due colonne indicatori\n",
    "ind_train = train_df[ind_col].values\n",
    "ind_valid = valid_df[ind_col].values"
   ]
  },
  {
   "cell_type": "code",
   "execution_count": 7,
   "metadata": {},
   "outputs": [],
   "source": [
    "train_df = train_df.drop(ind_col, axis = 1)\n",
    "valid_df = valid_df.drop(ind_col, axis = 1)\n",
    "\n",
    "# estrae X: matrice features ed y, labels\n",
    "y_train = train_df[TARGET].values\n",
    "xtrain_df = train_df.drop(TARGET, axis = 1)\n",
    "x_train = xtrain_df.values\n",
    "\n",
    "y_valid = valid_df[TARGET].values\n",
    "xvalid_df = valid_df.drop(TARGET, axis = 1)\n",
    "x_valid = xvalid_df.values"
   ]
  },
  {
   "cell_type": "code",
   "execution_count": 8,
   "metadata": {},
   "outputs": [
    {
     "data": {
      "text/plain": [
       "StandardScaler()"
      ]
     },
     "execution_count": 8,
     "metadata": {},
     "output_type": "execute_result"
    }
   ],
   "source": [
    "# prepara lo scaling\n",
    "scaler = StandardScaler()\n",
    "\n",
    "# calcola i parametri di scaling solo sul train set\n",
    "scaler.fit(x_train)"
   ]
  },
  {
   "cell_type": "code",
   "execution_count": 9,
   "metadata": {},
   "outputs": [],
   "source": [
    "# scalo tutto tranne che le due colonne indicatore\n",
    "x_train_scaled = scaler.transform(x_train)\n",
    "x_valid_scaled = scaler.transform(x_valid)"
   ]
  },
  {
   "cell_type": "code",
   "execution_count": 10,
   "metadata": {},
   "outputs": [],
   "source": [
    "# riaggiungo gli indicatori (che non vengono scalati)\n",
    "x_train_scaled = np.c_[x_train_scaled, ind_train]\n",
    "x_valid_scaled = np.c_[x_valid_scaled, ind_valid]"
   ]
  },
  {
   "cell_type": "code",
   "execution_count": 11,
   "metadata": {},
   "outputs": [],
   "source": [
    "# check\n",
    "assert x_train_scaled.shape[1] == N_FEATURES\n",
    "assert x_valid_scaled.shape[1] == N_FEATURES"
   ]
  },
  {
   "cell_type": "markdown",
   "metadata": {},
   "source": [
    "### Train the XGBoost Classifier"
   ]
  },
  {
   "cell_type": "code",
   "execution_count": 12,
   "metadata": {},
   "outputs": [],
   "source": [
    "def objective(trial):\n",
    "    param = {'objective':'binary:logistic', \n",
    "             'random_state': 0,\n",
    "             'n_estimators':N_ESTIMATORS,\n",
    "             'learning_rate':trial.suggest_uniform(\"learning_rate\", 0.001, 0.01), \n",
    "             'max_depth': trial.suggest_int('max_depth', 3, 8, 1),\n",
    "             'min_child_weight': trial.suggest_uniform(\"min_child_weight\", 6.0, 12.0),\n",
    "             'max_delta_step': trial.suggest_uniform(\"max_delta_step\",1.5, 2.0), \n",
    "             'colsample_bytree': trial.suggest_uniform(\"colsample_bytree\", 0.3, 0.6),\n",
    "             'subsample': trial.suggest_uniform(\"subsample\", 0.5, 0.9), \n",
    "             'eta': trial.suggest_uniform(\"eta\", 0.010, 0.050),\n",
    "             'gamma': trial.suggest_uniform(\"gamma\", 0.50, 0.80)\n",
    "                 }\n",
    "    \n",
    "    clf = xgb.XGBClassifier(use_label_encoder=False, **param)\n",
    "    \n",
    "    # addestro e valuto su train e su validation sec\n",
    "    clf.fit(x_train_scaled, y_train,\n",
    "        eval_set=[(x_train_scaled, y_train), (x_valid_scaled, y_valid)],\n",
    "        eval_metric='auc', verbose=False)\n",
    "    \n",
    "    evals_result = clf.evals_result()\n",
    "    \n",
    "    val_hist = evals_result['validation_1']['auc']\n",
    "    \n",
    "    score = val_hist[-1]\n",
    "    \n",
    "    return score"
   ]
  },
  {
   "cell_type": "code",
   "execution_count": 13,
   "metadata": {},
   "outputs": [
    {
     "name": "stderr",
     "output_type": "stream",
     "text": [
      "\u001b[32m[I 2021-02-28 08:18:11,779]\u001b[0m A new study created in memory with name: credit1\u001b[0m\n",
      "\u001b[32m[I 2021-02-28 08:18:16,180]\u001b[0m Trial 0 finished with value: 0.859959 and parameters: {'learning_rate': 0.001974320850513426, 'max_depth': 7, 'min_child_weight': 6.290726378374789, 'max_delta_step': 1.6313426656655092, 'colsample_bytree': 0.3164050579966099, 'subsample': 0.5079674507555856, 'eta': 0.046051645747151565, 'gamma': 0.5909236132782372}. Best is trial 0 with value: 0.859959.\u001b[0m\n",
      "\u001b[32m[I 2021-02-28 08:18:21,182]\u001b[0m Trial 1 finished with value: 0.858157 and parameters: {'learning_rate': 0.005239734933387744, 'max_depth': 4, 'min_child_weight': 10.0663202309278, 'max_delta_step': 1.8327415793415607, 'colsample_bytree': 0.5902776998131111, 'subsample': 0.674698799854188, 'eta': 0.046980994913311404, 'gamma': 0.7702650011352536}. Best is trial 0 with value: 0.859959.\u001b[0m\n",
      "\u001b[32m[I 2021-02-28 08:18:29,166]\u001b[0m Trial 2 finished with value: 0.862971 and parameters: {'learning_rate': 0.002789378295313811, 'max_depth': 8, 'min_child_weight': 7.232223131134027, 'max_delta_step': 1.9336055943236239, 'colsample_bytree': 0.5627561408281465, 'subsample': 0.7133369488463761, 'eta': 0.04477417227678401, 'gamma': 0.5977186172510855}. Best is trial 2 with value: 0.862971.\u001b[0m\n",
      "\u001b[32m[I 2021-02-28 08:18:32,767]\u001b[0m Trial 3 finished with value: 0.856738 and parameters: {'learning_rate': 0.009014180202348777, 'max_depth': 3, 'min_child_weight': 11.982621032786728, 'max_delta_step': 1.634288631795879, 'colsample_bytree': 0.4240183930628463, 'subsample': 0.7454554496221092, 'eta': 0.03447429396696685, 'gamma': 0.7582990494441052}. Best is trial 2 with value: 0.862971.\u001b[0m\n",
      "\u001b[32m[I 2021-02-28 08:18:37,084]\u001b[0m Trial 4 finished with value: 0.856199 and parameters: {'learning_rate': 0.0016995421782272332, 'max_depth': 7, 'min_child_weight': 10.901198343353057, 'max_delta_step': 1.5578613932627474, 'colsample_bytree': 0.3197257372362729, 'subsample': 0.69156831410684, 'eta': 0.025902944366504713, 'gamma': 0.6521084630378602}. Best is trial 2 with value: 0.862971.\u001b[0m\n",
      "\u001b[32m[I 2021-02-28 08:18:43,482]\u001b[0m Trial 5 finished with value: 0.862334 and parameters: {'learning_rate': 0.0025620109962364804, 'max_depth': 7, 'min_child_weight': 8.664379953479905, 'max_delta_step': 1.8622897069992232, 'colsample_bytree': 0.5325074345679153, 'subsample': 0.6447065476694964, 'eta': 0.04728837083471737, 'gamma': 0.5852931851772252}. Best is trial 2 with value: 0.862971.\u001b[0m\n",
      "\u001b[32m[I 2021-02-28 08:18:49,643]\u001b[0m Trial 6 finished with value: 0.863237 and parameters: {'learning_rate': 0.009239262773809941, 'max_depth': 6, 'min_child_weight': 8.486690274395935, 'max_delta_step': 1.9051652509032941, 'colsample_bytree': 0.4966986020682421, 'subsample': 0.8797987206986754, 'eta': 0.010568445356200216, 'gamma': 0.6803689199776486}. Best is trial 6 with value: 0.863237.\u001b[0m\n",
      "\u001b[32m[I 2021-02-28 08:18:53,276]\u001b[0m Trial 7 finished with value: 0.858693 and parameters: {'learning_rate': 0.0014721656894566895, 'max_depth': 3, 'min_child_weight': 10.983453302876603, 'max_delta_step': 1.772793762159369, 'colsample_bytree': 0.31359987270096695, 'subsample': 0.8985535555549948, 'eta': 0.02821241835274524, 'gamma': 0.7760478856834346}. Best is trial 6 with value: 0.863237.\u001b[0m\n",
      "\u001b[32m[I 2021-02-28 08:18:56,416]\u001b[0m Trial 8 finished with value: 0.852526 and parameters: {'learning_rate': 0.002022791299580399, 'max_depth': 4, 'min_child_weight': 9.410338289623084, 'max_delta_step': 1.5020300193858929, 'colsample_bytree': 0.32867078145141193, 'subsample': 0.8836497610439147, 'eta': 0.04316968382686037, 'gamma': 0.5804617908781698}. Best is trial 6 with value: 0.863237.\u001b[0m\n",
      "\u001b[32m[I 2021-02-28 08:19:00,541]\u001b[0m Trial 9 finished with value: 0.858784 and parameters: {'learning_rate': 0.0023710769670034076, 'max_depth': 5, 'min_child_weight': 11.422136234631173, 'max_delta_step': 1.5641042734919606, 'colsample_bytree': 0.40931818484459914, 'subsample': 0.8733388070349912, 'eta': 0.040862234357798954, 'gamma': 0.5203803959929392}. Best is trial 6 with value: 0.863237.\u001b[0m\n"
     ]
    }
   ],
   "source": [
    "study = optuna.create_study(direction='maximize', study_name='credit1')\n",
    "study.optimize(objective, n_trials=10)"
   ]
  },
  {
   "cell_type": "code",
   "execution_count": 14,
   "metadata": {},
   "outputs": [
    {
     "name": "stdout",
     "output_type": "stream",
     "text": [
      "Best trial:\n",
      "  Value: 0.863237\n",
      "  Params: \n",
      "    learning_rate: 0.009239262773809941\n",
      "    max_depth: 6\n",
      "    min_child_weight: 8.486690274395935\n",
      "    max_delta_step: 1.9051652509032941\n",
      "    colsample_bytree: 0.4966986020682421\n",
      "    subsample: 0.8797987206986754\n",
      "    eta: 0.010568445356200216\n",
      "    gamma: 0.6803689199776486\n"
     ]
    }
   ],
   "source": [
    "print(\"Best trial:\")\n",
    "trial = study.best_trial\n",
    "\n",
    "print(\"  Value: {}\".format(trial.value))\n",
    "\n",
    "print(\"  Params: \")\n",
    "for key, value in trial.params.items():\n",
    "    print(\"    {}: {}\".format(key, value))"
   ]
  },
  {
   "cell_type": "code",
   "execution_count": 18,
   "metadata": {},
   "outputs": [
    {
     "name": "stdout",
     "output_type": "stream",
     "text": [
      "Running with following parameters:\n",
      "    learning_rate: 0.009239262773809941\n",
      "    max_depth: 6\n",
      "    min_child_weight: 8.486690274395935\n",
      "    max_delta_step: 1.9051652509032941\n",
      "    colsample_bytree: 0.4966986020682421\n",
      "    subsample: 0.8797987206986754\n",
      "    eta: 0.010568445356200216\n",
      "    gamma: 0.6803689199776486\n"
     ]
    }
   ],
   "source": [
    "# settiamo i parametri del best trial\n",
    "param = {'objective':'binary:logistic', \n",
    "             'random_state': 0,\n",
    "             'n_estimators':N_ESTIMATORS}\n",
    "\n",
    "print('Running with following parameters:')\n",
    "for key, value in trial.params.items():\n",
    "    print(\"    {}: {}\".format(key, value))\n",
    "    param[key] = value\n",
    "\n",
    "clf = xgb.XGBClassifier(use_label_encoder=False, **param)\n",
    "    \n",
    "# addestro e valuto su train e su validation sec\n",
    "clf.fit(x_train_scaled, y_train,\n",
    "        eval_set=[(x_train_scaled, y_train), (x_valid_scaled, y_valid)],\n",
    "        eval_metric='auc', verbose=False)\n",
    "    \n",
    "evals_result = clf.evals_result()"
   ]
  },
  {
   "cell_type": "code",
   "execution_count": 19,
   "metadata": {},
   "outputs": [],
   "source": [
    "def plot_auc(train_hist, val_hist):\n",
    "    plt.figure(figsize=(14,6))\n",
    "    \n",
    "    plt.plot(train_hist, label='Training AUC')\n",
    "    plt.plot(val_hist, label='Validation AUC')\n",
    "    plt.title('AUC')\n",
    "    plt.legend(loc='upper right')\n",
    "    plt.ylabel('auc')\n",
    "    plt.xlabel('n_estimator')\n",
    "    plt.grid(True)\n",
    "    plt.show();"
   ]
  },
  {
   "cell_type": "code",
   "execution_count": 20,
   "metadata": {},
   "outputs": [
    {
     "data": {
      "image/png": "[encoded data removed]",
      "text/plain": [
       "<Figure size 1008x432 with 1 Axes>"
      ]
     },
     "metadata": {
      "needs_background": "light"
     },
     "output_type": "display_data"
    }
   ],
   "source": [
    "train_hist = evals_result['validation_0']['auc']\n",
    "val_hist = evals_result['validation_1']['auc']\n",
    "\n",
    "plot_auc(train_hist, val_hist)"
   ]
  },
  {
   "cell_type": "code",
   "execution_count": 21,
   "metadata": {},
   "outputs": [
    {
     "name": "stdout",
     "output_type": "stream",
     "text": [
      "Accuracy on validation set: 93.52%\n"
     ]
    }
   ],
   "source": [
    "# compute accuracy on validation set\n",
    "y_pred = clf.predict(x_valid_scaled)\n",
    "\n",
    "predictions = [round(value) for value in y_pred]\n",
    "\n",
    "accuracy = accuracy_score(y_valid, predictions)\n",
    "\n",
    "print(\"Accuracy on validation set: %.2f%%\" % (accuracy * 100.0))"
   ]
  },
  {
   "cell_type": "code",
   "execution_count": 22,
   "metadata": {},
   "outputs": [
    {
     "data": {
      "text/plain": [
       "(27927, 64, 1879, 130)"
      ]
     },
     "execution_count": 22,
     "metadata": {},
     "output_type": "execute_result"
    }
   ],
   "source": [
    "# compute confusion matrix\n",
    "tn, fp, fn, tp = confusion_matrix(y_valid, predictions).ravel()\n",
    "\n",
    "(tn, fp, fn, tp)"
   ]
  },
  {
   "cell_type": "markdown",
   "metadata": {},
   "source": [
    "### Prediction on the TEST set (for submission to Kaggle)"
   ]
  },
  {
   "cell_type": "code",
   "execution_count": null,
   "metadata": {},
   "outputs": [],
   "source": [
    "# predictions on test set\n",
    "orig_test = pd.read_csv('cs-test.csv')\n",
    "\n",
    "# inpute missing values, add the two indicator columns\n",
    "orig_test['isna_mi'] = 0\n",
    "orig_test.loc[orig_test[COL1_MISSING].isna(), 'isna_mi'] = 1\n",
    "orig_test.loc[orig_test[COL1_MISSING].isna(), COL1_MISSING] = MONTHLY_INC_MEDIAN\n",
    "\n",
    "orig_test['isna_nod'] = 0\n",
    "orig_test.loc[orig_test[COL2_MISSING].isna(), 'isna_nod'] = 1\n",
    "orig_test.loc[orig_test[COL2_MISSING].isna(), COL2_MISSING] = N_OF_DEP_MODE"
   ]
  },
  {
   "cell_type": "code",
   "execution_count": null,
   "metadata": {},
   "outputs": [],
   "source": [
    "ind_test = orig_test[ind_col].values"
   ]
  },
  {
   "cell_type": "code",
   "execution_count": null,
   "metadata": {},
   "outputs": [],
   "source": [
    "orig_test = orig_test.drop(ind_col, axis = 1)"
   ]
  },
  {
   "cell_type": "code",
   "execution_count": null,
   "metadata": {},
   "outputs": [],
   "source": [
    "ID_COL_NAME = 'Unnamed: 0'\n",
    "xorig_test = orig_test.drop(ID_COL_NAME, axis = 1)\n",
    "xorig_test = xorig_test.drop(TARGET, axis = 1)\n",
    "\n",
    "x_test = xorig_test.values"
   ]
  },
  {
   "cell_type": "code",
   "execution_count": null,
   "metadata": {},
   "outputs": [],
   "source": [
    "# aggiungi qui lo scaling !!!\n",
    "x_test_scaled = scaler.transform(x_test)\n",
    "# riaggiunge le colonne indicatore\n",
    "x_test_scaled = np.c_[x_test_scaled, ind_test]\n",
    "\n",
    "assert x_test_scaled.shape[1] == N_FEATURES"
   ]
  },
  {
   "cell_type": "code",
   "execution_count": null,
   "metadata": {},
   "outputs": [],
   "source": [
    "# do predictions on test set (no shuffle !)\n",
    "y_pred = clf.predict_proba(x_test_scaled)\n",
    "\n",
    "# y_pred contiene le probabilità\n",
    "y_pred = y_pred[:, 1]"
   ]
  },
  {
   "cell_type": "code",
   "execution_count": null,
   "metadata": {},
   "outputs": [],
   "source": [
    "# prepara il csv per la submission\n",
    "result_dict = {\"Id\": orig_test[ID_COL_NAME].values,\n",
    "              'Probability': y_pred}\n",
    "\n",
    "FILE_SUB = 'submission25.csv'\n",
    "\n",
    "# build a dataframe and save to csv\n",
    "result_df = pd.DataFrame(result_dict)\n",
    "\n",
    "result_df.to_csv(FILE_SUB, index=False, float_format='%.5f')"
   ]
  },
  {
   "cell_type": "code",
   "execution_count": null,
   "metadata": {},
   "outputs": [],
   "source": [
    "# save model: uso un formato semplice: pkl\n",
    "pickle.dump(clf, open(\"credit-scoring.pkl\", \"wb\"))"
   ]
  },
  {
   "cell_type": "code",
   "execution_count": null,
   "metadata": {},
   "outputs": [],
   "source": [
    "# salvo anche lo scaler\n",
    "pickle.dump(scaler, open(\"scaler.pkl\", \"wb\"))"
   ]
  },
  {
   "cell_type": "markdown",
   "metadata": {},
   "source": [
    "### Online predictions"
   ]
  },
  {
   "cell_type": "code",
   "execution_count": null,
   "metadata": {},
   "outputs": [],
   "source": [
    "# reload the model\n",
    "loaded_model = pickle.load(open(\"credit-scoring.pkl\", \"rb\"))"
   ]
  },
  {
   "cell_type": "code",
   "execution_count": null,
   "metadata": {},
   "outputs": [],
   "source": [
    "# reload the scaler\n",
    "loaded_scaler = pickle.load(open(\"scaler.pkl\", \"rb\"))"
   ]
  },
  {
   "cell_type": "code",
   "execution_count": null,
   "metadata": {},
   "outputs": [],
   "source": [
    "# check\n",
    "type(loaded_scaler)"
   ]
  },
  {
   "cell_type": "code",
   "execution_count": null,
   "metadata": {},
   "outputs": [],
   "source": [
    "# prepare for online predictions\n",
    "# input are given as a numpy array, with no missing fields, but we need to add the two indicator columns\n",
    "x_input = np.array([[1,2,3,4,5,6,7,8,9,10],\n",
    "                   [1,2,3,4,5,6,7,8,9,10],\n",
    "                   [1,2,3,4,5,6,7,8,9,10]])"
   ]
  },
  {
   "cell_type": "code",
   "execution_count": null,
   "metadata": {},
   "outputs": [],
   "source": [
    "# controlli\n",
    "assert x_input.shape[1] == 10\n",
    "# check there are no null\n",
    "assert np.sum(np.isnan(x_input)) == 0"
   ]
  },
  {
   "cell_type": "code",
   "execution_count": null,
   "metadata": {},
   "outputs": [],
   "source": [
    "# normalize\n",
    "x_input_scaled = loaded_scaler.transform(x_input)\n",
    "# add two columns with 0\n",
    "x_add = np.zeros((x_input.shape[0], 2))\n",
    "x_input_scaled = np.c_[x_input_scaled, x_add]"
   ]
  },
  {
   "cell_type": "code",
   "execution_count": null,
   "metadata": {},
   "outputs": [],
   "source": [
    "y_pred = loaded_model.predict(x_input_scaled)"
   ]
  },
  {
   "cell_type": "code",
   "execution_count": null,
   "metadata": {},
   "outputs": [],
   "source": [
    "y_pred"
   ]
  },
  {
   "cell_type": "code",
   "execution_count": null,
   "metadata": {},
   "outputs": [],
   "source": [
    "train_df[TARGET].hist();"
   ]
  },
  {
   "cell_type": "code",
   "execution_count": null,
   "metadata": {},
   "outputs": [],
   "source": []
  }
 ],
 "metadata": {
  "kernelspec": {
   "display_name": "Python 3",
   "language": "python",
   "name": "python3"
  },
  "language_info": {
   "codemirror_mode": {
    "name": "ipython",
    "version": 3
   },
   "file_extension": ".py",
   "mimetype": "text/x-python",
   "name": "python",
   "nbconvert_exporter": "python",
   "pygments_lexer": "ipython3",
   "version": "3.7.10"
  }
 },
 "nbformat": 4,
 "nbformat_minor": 4
}
