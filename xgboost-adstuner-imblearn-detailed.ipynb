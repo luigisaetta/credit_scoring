{
 "cells": [
  {
   "cell_type": "markdown",
   "metadata": {},
   "source": [
    "### XGBoost with ADSTuner for HPO\n",
    "\n",
    "* Imblearn for undersampling of negative class\n",
    "* ADSTuner for HPO\n",
    "* tuning on more parameters"
   ]
  },
  {
   "cell_type": "code",
   "execution_count": 64,
   "metadata": {},
   "outputs": [],
   "source": [
    "import pandas as pd\n",
    "import numpy as np\n",
    "import xgboost as xgb\n",
    "\n",
    "import ads\n",
    "\n",
    "# to use ADSTuner\n",
    "from ads.hpo.search_cv import ADSTuner\n",
    "from ads.hpo.stopping_criterion import *\n",
    "from ads.hpo.distributions import *\n",
    "\n",
    "from xgboost import XGBClassifier\n",
    "from sklearn.metrics import accuracy_score, confusion_matrix, ConfusionMatrixDisplay\n",
    "\n",
    "# for undersampling the negative class\n",
    "from imblearn.under_sampling import RandomUnderSampler\n",
    "\n",
    "import matplotlib.pyplot as plt\n",
    "\n",
    "# my utils.py\n",
    "from utils import train_encoders, apply_encoders\n",
    "\n",
    "import pickle\n",
    "\n",
    "%matplotlib inline"
   ]
  },
  {
   "cell_type": "code",
   "execution_count": 2,
   "metadata": {},
   "outputs": [
    {
     "name": "stdout",
     "output_type": "stream",
     "text": [
      "2.5.4\n"
     ]
    }
   ],
   "source": [
    "# check the ADS version\n",
    "print(ads.__version__)"
   ]
  },
  {
   "cell_type": "code",
   "execution_count": 3,
   "metadata": {},
   "outputs": [],
   "source": [
    "# global constants\n",
    "SEED = 4321\n",
    "\n",
    "# number of features (with the two indicator cols)\n",
    "N_FEATURES = 12\n",
    "\n",
    "# name of col with label\n",
    "TARGET = 'SeriousDlqin2yrs'\n",
    "\n",
    "# cols with missing values\n",
    "COL1_MISSING = 'MonthlyIncome'\n",
    "COL2_MISSING = 'NumberOfDependents'\n",
    "\n",
    "# nomi delle due colonne indicator (valgono 1 laddove il dato è inputato)\n",
    "IND1 = 'isna_mi'\n",
    "IND2 = 'isna_nod'\n",
    "\n",
    "ind_col = [IND1, IND2]\n",
    "\n",
    "COLS_TO_DROP = ['id']\n",
    "\n",
    "# for undersampling to make the dataset more balanced\n",
    "# ratio minority samples/majority\n",
    "RATIO = 1./5."
   ]
  },
  {
   "cell_type": "code",
   "execution_count": 4,
   "metadata": {},
   "outputs": [],
   "source": [
    "# full dataset, not undersampled\n",
    "data_full = pd.read_csv('cs-training-nonull.csv')\n",
    "\n",
    "# remove unneeded cols\n",
    "data_full = data_full.drop(COLS_TO_DROP, axis = 1)"
   ]
  },
  {
   "cell_type": "code",
   "execution_count": 5,
   "metadata": {},
   "outputs": [],
   "source": [
    "cat_cols = ['age','NumberOfTime30-59DaysPastDueNotWorse',\n",
    "               'NumberOfOpenCreditLinesAndLoans', 'NumberOfTimes90DaysLate',\n",
    "               'NumberRealEstateLoansOrLines', 'NumberOfTime60-89DaysPastDueNotWorse',\n",
    "               'NumberOfDependents']\n",
    "num_cols = ['RevolvingUtilizationOfUnsecuredLines', 'DebtRatio', 'MonthlyIncome', ]\n",
    "\n",
    "# indicators are not touched"
   ]
  },
  {
   "cell_type": "code",
   "execution_count": 6,
   "metadata": {},
   "outputs": [],
   "source": [
    "# scaling and label encoding is done on data_full. After we will do resampling\n",
    "# In this way coding and scaling cover entire range of values, not only for resampled data\n",
    "\n",
    "# we don't need any scaling (it is ensambles of trees)"
   ]
  },
  {
   "cell_type": "code",
   "execution_count": 7,
   "metadata": {},
   "outputs": [],
   "source": [
    "# cat cols treatment\n",
    "# Code categorical columns (only season, weather, year)\n",
    "\n",
    "# we don't need any pre-processing for cat columns\n",
    "\n",
    "# so for XGBoost afpret Nan treatment no other pre-processing is needed"
   ]
  },
  {
   "cell_type": "code",
   "execution_count": 8,
   "metadata": {},
   "outputs": [],
   "source": [
    "# estrae X: matrice features ed y, labels\n",
    "y_train_full = data_full[TARGET].values\n",
    "x_train_full = data_full.drop(TARGET, axis = 1).values\n",
    "\n",
    "assert x_train_full.shape[1] == N_FEATURES"
   ]
  },
  {
   "cell_type": "code",
   "execution_count": 9,
   "metadata": {},
   "outputs": [
    {
     "name": "stdout",
     "output_type": "stream",
     "text": [
      "# of samples in full dataset: 150000\n"
     ]
    }
   ],
   "source": [
    "print(f'# of samples in full dataset: {x_train_full.shape[0]}')"
   ]
  },
  {
   "cell_type": "code",
   "execution_count": 10,
   "metadata": {},
   "outputs": [
    {
     "name": "stdout",
     "output_type": "stream",
     "text": [
      "# of samples in resampled dataset: 60156\n",
      "# of positive samples: 10026\n",
      "# of negative samples: 50130\n"
     ]
    }
   ],
   "source": [
    "# do the undersampling of the negative class, using IMblearn\n",
    "rus = RandomUnderSampler(sampling_strategy=RATIO, random_state=SEED)\n",
    "\n",
    "x_train, y_train = rus.fit_resample(x_train_full, y_train_full)\n",
    "\n",
    "print(f'# of samples in resampled dataset: {x_train.shape[0]}')\n",
    "\n",
    "# check ratio of classes\n",
    "print(f'# of positive samples: {np.sum(y_train)}')\n",
    "print(f'# of negative samples: {x_train.shape[0] - np.sum(y_train)}')"
   ]
  },
  {
   "cell_type": "markdown",
   "metadata": {},
   "source": [
    "The resampled dataset (x_train, y_train) will be used for training"
   ]
  },
  {
   "cell_type": "markdown",
   "metadata": {},
   "source": [
    "### Train the XGBoost Classifier"
   ]
  },
  {
   "cell_type": "code",
   "execution_count": 11,
   "metadata": {},
   "outputs": [],
   "source": [
    "# parameters for the HPO session with Optuna\n",
    "FOLDS = 5\n",
    "SEED = 4321\n",
    "\n",
    "N_TRIALS = 100\n",
    "TIME_BUDGET = 7200\n",
    "STUDY_NAME = \"xgb01\"\n",
    "\n",
    "# ranges\n",
    "LR_LOW = 1e-3\n",
    "LR_HIGH = 1e-2\n",
    "DEPTH_LOW = 3\n",
    "DEPTH_HIGH = 7\n",
    "N_ITER_LIST = [1000, 1100, 1200, 1300, 1400, 1500]\n",
    "GAMMA_LOW = 0.1\n",
    "GAMMA_HIGH = 5\n",
    "SUBSAMPLE_LOW = 0.1\n",
    "SUBSAMPLE_HIGH = 1."
   ]
  },
  {
   "cell_type": "code",
   "execution_count": 12,
   "metadata": {},
   "outputs": [
    {
     "name": "stderr",
     "output_type": "stream",
     "text": [
      "\u001b[32m[I 2022-03-15 14:26:09,984]\u001b[0m A new study created in RDB with name: xgb01\u001b[0m\n"
     ]
    }
   ],
   "source": [
    "#\n",
    "# Here we define the strategy, the space for hyper-parameters we want to explore\n",
    "#\n",
    "params = {\n",
    "    \"n_estimators\": CategoricalDistribution(N_ITER_LIST),\n",
    "    \"learning_rate\": LogUniformDistribution(low=LR_LOW, high=LR_HIGH),\n",
    "    \"max_depth\": IntUniformDistribution(DEPTH_LOW, DEPTH_HIGH),\n",
    "    \"gamma\" : LogUniformDistribution(low=GAMMA_LOW, high=GAMMA_HIGH),\n",
    "    \"subsample\" : UniformDistribution(low=SUBSAMPLE_LOW, high=SUBSAMPLE_HIGH),\n",
    "    \"tree_method\": \"gpu_hist\"\n",
    "}\n",
    "\n",
    "clf = xgb.XGBClassifier()\n",
    "\n",
    "\n",
    "# per lista scorer sorted(sklearn.metrics.SCORERS.keys())\n",
    "tuner = ADSTuner(clf, cv=FOLDS, strategy=params, scoring=\"roc_auc\", study_name=STUDY_NAME, n_jobs=8, random_state=SEED)\n",
    "\n",
    "tuner.tune(x_train, y_train, exit_criterion=[TimeBudget(TIME_BUDGET)])"
   ]
  },
  {
   "cell_type": "code",
   "execution_count": 58,
   "metadata": {},
   "outputs": [
    {
     "name": "stdout",
     "output_type": "stream",
     "text": [
      "The tuner status is: State.COMPLETED\n",
      "Remaining time is: 0 sec.\n"
     ]
    }
   ],
   "source": [
    "# get the status to see if completed\n",
    "print(f\"The tuner status is: {tuner.get_status()}\")\n",
    "\n",
    "print(f\"Remaining time is: {round(tuner.time_remaining, 1)} sec.\")"
   ]
  },
  {
   "cell_type": "code",
   "execution_count": 59,
   "metadata": {},
   "outputs": [
    {
     "data": {
      "text/html": [
       "<div>\n",
       "<style scoped>\n",
       "    .dataframe tbody tr th:only-of-type {\n",
       "        vertical-align: middle;\n",
       "    }\n",
       "\n",
       "    .dataframe tbody tr th {\n",
       "        vertical-align: top;\n",
       "    }\n",
       "\n",
       "    .dataframe thead th {\n",
       "        text-align: right;\n",
       "    }\n",
       "</style>\n",
       "<table border=\"1\" class=\"dataframe\">\n",
       "  <thead>\n",
       "    <tr style=\"text-align: right;\">\n",
       "      <th></th>\n",
       "      <th>number</th>\n",
       "      <th>value</th>\n",
       "      <th>datetime_start</th>\n",
       "      <th>datetime_complete</th>\n",
       "      <th>duration</th>\n",
       "      <th>params_gamma</th>\n",
       "      <th>params_learning_rate</th>\n",
       "      <th>params_max_depth</th>\n",
       "      <th>params_n_estimators</th>\n",
       "      <th>params_subsample</th>\n",
       "      <th>...</th>\n",
       "      <th>user_attrs_metric</th>\n",
       "      <th>user_attrs_split0_test_score</th>\n",
       "      <th>user_attrs_split1_test_score</th>\n",
       "      <th>user_attrs_split2_test_score</th>\n",
       "      <th>user_attrs_split3_test_score</th>\n",
       "      <th>user_attrs_split4_test_score</th>\n",
       "      <th>user_attrs_std_fit_time</th>\n",
       "      <th>user_attrs_std_score_time</th>\n",
       "      <th>user_attrs_std_test_score</th>\n",
       "      <th>state</th>\n",
       "    </tr>\n",
       "  </thead>\n",
       "  <tbody>\n",
       "    <tr>\n",
       "      <th>632</th>\n",
       "      <td>632</td>\n",
       "      <td>0.866993</td>\n",
       "      <td>2022-03-15 16:04:10.960568</td>\n",
       "      <td>2022-03-15 16:05:25.068688</td>\n",
       "      <td>0 days 00:01:14.108120</td>\n",
       "      <td>0.700784</td>\n",
       "      <td>0.008390</td>\n",
       "      <td>4</td>\n",
       "      <td>1500</td>\n",
       "      <td>0.117467</td>\n",
       "      <td>...</td>\n",
       "      <td>roc_auc</td>\n",
       "      <td>0.866174</td>\n",
       "      <td>0.862284</td>\n",
       "      <td>0.866723</td>\n",
       "      <td>0.866212</td>\n",
       "      <td>0.873570</td>\n",
       "      <td>0.070236</td>\n",
       "      <td>0.003321</td>\n",
       "      <td>0.003655</td>\n",
       "      <td>COMPLETE</td>\n",
       "    </tr>\n",
       "    <tr>\n",
       "      <th>458</th>\n",
       "      <td>458</td>\n",
       "      <td>0.866990</td>\n",
       "      <td>2022-03-15 15:37:13.006136</td>\n",
       "      <td>2022-03-15 15:38:29.168274</td>\n",
       "      <td>0 days 00:01:16.162138</td>\n",
       "      <td>0.409126</td>\n",
       "      <td>0.007659</td>\n",
       "      <td>4</td>\n",
       "      <td>1500</td>\n",
       "      <td>0.110838</td>\n",
       "      <td>...</td>\n",
       "      <td>roc_auc</td>\n",
       "      <td>0.866183</td>\n",
       "      <td>0.862387</td>\n",
       "      <td>0.866566</td>\n",
       "      <td>0.866149</td>\n",
       "      <td>0.873665</td>\n",
       "      <td>0.379592</td>\n",
       "      <td>0.008393</td>\n",
       "      <td>0.003668</td>\n",
       "      <td>COMPLETE</td>\n",
       "    </tr>\n",
       "    <tr>\n",
       "      <th>689</th>\n",
       "      <td>689</td>\n",
       "      <td>0.866976</td>\n",
       "      <td>2022-03-15 16:12:31.022762</td>\n",
       "      <td>2022-03-15 16:13:42.820140</td>\n",
       "      <td>0 days 00:01:11.797378</td>\n",
       "      <td>2.424337</td>\n",
       "      <td>0.008471</td>\n",
       "      <td>4</td>\n",
       "      <td>1500</td>\n",
       "      <td>0.117470</td>\n",
       "      <td>...</td>\n",
       "      <td>roc_auc</td>\n",
       "      <td>0.866212</td>\n",
       "      <td>0.862263</td>\n",
       "      <td>0.866722</td>\n",
       "      <td>0.866140</td>\n",
       "      <td>0.873546</td>\n",
       "      <td>0.115466</td>\n",
       "      <td>0.001781</td>\n",
       "      <td>0.003653</td>\n",
       "      <td>COMPLETE</td>\n",
       "    </tr>\n",
       "    <tr>\n",
       "      <th>454</th>\n",
       "      <td>454</td>\n",
       "      <td>0.866960</td>\n",
       "      <td>2022-03-15 15:36:44.578812</td>\n",
       "      <td>2022-03-15 15:37:58.977035</td>\n",
       "      <td>0 days 00:01:14.398223</td>\n",
       "      <td>0.411172</td>\n",
       "      <td>0.008502</td>\n",
       "      <td>4</td>\n",
       "      <td>1500</td>\n",
       "      <td>0.112376</td>\n",
       "      <td>...</td>\n",
       "      <td>roc_auc</td>\n",
       "      <td>0.865887</td>\n",
       "      <td>0.862440</td>\n",
       "      <td>0.866563</td>\n",
       "      <td>0.866322</td>\n",
       "      <td>0.873589</td>\n",
       "      <td>0.106448</td>\n",
       "      <td>0.001292</td>\n",
       "      <td>0.003636</td>\n",
       "      <td>COMPLETE</td>\n",
       "    </tr>\n",
       "    <tr>\n",
       "      <th>287</th>\n",
       "      <td>287</td>\n",
       "      <td>0.866925</td>\n",
       "      <td>2022-03-15 15:11:33.397899</td>\n",
       "      <td>2022-03-15 15:12:40.018780</td>\n",
       "      <td>0 days 00:01:06.620881</td>\n",
       "      <td>0.492040</td>\n",
       "      <td>0.008455</td>\n",
       "      <td>4</td>\n",
       "      <td>1400</td>\n",
       "      <td>0.117600</td>\n",
       "      <td>...</td>\n",
       "      <td>roc_auc</td>\n",
       "      <td>0.866046</td>\n",
       "      <td>0.862187</td>\n",
       "      <td>0.866608</td>\n",
       "      <td>0.866027</td>\n",
       "      <td>0.873758</td>\n",
       "      <td>0.113904</td>\n",
       "      <td>0.002878</td>\n",
       "      <td>0.003763</td>\n",
       "      <td>COMPLETE</td>\n",
       "    </tr>\n",
       "    <tr>\n",
       "      <th>564</th>\n",
       "      <td>564</td>\n",
       "      <td>0.866919</td>\n",
       "      <td>2022-03-15 15:51:53.259272</td>\n",
       "      <td>2022-03-15 15:53:03.572120</td>\n",
       "      <td>0 days 00:01:10.312848</td>\n",
       "      <td>0.634974</td>\n",
       "      <td>0.007761</td>\n",
       "      <td>4</td>\n",
       "      <td>1500</td>\n",
       "      <td>0.117599</td>\n",
       "      <td>...</td>\n",
       "      <td>roc_auc</td>\n",
       "      <td>0.866076</td>\n",
       "      <td>0.862603</td>\n",
       "      <td>0.866481</td>\n",
       "      <td>0.865988</td>\n",
       "      <td>0.873446</td>\n",
       "      <td>0.720901</td>\n",
       "      <td>0.001339</td>\n",
       "      <td>0.003549</td>\n",
       "      <td>COMPLETE</td>\n",
       "    </tr>\n",
       "    <tr>\n",
       "      <th>400</th>\n",
       "      <td>400</td>\n",
       "      <td>0.866918</td>\n",
       "      <td>2022-03-15 15:28:24.922409</td>\n",
       "      <td>2022-03-15 15:29:39.353112</td>\n",
       "      <td>0 days 00:01:14.430703</td>\n",
       "      <td>0.651275</td>\n",
       "      <td>0.008343</td>\n",
       "      <td>4</td>\n",
       "      <td>1500</td>\n",
       "      <td>0.117284</td>\n",
       "      <td>...</td>\n",
       "      <td>roc_auc</td>\n",
       "      <td>0.866261</td>\n",
       "      <td>0.862142</td>\n",
       "      <td>0.866572</td>\n",
       "      <td>0.865895</td>\n",
       "      <td>0.873716</td>\n",
       "      <td>0.080520</td>\n",
       "      <td>0.002193</td>\n",
       "      <td>0.003758</td>\n",
       "      <td>COMPLETE</td>\n",
       "    </tr>\n",
       "    <tr>\n",
       "      <th>451</th>\n",
       "      <td>451</td>\n",
       "      <td>0.866914</td>\n",
       "      <td>2022-03-15 15:35:58.992805</td>\n",
       "      <td>2022-03-15 15:37:13.319584</td>\n",
       "      <td>0 days 00:01:14.326779</td>\n",
       "      <td>0.399753</td>\n",
       "      <td>0.008491</td>\n",
       "      <td>4</td>\n",
       "      <td>1500</td>\n",
       "      <td>0.112311</td>\n",
       "      <td>...</td>\n",
       "      <td>roc_auc</td>\n",
       "      <td>0.865881</td>\n",
       "      <td>0.862446</td>\n",
       "      <td>0.866359</td>\n",
       "      <td>0.866245</td>\n",
       "      <td>0.873637</td>\n",
       "      <td>0.207335</td>\n",
       "      <td>0.002506</td>\n",
       "      <td>0.003660</td>\n",
       "      <td>COMPLETE</td>\n",
       "    </tr>\n",
       "    <tr>\n",
       "      <th>562</th>\n",
       "      <td>562</td>\n",
       "      <td>0.866910</td>\n",
       "      <td>2022-03-15 15:51:45.318048</td>\n",
       "      <td>2022-03-15 15:52:55.563036</td>\n",
       "      <td>0 days 00:01:10.244988</td>\n",
       "      <td>0.925434</td>\n",
       "      <td>0.007035</td>\n",
       "      <td>4</td>\n",
       "      <td>1500</td>\n",
       "      <td>0.117688</td>\n",
       "      <td>...</td>\n",
       "      <td>roc_auc</td>\n",
       "      <td>0.866013</td>\n",
       "      <td>0.862354</td>\n",
       "      <td>0.866628</td>\n",
       "      <td>0.866057</td>\n",
       "      <td>0.873497</td>\n",
       "      <td>0.569373</td>\n",
       "      <td>0.002501</td>\n",
       "      <td>0.003626</td>\n",
       "      <td>COMPLETE</td>\n",
       "    </tr>\n",
       "    <tr>\n",
       "      <th>687</th>\n",
       "      <td>687</td>\n",
       "      <td>0.866904</td>\n",
       "      <td>2022-03-15 16:12:19.303315</td>\n",
       "      <td>2022-03-15 16:13:31.797073</td>\n",
       "      <td>0 days 00:01:12.493758</td>\n",
       "      <td>2.394430</td>\n",
       "      <td>0.008625</td>\n",
       "      <td>4</td>\n",
       "      <td>1500</td>\n",
       "      <td>0.117505</td>\n",
       "      <td>...</td>\n",
       "      <td>roc_auc</td>\n",
       "      <td>0.866063</td>\n",
       "      <td>0.862194</td>\n",
       "      <td>0.866685</td>\n",
       "      <td>0.866116</td>\n",
       "      <td>0.873462</td>\n",
       "      <td>0.155981</td>\n",
       "      <td>0.006770</td>\n",
       "      <td>0.003649</td>\n",
       "      <td>COMPLETE</td>\n",
       "    </tr>\n",
       "  </tbody>\n",
       "</table>\n",
       "<p>10 rows × 24 columns</p>\n",
       "</div>"
      ],
      "text/plain": [
       "     number     value             datetime_start          datetime_complete  \\\n",
       "632     632  0.866993 2022-03-15 16:04:10.960568 2022-03-15 16:05:25.068688   \n",
       "458     458  0.866990 2022-03-15 15:37:13.006136 2022-03-15 15:38:29.168274   \n",
       "689     689  0.866976 2022-03-15 16:12:31.022762 2022-03-15 16:13:42.820140   \n",
       "454     454  0.866960 2022-03-15 15:36:44.578812 2022-03-15 15:37:58.977035   \n",
       "287     287  0.866925 2022-03-15 15:11:33.397899 2022-03-15 15:12:40.018780   \n",
       "564     564  0.866919 2022-03-15 15:51:53.259272 2022-03-15 15:53:03.572120   \n",
       "400     400  0.866918 2022-03-15 15:28:24.922409 2022-03-15 15:29:39.353112   \n",
       "451     451  0.866914 2022-03-15 15:35:58.992805 2022-03-15 15:37:13.319584   \n",
       "562     562  0.866910 2022-03-15 15:51:45.318048 2022-03-15 15:52:55.563036   \n",
       "687     687  0.866904 2022-03-15 16:12:19.303315 2022-03-15 16:13:31.797073   \n",
       "\n",
       "                  duration  params_gamma  params_learning_rate  \\\n",
       "632 0 days 00:01:14.108120      0.700784              0.008390   \n",
       "458 0 days 00:01:16.162138      0.409126              0.007659   \n",
       "689 0 days 00:01:11.797378      2.424337              0.008471   \n",
       "454 0 days 00:01:14.398223      0.411172              0.008502   \n",
       "287 0 days 00:01:06.620881      0.492040              0.008455   \n",
       "564 0 days 00:01:10.312848      0.634974              0.007761   \n",
       "400 0 days 00:01:14.430703      0.651275              0.008343   \n",
       "451 0 days 00:01:14.326779      0.399753              0.008491   \n",
       "562 0 days 00:01:10.244988      0.925434              0.007035   \n",
       "687 0 days 00:01:12.493758      2.394430              0.008625   \n",
       "\n",
       "     params_max_depth  params_n_estimators  params_subsample  ...  \\\n",
       "632                 4                 1500          0.117467  ...   \n",
       "458                 4                 1500          0.110838  ...   \n",
       "689                 4                 1500          0.117470  ...   \n",
       "454                 4                 1500          0.112376  ...   \n",
       "287                 4                 1400          0.117600  ...   \n",
       "564                 4                 1500          0.117599  ...   \n",
       "400                 4                 1500          0.117284  ...   \n",
       "451                 4                 1500          0.112311  ...   \n",
       "562                 4                 1500          0.117688  ...   \n",
       "687                 4                 1500          0.117505  ...   \n",
       "\n",
       "    user_attrs_metric  user_attrs_split0_test_score  \\\n",
       "632           roc_auc                      0.866174   \n",
       "458           roc_auc                      0.866183   \n",
       "689           roc_auc                      0.866212   \n",
       "454           roc_auc                      0.865887   \n",
       "287           roc_auc                      0.866046   \n",
       "564           roc_auc                      0.866076   \n",
       "400           roc_auc                      0.866261   \n",
       "451           roc_auc                      0.865881   \n",
       "562           roc_auc                      0.866013   \n",
       "687           roc_auc                      0.866063   \n",
       "\n",
       "     user_attrs_split1_test_score  user_attrs_split2_test_score  \\\n",
       "632                      0.862284                      0.866723   \n",
       "458                      0.862387                      0.866566   \n",
       "689                      0.862263                      0.866722   \n",
       "454                      0.862440                      0.866563   \n",
       "287                      0.862187                      0.866608   \n",
       "564                      0.862603                      0.866481   \n",
       "400                      0.862142                      0.866572   \n",
       "451                      0.862446                      0.866359   \n",
       "562                      0.862354                      0.866628   \n",
       "687                      0.862194                      0.866685   \n",
       "\n",
       "    user_attrs_split3_test_score  user_attrs_split4_test_score  \\\n",
       "632                     0.866212                      0.873570   \n",
       "458                     0.866149                      0.873665   \n",
       "689                     0.866140                      0.873546   \n",
       "454                     0.866322                      0.873589   \n",
       "287                     0.866027                      0.873758   \n",
       "564                     0.865988                      0.873446   \n",
       "400                     0.865895                      0.873716   \n",
       "451                     0.866245                      0.873637   \n",
       "562                     0.866057                      0.873497   \n",
       "687                     0.866116                      0.873462   \n",
       "\n",
       "     user_attrs_std_fit_time  user_attrs_std_score_time  \\\n",
       "632                 0.070236                   0.003321   \n",
       "458                 0.379592                   0.008393   \n",
       "689                 0.115466                   0.001781   \n",
       "454                 0.106448                   0.001292   \n",
       "287                 0.113904                   0.002878   \n",
       "564                 0.720901                   0.001339   \n",
       "400                 0.080520                   0.002193   \n",
       "451                 0.207335                   0.002506   \n",
       "562                 0.569373                   0.002501   \n",
       "687                 0.155981                   0.006770   \n",
       "\n",
       "     user_attrs_std_test_score     state  \n",
       "632                   0.003655  COMPLETE  \n",
       "458                   0.003668  COMPLETE  \n",
       "689                   0.003653  COMPLETE  \n",
       "454                   0.003636  COMPLETE  \n",
       "287                   0.003763  COMPLETE  \n",
       "564                   0.003549  COMPLETE  \n",
       "400                   0.003758  COMPLETE  \n",
       "451                   0.003660  COMPLETE  \n",
       "562                   0.003626  COMPLETE  \n",
       "687                   0.003649  COMPLETE  \n",
       "\n",
       "[10 rows x 24 columns]"
      ]
     },
     "execution_count": 59,
     "metadata": {},
     "output_type": "execute_result"
    }
   ],
   "source": [
    "# look only at completed trials, sorted with best on top. Metric chosen is in the value col.\n",
    "result_df = tuner.trials[tuner.trials[\"state\"] == \"COMPLETE\"].sort_values(\n",
    "    by=[\"value\"], ascending=False\n",
    ")\n",
    "\n",
    "result_df.head(10)"
   ]
  },
  {
   "cell_type": "code",
   "execution_count": 60,
   "metadata": {},
   "outputs": [
    {
     "name": "stdout",
     "output_type": "stream",
     "text": [
      "ADSTuner session results:\n",
      "ADSTuner has launched 779 trials\n",
      "ADSTuner has completed 779 trials\n",
      "\n",
      "The best trial is the #: 632\n",
      "Parameters for the best trial are: {'gamma': 0.7007836747317996, 'learning_rate': 0.008389825517656139, 'max_depth': 4, 'n_estimators': 1500, 'subsample': 0.11746700590625371, 'tree_method': 'gpu_hist'}\n",
      "The metric used to optimize is: roc_auc\n",
      "The best score is: 0.867\n"
     ]
    }
   ],
   "source": [
    "def show_tuner_results(tuner):\n",
    "\n",
    "    # to count completed\n",
    "    result_df = tuner.trials[tuner.trials[\"state\"] == \"COMPLETE\"].sort_values(\n",
    "        by=[\"value\"], ascending=False\n",
    "    )\n",
    "\n",
    "    print(\"ADSTuner session results:\")\n",
    "    print(f\"ADSTuner has launched {tuner.trials.shape[0]} trials\")\n",
    "    print(f\"ADSTuner has completed {result_df.shape[0]} trials\")\n",
    "    print()\n",
    "    print(f\"The best trial is the #: {tuner.best_index}\")\n",
    "    print(f\"Parameters for the best trial are: {tuner.best_params}\")\n",
    "    print(f\"The metric used to optimize is: {tuner.scoring_name}\")\n",
    "    print(f\"The best score is: {round(tuner.best_score, 4)}\")\n",
    "    \n",
    "show_tuner_results(tuner)"
   ]
  },
  {
   "cell_type": "markdown",
   "metadata": {},
   "source": [
    "### Train with best params"
   ]
  },
  {
   "cell_type": "code",
   "execution_count": 61,
   "metadata": {},
   "outputs": [
    {
     "name": "stdout",
     "output_type": "stream",
     "text": [
      "[0]\tvalidation_0-auc:0.82164\n",
      "[100]\tvalidation_0-auc:0.85831\n",
      "[200]\tvalidation_0-auc:0.86125\n",
      "[300]\tvalidation_0-auc:0.86423\n",
      "[400]\tvalidation_0-auc:0.86645\n",
      "[500]\tvalidation_0-auc:0.86841\n",
      "[600]\tvalidation_0-auc:0.86985\n",
      "[700]\tvalidation_0-auc:0.87096\n",
      "[800]\tvalidation_0-auc:0.87184\n",
      "[900]\tvalidation_0-auc:0.87264\n",
      "[1000]\tvalidation_0-auc:0.87343\n",
      "[1100]\tvalidation_0-auc:0.87408\n",
      "[1200]\tvalidation_0-auc:0.87467\n",
      "[1300]\tvalidation_0-auc:0.87522\n",
      "[1400]\tvalidation_0-auc:0.87574\n",
      "[1499]\tvalidation_0-auc:0.87637\n",
      "\n",
      "CPU times: user 2.9 s, sys: 704 ms, total: 3.6 s\n",
      "Wall time: 3.36 s\n"
     ]
    }
   ],
   "source": [
    "%%time\n",
    "\n",
    "clf = xgb.XGBClassifier(**tuner.best_params)\n",
    "\n",
    "# addestro e valuto su train e su validation set\n",
    "clf.fit(x_train, y_train,\n",
    "        eval_set=[(x_train, y_train)],\n",
    "        eval_metric='auc', verbose=100)\n",
    "\n",
    "print()\n",
    "\n",
    "evals_result = clf.evals_result()"
   ]
  },
  {
   "cell_type": "markdown",
   "metadata": {},
   "source": [
    "#### OK, consider that the slightly higher AUC is due to the fact here we're evaluating also on train data"
   ]
  },
  {
   "cell_type": "code",
   "execution_count": null,
   "metadata": {},
   "outputs": [],
   "source": [
    "def plot_auc(train_hist):\n",
    "    plt.figure(figsize=(9,6))\n",
    "    \n",
    "    plt.plot(train_hist, label='Training AUC')\n",
    "    plt.title('AUC')\n",
    "    plt.legend(loc='lower right')\n",
    "    plt.ylabel('auc')\n",
    "    plt.xlabel('n_estimator')\n",
    "    plt.grid(True)\n",
    "    plt.show();"
   ]
  },
  {
   "cell_type": "code",
   "execution_count": null,
   "metadata": {},
   "outputs": [],
   "source": [
    "train_hist = evals_result['validation_0']['auc']\n",
    "\n",
    "plot_auc(train_hist)"
   ]
  },
  {
   "cell_type": "code",
   "execution_count": 62,
   "metadata": {},
   "outputs": [
    {
     "name": "stdout",
     "output_type": "stream",
     "text": [
      "Accuracy on train set: 92.68%\n"
     ]
    }
   ],
   "source": [
    "# compute accuracy on full dataset\n",
    "y_pred = clf.predict(x_train_full)\n",
    "\n",
    "predictions = [round(value) for value in y_pred]\n",
    "\n",
    "accuracy = accuracy_score(y_train_full, predictions)\n",
    "\n",
    "print(\"Accuracy on train set: %.2f%%\" % (accuracy * 100.0))"
   ]
  },
  {
   "cell_type": "code",
   "execution_count": 74,
   "metadata": {},
   "outputs": [
    {
     "data": {
      "image/png": "[encoded data removed]",
      "text/plain": [
       "<Figure size 432x288 with 2 Axes>"
      ]
     },
     "metadata": {
      "needs_background": "light"
     },
     "output_type": "display_data"
    }
   ],
   "source": [
    "# compute confusion matrix on full dataset\n",
    "cm = confusion_matrix(y_train_full, predictions)\n",
    "\n",
    "# plot the confusion matrix\n",
    "disp = ConfusionMatrixDisplay(confusion_matrix=cm)\n",
    "\n",
    "disp.plot();"
   ]
  },
  {
   "cell_type": "code",
   "execution_count": null,
   "metadata": {},
   "outputs": [],
   "source": [
    "# the number of FN is rather high"
   ]
  },
  {
   "cell_type": "markdown",
   "metadata": {},
   "source": [
    "### Prediction on the TEST set (for submission to Kaggle)"
   ]
  },
  {
   "cell_type": "code",
   "execution_count": null,
   "metadata": {},
   "outputs": [],
   "source": [
    "# predictions on test set\n",
    "orig_test = pd.read_csv('cs-test.csv')\n",
    "\n",
    "# inpute missing values, add the two indicator columns\n",
    "orig_test['isna_mi'] = 0\n",
    "orig_test.loc[orig_test[COL1_MISSING].isna(), 'isna_mi'] = 1\n",
    "orig_test.loc[orig_test[COL1_MISSING].isna(), COL1_MISSING] = MONTHLY_INC_MEDIAN\n",
    "\n",
    "orig_test['isna_nod'] = 0\n",
    "orig_test.loc[orig_test[COL2_MISSING].isna(), 'isna_nod'] = 1\n",
    "orig_test.loc[orig_test[COL2_MISSING].isna(), COL2_MISSING] = N_OF_DEP_MODE"
   ]
  },
  {
   "cell_type": "code",
   "execution_count": null,
   "metadata": {},
   "outputs": [],
   "source": [
    "ind_test = orig_test[ind_col].values"
   ]
  },
  {
   "cell_type": "code",
   "execution_count": null,
   "metadata": {},
   "outputs": [],
   "source": [
    "orig_test = orig_test.drop(ind_col, axis = 1)"
   ]
  },
  {
   "cell_type": "code",
   "execution_count": null,
   "metadata": {},
   "outputs": [],
   "source": [
    "ID_COL_NAME = 'Unnamed: 0'\n",
    "xorig_test = orig_test.drop(ID_COL_NAME, axis = 1)\n",
    "xorig_test = xorig_test.drop(TARGET, axis = 1)\n",
    "\n",
    "x_test = xorig_test.values"
   ]
  },
  {
   "cell_type": "code",
   "execution_count": null,
   "metadata": {},
   "outputs": [],
   "source": [
    "# aggiungi qui lo scaling !!!\n",
    "x_test_scaled = scaler.transform(x_test)\n",
    "# riaggiunge le colonne indicatore\n",
    "x_test_scaled = np.c_[x_test_scaled, ind_test]\n",
    "\n",
    "assert x_test_scaled.shape[1] == N_FEATURES"
   ]
  },
  {
   "cell_type": "code",
   "execution_count": null,
   "metadata": {},
   "outputs": [],
   "source": [
    "# do predictions on test set (no shuffle !)\n",
    "y_pred = clf.predict_proba(x_test_scaled)\n",
    "\n",
    "# y_pred contiene le probabilità\n",
    "y_pred = y_pred[:, 1]"
   ]
  },
  {
   "cell_type": "code",
   "execution_count": null,
   "metadata": {},
   "outputs": [],
   "source": [
    "# prepara il csv per la submission\n",
    "result_dict = {\"Id\": orig_test[ID_COL_NAME].values,\n",
    "              'Probability': y_pred}\n",
    "\n",
    "FILE_SUB = 'submission25.csv'\n",
    "\n",
    "# build a dataframe and save to csv\n",
    "result_df = pd.DataFrame(result_dict)\n",
    "\n",
    "result_df.to_csv(FILE_SUB, index=False, float_format='%.5f')"
   ]
  },
  {
   "cell_type": "code",
   "execution_count": null,
   "metadata": {},
   "outputs": [],
   "source": [
    "### Save Modela and scaler"
   ]
  },
  {
   "cell_type": "code",
   "execution_count": null,
   "metadata": {},
   "outputs": [],
   "source": [
    "# save model: uso un formato semplice: pkl\n",
    "pickle.dump(clf, open(\"credit-scoring.pkl\", \"wb\"))"
   ]
  },
  {
   "cell_type": "code",
   "execution_count": null,
   "metadata": {},
   "outputs": [],
   "source": [
    "# salvo anche lo scaler\n",
    "pickle.dump(scaler, open(\"scaler.pkl\", \"wb\"))"
   ]
  },
  {
   "cell_type": "markdown",
   "metadata": {},
   "source": [
    "### Online predictions"
   ]
  },
  {
   "cell_type": "code",
   "execution_count": null,
   "metadata": {},
   "outputs": [],
   "source": [
    "# reload the model\n",
    "loaded_model = pickle.load(open(\"credit-scoring.pkl\", \"rb\"))"
   ]
  },
  {
   "cell_type": "code",
   "execution_count": null,
   "metadata": {},
   "outputs": [],
   "source": [
    "# reload the scaler\n",
    "loaded_scaler = pickle.load(open(\"scaler.pkl\", \"rb\"))"
   ]
  },
  {
   "cell_type": "code",
   "execution_count": null,
   "metadata": {},
   "outputs": [],
   "source": [
    "# prepare for online predictions\n",
    "# input are given as a numpy array, with no missing fields, but we need to add the two indicator columns\n",
    "x_input = np.array([[1,2,3,4,5,6,7,8,9,10],\n",
    "                   [1,2,3,4,5,6,7,8,9,10],\n",
    "                   [1,2,3,4,5,6,7,8,9,10]])"
   ]
  },
  {
   "cell_type": "code",
   "execution_count": null,
   "metadata": {},
   "outputs": [],
   "source": [
    "# controlli\n",
    "assert x_input.shape[1] == 10\n",
    "# check there are no null\n",
    "assert np.sum(np.isnan(x_input)) == 0"
   ]
  },
  {
   "cell_type": "code",
   "execution_count": null,
   "metadata": {},
   "outputs": [],
   "source": [
    "# normalize\n",
    "x_input_scaled = loaded_scaler.transform(x_input)\n",
    "\n",
    "# add two columns with 0\n",
    "x_add = np.zeros((x_input.shape[0], 2))\n",
    "x_input_scaled = np.c_[x_input_scaled, x_add]"
   ]
  },
  {
   "cell_type": "code",
   "execution_count": null,
   "metadata": {},
   "outputs": [],
   "source": [
    "y_pred = loaded_model.predict(x_input_scaled)"
   ]
  },
  {
   "cell_type": "code",
   "execution_count": null,
   "metadata": {},
   "outputs": [],
   "source": [
    "y_pred"
   ]
  },
  {
   "cell_type": "code",
   "execution_count": null,
   "metadata": {},
   "outputs": [],
   "source": [
    "train_df[TARGET].hist();"
   ]
  },
  {
   "cell_type": "code",
   "execution_count": null,
   "metadata": {},
   "outputs": [],
   "source": []
  }
 ],
 "metadata": {
  "kernelspec": {
   "display_name": "Python [conda env:generalml_p37_gpu_v1]",
   "language": "python",
   "name": "conda-env-generalml_p37_gpu_v1-py"
  },
  "language_info": {
   "codemirror_mode": {
    "name": "ipython",
    "version": 3
   },
   "file_extension": ".py",
   "mimetype": "text/x-python",
   "name": "python",
   "nbconvert_exporter": "python",
   "pygments_lexer": "ipython3",
   "version": "3.7.12"
  }
 },
 "nbformat": 4,
 "nbformat_minor": 4
}
