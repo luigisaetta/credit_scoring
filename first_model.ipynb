{
 "cells": [
  {
   "cell_type": "code",
   "execution_count": 1,
   "metadata": {},
   "outputs": [],
   "source": [
    "import numpy as np\n",
    "import pandas as pd\n",
    "import matplotlib.pyplot as plt\n",
    "import seaborn as sns\n",
    "\n",
    "import tensorflow as tf\n",
    "from tensorflow.keras import layers\n",
    "\n",
    "from utils import show_dist, plot_hist_numerical, count_unique_values, show_group_stats_viz\n",
    "from utils import create_tf_numeric_feature, enable_reproducibility, split_train_valid\n",
    "from utils import df_to_dataset\n",
    "\n",
    "sns.set()\n",
    "\n",
    "import logging\n",
    "\n",
    "%load_ext autoreload\n",
    "%autoreload"
   ]
  },
  {
   "cell_type": "code",
   "execution_count": 2,
   "metadata": {},
   "outputs": [],
   "source": [
    "# OPEN ISSUE ON MAC OSX for TF model training\n",
    "import os\n",
    "os.environ['KMP_DUPLICATE_LIB_OK']='True'\n",
    "\n",
    "# to get reproducible results with TF training\n",
    "# see in student_utils\n",
    "enable_reproducibility(1234)"
   ]
  },
  {
   "cell_type": "code",
   "execution_count": 3,
   "metadata": {},
   "outputs": [],
   "source": [
    "# global constant for training\n",
    "BATCH_SIZE = 128\n",
    "EPOCHS = 30"
   ]
  },
  {
   "cell_type": "code",
   "execution_count": 4,
   "metadata": {},
   "outputs": [],
   "source": [
    "FILE = 'cs-training-nonull.csv'\n",
    "\n",
    "orig_data = pd.read_csv(FILE)"
   ]
  },
  {
   "cell_type": "code",
   "execution_count": 5,
   "metadata": {},
   "outputs": [],
   "source": [
    "# nomi di tutte le colonne\n",
    "num_cols = ['RevolvingUtilizationOfUnsecuredLines', 'age',\n",
    "       'NumberOfTime30-59DaysPastDueNotWorse', 'DebtRatio', 'MonthlyIncome',\n",
    "       'NumberOfOpenCreditLinesAndLoans', 'NumberOfTimes90DaysLate',\n",
    "       'NumberRealEstateLoansOrLines', 'NumberOfTime60-89DaysPastDueNotWorse',\n",
    "       'NumberOfDependents']\n",
    "\n",
    "cat_cols = ['isna_mi', 'isna_nod']\n",
    "\n",
    "all_cols = num_cols + cat_cols\n",
    "\n",
    "PREDICTOR_FIELD = 'SeriousDlqin2yrs'"
   ]
  },
  {
   "cell_type": "code",
   "execution_count": 6,
   "metadata": {},
   "outputs": [
    {
     "name": "stdout",
     "output_type": "stream",
     "text": [
      "Numero rec. per il training 120000\n",
      "Numero rec. per validazione 30000\n"
     ]
    }
   ],
   "source": [
    "# split in train, validation\n",
    "# return tf dataset\n",
    "ds_train, ds_valid = split_train_valid(orig_data, predictor_field=PREDICTOR_FIELD, batch_size=BATCH_SIZE)"
   ]
  },
  {
   "cell_type": "code",
   "execution_count": 7,
   "metadata": {},
   "outputs": [],
   "source": [
    "# to test\n",
    "ds_batch = next(iter(ds_train))[0]\n",
    "\n",
    "def demo(feature_column, example_batch):\n",
    "    feature_layer = layers.DenseFeatures(feature_column)\n",
    "    print(feature_layer(example_batch))"
   ]
  },
  {
   "cell_type": "code",
   "execution_count": 8,
   "metadata": {},
   "outputs": [],
   "source": [
    "def calculate_stats_from_train_data(df, col):\n",
    "    mean = df[col].describe()['mean']\n",
    "    std = df[col].describe()['std']\n",
    "    return mean, std\n",
    "\n",
    "def create_tf_numerical_feature_cols(numerical_col_list, df):\n",
    "    tf_numeric_col_list = []\n",
    "    for c in numerical_col_list:\n",
    "        mean, std = calculate_stats_from_train_data(df, c)\n",
    "\n",
    "        tf_numeric_feature = create_tf_numeric_feature(c, mean, std)\n",
    "        tf_numeric_col_list.append(tf_numeric_feature)\n",
    "    return tf_numeric_col_list\n",
    "\n",
    "# categorical columns\n",
    "# for these we dpn't normalize\n",
    "def create_tf_categorical_feature_cols(cat_col_list):\n",
    "    tf_cat_col_list = []\n",
    "    for c in cat_col_list:\n",
    "        tf_cat_feature = tf.feature_column.numeric_column(c)\n",
    "        tf_cat_col_list.append(tf_cat_feature)\n",
    "    return tf_cat_col_list"
   ]
  },
  {
   "cell_type": "code",
   "execution_count": 9,
   "metadata": {},
   "outputs": [],
   "source": [
    "tf_cont_col_list = create_tf_numerical_feature_cols(num_cols, orig_data)\n",
    "tf_cat_col_list = create_tf_categorical_feature_cols(cat_cols)\n",
    "\n",
    "# build the feature trasnformation layer (for now only continuous columns... need to add the last two columns)\n",
    "\n",
    "tf_all_list = tf_cont_col_list + tf_cat_col_list\n",
    "feature_layer = tf.keras.layers.DenseFeatures(tf_all_list, name='layer0')"
   ]
  },
  {
   "cell_type": "code",
   "execution_count": 10,
   "metadata": {},
   "outputs": [],
   "source": [
    "# added to remove TF warnings !\n",
    "logger = tf.get_logger()\n",
    "logger.setLevel(logging.ERROR)\n",
    "        \n",
    "def build_model(feature_layer, n_units):\n",
    "    model = tf.keras.Sequential([\n",
    "        feature_layer,\n",
    "        tf.keras.layers.Dense(n_units, activation='relu', name='layer1'),\n",
    "        tf.keras.layers.Dropout(0.1),\n",
    "        # I prefer same number in the layers... the NN will decide\n",
    "        tf.keras.layers.Dense(n_units, activation='relu', name='layer2'),\n",
    "        tf.keras.layers.Dropout(0.1),\n",
    "        tf.keras.layers.Dense(1, activation='sigmoid', name='layer5'),\n",
    "    ])\n",
    "    \n",
    "    model.compile(optimizer='adam', loss='binary_crossentropy', metrics=['AUC'])\n",
    "    \n",
    "    return model"
   ]
  },
  {
   "cell_type": "code",
   "execution_count": 11,
   "metadata": {},
   "outputs": [],
   "source": [
    "# non posso salvare in formato h5\n",
    "def train_evaluate(ds_train, ds_valid, trial=1):\n",
    "    model = build_model(feature_layer, n_units = 18)\n",
    "    \n",
    "    sv = tf.keras.callbacks.ModelCheckpoint('model_best', monitor='val_loss', verbose=1, save_best_only=True,\n",
    "                                            save_weights_only=True, mode='min', save_freq='epoch')\n",
    "    history = model.fit(ds_train, validation_data=ds_valid, epochs=EPOCHS, verbose=1, callbacks=[sv])\n",
    "    \n",
    "    auc = model.evaluate(ds_valid)\n",
    "    \n",
    "    return auc, history"
   ]
  },
  {
   "cell_type": "code",
   "execution_count": 12,
   "metadata": {},
   "outputs": [
    {
     "name": "stdout",
     "output_type": "stream",
     "text": [
      "Epoch 1/30\n",
      "938/938 [==============================] - 5s 4ms/step - loss: 0.3568 - auc: 0.5679 - val_loss: 0.2021 - val_auc: 0.8087\n",
      "\n",
      "Epoch 00001: val_loss improved from inf to 0.20210, saving model to model_best\n",
      "Epoch 2/30\n",
      "938/938 [==============================] - 3s 3ms/step - loss: 0.2051 - auc: 0.7914 - val_loss: 0.1951 - val_auc: 0.8239\n",
      "\n",
      "Epoch 00002: val_loss improved from 0.20210 to 0.19512, saving model to model_best\n",
      "Epoch 3/30\n",
      "938/938 [==============================] - 3s 3ms/step - loss: 0.1955 - auc: 0.8098 - val_loss: 0.1932 - val_auc: 0.8287\n",
      "\n",
      "Epoch 00003: val_loss improved from 0.19512 to 0.19325, saving model to model_best\n",
      "Epoch 4/30\n",
      "938/938 [==============================] - 3s 3ms/step - loss: 0.1927 - auc: 0.8144 - val_loss: 0.1922 - val_auc: 0.8304\n",
      "\n",
      "Epoch 00004: val_loss improved from 0.19325 to 0.19221, saving model to model_best\n",
      "Epoch 5/30\n",
      "938/938 [==============================] - 3s 3ms/step - loss: 0.1918 - auc: 0.8178 - val_loss: 0.1920 - val_auc: 0.8299\n",
      "\n",
      "Epoch 00005: val_loss improved from 0.19221 to 0.19196, saving model to model_best\n",
      "Epoch 6/30\n",
      "938/938 [==============================] - 3s 3ms/step - loss: 0.1925 - auc: 0.8121 - val_loss: 0.1915 - val_auc: 0.8303\n",
      "\n",
      "Epoch 00006: val_loss improved from 0.19196 to 0.19151, saving model to model_best\n",
      "Epoch 7/30\n",
      "938/938 [==============================] - 3s 3ms/step - loss: 0.1899 - auc: 0.8210 - val_loss: 0.1923 - val_auc: 0.8312\n",
      "\n",
      "Epoch 00007: val_loss did not improve from 0.19151\n",
      "Epoch 8/30\n",
      "938/938 [==============================] - 3s 3ms/step - loss: 0.1901 - auc: 0.8176 - val_loss: 0.1913 - val_auc: 0.8330\n",
      "\n",
      "Epoch 00008: val_loss improved from 0.19151 to 0.19132, saving model to model_best\n",
      "Epoch 9/30\n",
      "938/938 [==============================] - 3s 3ms/step - loss: 0.1931 - auc: 0.8138 - val_loss: 0.1920 - val_auc: 0.8337\n",
      "\n",
      "Epoch 00009: val_loss did not improve from 0.19132\n",
      "Epoch 10/30\n",
      "938/938 [==============================] - 3s 3ms/step - loss: 0.1879 - auc: 0.8234 - val_loss: 0.1908 - val_auc: 0.8332\n",
      "\n",
      "Epoch 00010: val_loss improved from 0.19132 to 0.19084, saving model to model_best\n",
      "Epoch 11/30\n",
      "938/938 [==============================] - 3s 3ms/step - loss: 0.1893 - auc: 0.8185 - val_loss: 0.1908 - val_auc: 0.8323\n",
      "\n",
      "Epoch 00011: val_loss improved from 0.19084 to 0.19078, saving model to model_best\n",
      "Epoch 12/30\n",
      "938/938 [==============================] - 3s 3ms/step - loss: 0.1872 - auc: 0.8220 - val_loss: 0.1908 - val_auc: 0.8333\n",
      "\n",
      "Epoch 00012: val_loss did not improve from 0.19078\n",
      "Epoch 13/30\n",
      "938/938 [==============================] - 3s 3ms/step - loss: 0.1893 - auc: 0.8229 - val_loss: 0.1905 - val_auc: 0.8353\n",
      "\n",
      "Epoch 00013: val_loss improved from 0.19078 to 0.19046, saving model to model_best\n",
      "Epoch 14/30\n",
      "938/938 [==============================] - 3s 3ms/step - loss: 0.1886 - auc: 0.8271 - val_loss: 0.1908 - val_auc: 0.8341\n",
      "\n",
      "Epoch 00014: val_loss did not improve from 0.19046\n",
      "Epoch 15/30\n",
      "938/938 [==============================] - 3s 3ms/step - loss: 0.1861 - auc: 0.8278 - val_loss: 0.1906 - val_auc: 0.8352\n",
      "\n",
      "Epoch 00015: val_loss did not improve from 0.19046\n",
      "Epoch 16/30\n",
      "938/938 [==============================] - 3s 3ms/step - loss: 0.1878 - auc: 0.8259 - val_loss: 0.1902 - val_auc: 0.8349\n",
      "\n",
      "Epoch 00016: val_loss improved from 0.19046 to 0.19023, saving model to model_best\n",
      "Epoch 17/30\n",
      "938/938 [==============================] - 3s 3ms/step - loss: 0.1888 - auc: 0.8270 - val_loss: 0.1907 - val_auc: 0.8357\n",
      "\n",
      "Epoch 00017: val_loss did not improve from 0.19023\n",
      "Epoch 18/30\n",
      "938/938 [==============================] - 3s 3ms/step - loss: 0.1889 - auc: 0.8250 - val_loss: 0.1904 - val_auc: 0.8358\n",
      "\n",
      "Epoch 00018: val_loss did not improve from 0.19023\n",
      "Epoch 19/30\n",
      "938/938 [==============================] - 3s 3ms/step - loss: 0.1878 - auc: 0.8214 - val_loss: 0.1900 - val_auc: 0.8365\n",
      "\n",
      "Epoch 00019: val_loss improved from 0.19023 to 0.19002, saving model to model_best\n",
      "Epoch 20/30\n",
      "938/938 [==============================] - 3s 3ms/step - loss: 0.1870 - auc: 0.8274 - val_loss: 0.1899 - val_auc: 0.8378\n",
      "\n",
      "Epoch 00020: val_loss improved from 0.19002 to 0.18987, saving model to model_best\n",
      "Epoch 21/30\n",
      "938/938 [==============================] - 3s 3ms/step - loss: 0.1878 - auc: 0.8269 - val_loss: 0.1898 - val_auc: 0.8372\n",
      "\n",
      "Epoch 00021: val_loss improved from 0.18987 to 0.18985, saving model to model_best\n",
      "Epoch 22/30\n",
      "938/938 [==============================] - 3s 3ms/step - loss: 0.1879 - auc: 0.8246 - val_loss: 0.1899 - val_auc: 0.8376\n",
      "\n",
      "Epoch 00022: val_loss did not improve from 0.18985\n",
      "Epoch 23/30\n",
      "938/938 [==============================] - 3s 3ms/step - loss: 0.1861 - auc: 0.8250 - val_loss: 0.1899 - val_auc: 0.8369\n",
      "\n",
      "Epoch 00023: val_loss did not improve from 0.18985\n",
      "Epoch 24/30\n",
      "938/938 [==============================] - 3s 3ms/step - loss: 0.1877 - auc: 0.8287 - val_loss: 0.1907 - val_auc: 0.8364\n",
      "\n",
      "Epoch 00024: val_loss did not improve from 0.18985\n",
      "Epoch 25/30\n",
      "938/938 [==============================] - 3s 3ms/step - loss: 0.1878 - auc: 0.8272 - val_loss: 0.1899 - val_auc: 0.8373\n",
      "\n",
      "Epoch 00025: val_loss did not improve from 0.18985\n",
      "Epoch 26/30\n",
      "938/938 [==============================] - 3s 3ms/step - loss: 0.1885 - auc: 0.8257 - val_loss: 0.1899 - val_auc: 0.8380\n",
      "\n",
      "Epoch 00026: val_loss did not improve from 0.18985\n",
      "Epoch 27/30\n",
      "938/938 [==============================] - 3s 3ms/step - loss: 0.1886 - auc: 0.8308 - val_loss: 0.1901 - val_auc: 0.8381\n",
      "\n",
      "Epoch 00027: val_loss did not improve from 0.18985\n",
      "Epoch 28/30\n",
      "938/938 [==============================] - 3s 3ms/step - loss: 0.1883 - auc: 0.8217 - val_loss: 0.1900 - val_auc: 0.8361\n",
      "\n",
      "Epoch 00028: val_loss did not improve from 0.18985\n",
      "Epoch 29/30\n",
      "938/938 [==============================] - 3s 3ms/step - loss: 0.1837 - auc: 0.8304 - val_loss: 0.1898 - val_auc: 0.8377\n",
      "\n",
      "Epoch 00029: val_loss improved from 0.18985 to 0.18979, saving model to model_best\n",
      "Epoch 30/30\n",
      "938/938 [==============================] - 3s 3ms/step - loss: 0.1870 - auc: 0.8270 - val_loss: 0.1894 - val_auc: 0.8376\n",
      "\n",
      "Epoch 00030: val_loss improved from 0.18979 to 0.18943, saving model to model_best\n",
      "235/235 [==============================] - 1s 2ms/step - loss: 0.1894 - auc: 0.8376\n"
     ]
    }
   ],
   "source": [
    "auc, history = train_evaluate(ds_train, ds_valid, trial=1)"
   ]
  },
  {
   "cell_type": "code",
   "execution_count": 13,
   "metadata": {},
   "outputs": [],
   "source": [
    "def plot_loss(hist, skip):\n",
    "    plt.figure(figsize=(14,6))\n",
    "    \n",
    "    plt.plot(hist.history['loss'][skip:], label='Training loss')\n",
    "    plt.plot(hist.history['val_loss'][skip:], label='Validation loss')\n",
    "    plt.title('Loss')\n",
    "    plt.legend(loc='upper right')\n",
    "    plt.ylabel('loss')\n",
    "    plt.xlabel('epoch')\n",
    "    plt.grid(True)\n",
    "    plt.show();"
   ]
  },
  {
   "cell_type": "code",
   "execution_count": 14,
   "metadata": {},
   "outputs": [
    {
     "data": {
      "image/png": "[encoded data removed]",
      "text/plain": [
       "<Figure size 1008x432 with 1 Axes>"
      ]
     },
     "metadata": {},
     "output_type": "display_data"
    }
   ],
   "source": [
    "plot_loss(history, skip = 1)"
   ]
  },
  {
   "cell_type": "code",
   "execution_count": 15,
   "metadata": {},
   "outputs": [],
   "source": [
    "def plot_auc(hist, skip):\n",
    "    plt.figure(figsize=(14,6))\n",
    "    \n",
    "    plt.plot(hist.history['auc'][skip:], label='Training AUC')\n",
    "    plt.plot(hist.history['val_auc'][skip:], label='Validation AUC')\n",
    "    plt.title('AUC')\n",
    "    plt.legend(loc='upper right')\n",
    "    plt.ylabel('loss')\n",
    "    plt.xlabel('epoch')\n",
    "    plt.grid(True)\n",
    "    plt.show();"
   ]
  },
  {
   "cell_type": "code",
   "execution_count": 16,
   "metadata": {},
   "outputs": [
    {
     "data": {
      "image/png": "[encoded data removed]",
      "text/plain": [
       "<Figure size 1008x432 with 1 Axes>"
      ]
     },
     "metadata": {},
     "output_type": "display_data"
    }
   ],
   "source": [
    "plot_auc(history, skip = 1)"
   ]
  },
  {
   "cell_type": "code",
   "execution_count": 19,
   "metadata": {},
   "outputs": [
    {
     "data": {
      "text/plain": [
       "<tensorflow.python.training.tracking.util.CheckpointLoadStatus at 0x7fd5c58e23d0>"
      ]
     },
     "execution_count": 19,
     "metadata": {},
     "output_type": "execute_result"
    }
   ],
   "source": [
    "# load best model\n",
    "model = build_model(feature_layer, n_units = 18)\n",
    "\n",
    "model.load_weights('model_best')"
   ]
  },
  {
   "cell_type": "code",
   "execution_count": 20,
   "metadata": {},
   "outputs": [
    {
     "name": "stdout",
     "output_type": "stream",
     "text": [
      "235/235 [==============================] - 1s 2ms/step - loss: 0.1930 - auc: 0.8375\n"
     ]
    },
    {
     "data": {
      "text/plain": [
       "[0.18942829966545105, 0.8375504612922668]"
      ]
     },
     "execution_count": 20,
     "metadata": {},
     "output_type": "execute_result"
    }
   ],
   "source": [
    "model.evaluate(ds_valid)"
   ]
  },
  {
   "cell_type": "code",
   "execution_count": null,
   "metadata": {},
   "outputs": [],
   "source": [
    "# compute accuracy on validation set\n",
    "\n",
    "THR = [0.40, 0.42, 0.44, 0.48, 0.50, 0.52, 0.54]\n",
    "\n",
    "def compute_accuracy(thr):\n",
    "    n_ok = 0.\n",
    "    \n",
    "    for features, labels in ds_valid:\n",
    "        result = model.predict(features)\n",
    "        \n",
    "        condition = (result > thr)\n",
    "        bin_result = tf.cast(condition, tf.int64)\n",
    "        labels = tf.reshape(labels, bin_result.shape)\n",
    "        \n",
    "        n_ok += np.sum((bin_result == labels))\n",
    "    \n",
    "    acc = n_ok/len(df_valid)\n",
    "    \n",
    "    return acc\n",
    "\n",
    "for tr in THR:\n",
    "    tr_acc = compute_accuracy(tr)\n",
    "    print('Threshold', tr, 'accuracy on validation set:', round(tr_acc, 3))"
   ]
  },
  {
   "cell_type": "markdown",
   "metadata": {},
   "source": [
    "#### prediction on test set"
   ]
  },
  {
   "cell_type": "code",
   "execution_count": 21,
   "metadata": {},
   "outputs": [
    {
     "data": {
      "text/html": [
       "<div>\n",
       "<style scoped>\n",
       "    .dataframe tbody tr th:only-of-type {\n",
       "        vertical-align: middle;\n",
       "    }\n",
       "\n",
       "    .dataframe tbody tr th {\n",
       "        vertical-align: top;\n",
       "    }\n",
       "\n",
       "    .dataframe thead th {\n",
       "        text-align: right;\n",
       "    }\n",
       "</style>\n",
       "<table border=\"1\" class=\"dataframe\">\n",
       "  <thead>\n",
       "    <tr style=\"text-align: right;\">\n",
       "      <th></th>\n",
       "      <th>Unnamed: 0</th>\n",
       "      <th>SeriousDlqin2yrs</th>\n",
       "      <th>RevolvingUtilizationOfUnsecuredLines</th>\n",
       "      <th>age</th>\n",
       "      <th>NumberOfTime30-59DaysPastDueNotWorse</th>\n",
       "      <th>DebtRatio</th>\n",
       "      <th>MonthlyIncome</th>\n",
       "      <th>NumberOfOpenCreditLinesAndLoans</th>\n",
       "      <th>NumberOfTimes90DaysLate</th>\n",
       "      <th>NumberRealEstateLoansOrLines</th>\n",
       "      <th>NumberOfTime60-89DaysPastDueNotWorse</th>\n",
       "      <th>NumberOfDependents</th>\n",
       "    </tr>\n",
       "  </thead>\n",
       "  <tbody>\n",
       "    <tr>\n",
       "      <th>0</th>\n",
       "      <td>1</td>\n",
       "      <td>NaN</td>\n",
       "      <td>0.885519</td>\n",
       "      <td>43</td>\n",
       "      <td>0</td>\n",
       "      <td>0.177513</td>\n",
       "      <td>5700.0</td>\n",
       "      <td>4</td>\n",
       "      <td>0</td>\n",
       "      <td>0</td>\n",
       "      <td>0</td>\n",
       "      <td>0.0</td>\n",
       "    </tr>\n",
       "    <tr>\n",
       "      <th>1</th>\n",
       "      <td>2</td>\n",
       "      <td>NaN</td>\n",
       "      <td>0.463295</td>\n",
       "      <td>57</td>\n",
       "      <td>0</td>\n",
       "      <td>0.527237</td>\n",
       "      <td>9141.0</td>\n",
       "      <td>15</td>\n",
       "      <td>0</td>\n",
       "      <td>4</td>\n",
       "      <td>0</td>\n",
       "      <td>2.0</td>\n",
       "    </tr>\n",
       "    <tr>\n",
       "      <th>2</th>\n",
       "      <td>3</td>\n",
       "      <td>NaN</td>\n",
       "      <td>0.043275</td>\n",
       "      <td>59</td>\n",
       "      <td>0</td>\n",
       "      <td>0.687648</td>\n",
       "      <td>5083.0</td>\n",
       "      <td>12</td>\n",
       "      <td>0</td>\n",
       "      <td>1</td>\n",
       "      <td>0</td>\n",
       "      <td>2.0</td>\n",
       "    </tr>\n",
       "    <tr>\n",
       "      <th>3</th>\n",
       "      <td>4</td>\n",
       "      <td>NaN</td>\n",
       "      <td>0.280308</td>\n",
       "      <td>38</td>\n",
       "      <td>1</td>\n",
       "      <td>0.925961</td>\n",
       "      <td>3200.0</td>\n",
       "      <td>7</td>\n",
       "      <td>0</td>\n",
       "      <td>2</td>\n",
       "      <td>0</td>\n",
       "      <td>0.0</td>\n",
       "    </tr>\n",
       "    <tr>\n",
       "      <th>4</th>\n",
       "      <td>5</td>\n",
       "      <td>NaN</td>\n",
       "      <td>1.000000</td>\n",
       "      <td>27</td>\n",
       "      <td>0</td>\n",
       "      <td>0.019917</td>\n",
       "      <td>3865.0</td>\n",
       "      <td>4</td>\n",
       "      <td>0</td>\n",
       "      <td>0</td>\n",
       "      <td>0</td>\n",
       "      <td>1.0</td>\n",
       "    </tr>\n",
       "  </tbody>\n",
       "</table>\n",
       "</div>"
      ],
      "text/plain": [
       "   Unnamed: 0  SeriousDlqin2yrs  RevolvingUtilizationOfUnsecuredLines  age  \\\n",
       "0           1               NaN                              0.885519   43   \n",
       "1           2               NaN                              0.463295   57   \n",
       "2           3               NaN                              0.043275   59   \n",
       "3           4               NaN                              0.280308   38   \n",
       "4           5               NaN                              1.000000   27   \n",
       "\n",
       "   NumberOfTime30-59DaysPastDueNotWorse  DebtRatio  MonthlyIncome  \\\n",
       "0                                     0   0.177513         5700.0   \n",
       "1                                     0   0.527237         9141.0   \n",
       "2                                     0   0.687648         5083.0   \n",
       "3                                     1   0.925961         3200.0   \n",
       "4                                     0   0.019917         3865.0   \n",
       "\n",
       "   NumberOfOpenCreditLinesAndLoans  NumberOfTimes90DaysLate  \\\n",
       "0                                4                        0   \n",
       "1                               15                        0   \n",
       "2                               12                        0   \n",
       "3                                7                        0   \n",
       "4                                4                        0   \n",
       "\n",
       "   NumberRealEstateLoansOrLines  NumberOfTime60-89DaysPastDueNotWorse  \\\n",
       "0                             0                                     0   \n",
       "1                             4                                     0   \n",
       "2                             1                                     0   \n",
       "3                             2                                     0   \n",
       "4                             0                                     0   \n",
       "\n",
       "   NumberOfDependents  \n",
       "0                 0.0  \n",
       "1                 2.0  \n",
       "2                 2.0  \n",
       "3                 0.0  \n",
       "4                 1.0  "
      ]
     },
     "execution_count": 21,
     "metadata": {},
     "output_type": "execute_result"
    }
   ],
   "source": [
    "orig_test = pd.read_csv('cs-test.csv')\n",
    "\n",
    "orig_test.head()"
   ]
  },
  {
   "cell_type": "code",
   "execution_count": 22,
   "metadata": {},
   "outputs": [],
   "source": [
    "orig_data = pd.read_csv('cs-training.csv')\n",
    "\n",
    "df_stats = orig_data.describe().transpose()"
   ]
  },
  {
   "cell_type": "code",
   "execution_count": 23,
   "metadata": {},
   "outputs": [],
   "source": [
    "mean_mi = df_stats.loc['MonthlyIncome', 'mean']\n",
    "mean_nod = df_stats.loc['NumberOfDependents', 'mean']"
   ]
  },
  {
   "cell_type": "code",
   "execution_count": 24,
   "metadata": {},
   "outputs": [],
   "source": [
    "condition = (orig_test['MonthlyIncome'].isna())\n",
    "\n",
    "orig_test['isna_mi'] = 0\n",
    "\n",
    "orig_test.loc[condition, 'isna_mi'] = 1\n",
    "orig_test.loc[condition, 'MonthlyIncome'] = mean_mi"
   ]
  },
  {
   "cell_type": "code",
   "execution_count": 25,
   "metadata": {},
   "outputs": [],
   "source": [
    "# inpute \n",
    "\n",
    "condition = (orig_test['NumberOfDependents'].isna())\n",
    "\n",
    "orig_test['isna_nod'] = 0\n",
    "\n",
    "orig_test.loc[condition, 'isna_nod'] = 1\n",
    "orig_test.loc[condition, 'NumberOfDependents'] = mean_nod"
   ]
  },
  {
   "cell_type": "code",
   "execution_count": 26,
   "metadata": {},
   "outputs": [],
   "source": [
    "# prepare ds\n",
    "ds_test = df_to_dataset(orig_test, PREDICTOR_FIELD,  batch_size=512, shuffle=False)"
   ]
  },
  {
   "cell_type": "code",
   "execution_count": 40,
   "metadata": {},
   "outputs": [],
   "source": [
    "all_probs = np.empty(shape=(0, 1))\n",
    "\n",
    "for features, labels in ds_test:\n",
    "    probs = model.predict(features)\n",
    "    \n",
    "    all_probs = np.append(all_probs, np.round(probs, 5))"
   ]
  },
  {
   "cell_type": "code",
   "execution_count": 41,
   "metadata": {},
   "outputs": [],
   "source": [
    "all_probs = all_probs.reshape(all_probs.shape[0])"
   ]
  },
  {
   "cell_type": "code",
   "execution_count": 46,
   "metadata": {},
   "outputs": [],
   "source": [
    "result_dict = {\"Id\": orig_test['Unnamed: 0'].values,\n",
    "              'Probability': all_probs}"
   ]
  },
  {
   "cell_type": "code",
   "execution_count": 47,
   "metadata": {},
   "outputs": [],
   "source": [
    "# salva il file della submission\n",
    "FILE_SUB = 'submission7.csv'\n",
    "\n",
    "result_df = pd.DataFrame(result_dict)\n",
    "\n",
    "result_df.to_csv(FILE_SUB, index=False, float_format='%.5f')"
   ]
  },
  {
   "cell_type": "code",
   "execution_count": null,
   "metadata": {},
   "outputs": [],
   "source": []
  }
 ],
 "metadata": {
  "kernelspec": {
   "display_name": "Python 3",
   "language": "python",
   "name": "python3"
  },
  "language_info": {
   "codemirror_mode": {
    "name": "ipython",
    "version": 3
   },
   "file_extension": ".py",
   "mimetype": "text/x-python",
   "name": "python",
   "nbconvert_exporter": "python",
   "pygments_lexer": "ipython3",
   "version": "3.7.9"
  }
 },
 "nbformat": 4,
 "nbformat_minor": 4
}
