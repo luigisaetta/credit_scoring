{
 "cells": [
  {
   "cell_type": "markdown",
   "metadata": {},
   "source": [
    "### XGBoost with ADSTuner for HPO\n",
    "\n",
    "* Imblearn for undersampling of negative class\n",
    "* ADSTuner for HPO"
   ]
  },
  {
   "cell_type": "code",
   "execution_count": 1,
   "metadata": {},
   "outputs": [],
   "source": [
    "import pandas as pd\n",
    "import numpy as np\n",
    "import xgboost as xgb\n",
    "\n",
    "import ads\n",
    "\n",
    "# to use ADSTuner\n",
    "from ads.hpo.search_cv import ADSTuner\n",
    "from ads.hpo.stopping_criterion import *\n",
    "from ads.hpo.distributions import *\n",
    "\n",
    "from xgboost import XGBClassifier\n",
    "from sklearn.metrics import accuracy_score, confusion_matrix\n",
    "\n",
    "# for undersampling the negative class\n",
    "from imblearn.under_sampling import RandomUnderSampler\n",
    "\n",
    "import matplotlib.pyplot as plt\n",
    "\n",
    "# my utils.py\n",
    "from utils import train_encoders, apply_encoders\n",
    "\n",
    "import pickle\n",
    "\n",
    "%matplotlib inline"
   ]
  },
  {
   "cell_type": "code",
   "execution_count": 2,
   "metadata": {},
   "outputs": [
    {
     "name": "stdout",
     "output_type": "stream",
     "text": [
      "2.5.4\n"
     ]
    }
   ],
   "source": [
    "# check the ADS version\n",
    "print(ads.__version__)"
   ]
  },
  {
   "cell_type": "code",
   "execution_count": 3,
   "metadata": {},
   "outputs": [],
   "source": [
    "# global constants\n",
    "SEED = 4321\n",
    "\n",
    "# number of features (with the two indicator cols)\n",
    "N_FEATURES = 12\n",
    "\n",
    "# name of col with label\n",
    "TARGET = 'SeriousDlqin2yrs'\n",
    "\n",
    "# cols with missing values\n",
    "COL1_MISSING = 'MonthlyIncome'\n",
    "COL2_MISSING = 'NumberOfDependents'\n",
    "\n",
    "# nomi delle due colonne indicator (valgono 1 laddove il dato è inputato)\n",
    "IND1 = 'isna_mi'\n",
    "IND2 = 'isna_nod'\n",
    "\n",
    "ind_col = [IND1, IND2]\n",
    "\n",
    "COLS_TO_DROP = ['id']\n",
    "\n",
    "# for undersampling to make the dataset more balanced\n",
    "# ratio minority samples/majority\n",
    "RATIO = 1./5."
   ]
  },
  {
   "cell_type": "code",
   "execution_count": 4,
   "metadata": {},
   "outputs": [],
   "source": [
    "# full dataset, not undersampled\n",
    "data_full = pd.read_csv('cs-training-nonull.csv')\n",
    "\n",
    "# remove unneeded cols\n",
    "data_full = data_full.drop(COLS_TO_DROP, axis = 1)"
   ]
  },
  {
   "cell_type": "code",
   "execution_count": 5,
   "metadata": {},
   "outputs": [],
   "source": [
    "cat_cols = ['age','NumberOfTime30-59DaysPastDueNotWorse',\n",
    "               'NumberOfOpenCreditLinesAndLoans', 'NumberOfTimes90DaysLate',\n",
    "               'NumberRealEstateLoansOrLines', 'NumberOfTime60-89DaysPastDueNotWorse',\n",
    "               'NumberOfDependents']\n",
    "num_cols = ['RevolvingUtilizationOfUnsecuredLines', 'DebtRatio', 'MonthlyIncome', ]\n",
    "\n",
    "# indicators are not touched"
   ]
  },
  {
   "cell_type": "code",
   "execution_count": 6,
   "metadata": {},
   "outputs": [],
   "source": [
    "# scaling and label encoding is done on data_full. After we will do resampling\n",
    "# In this way coding and scaling cover entire range of values, not only for resampled data\n",
    "\n",
    "# we don't need any scaling (it is ensambles of trees)"
   ]
  },
  {
   "cell_type": "code",
   "execution_count": 7,
   "metadata": {},
   "outputs": [],
   "source": [
    "# cat cols treatment\n",
    "# Code categorical columns (only season, weather, year)\n",
    "\n",
    "# we don't need any pre-processing for cat columns\n",
    "\n",
    "# so for XGBoost afpret Nan treatment no other pre-processing is needed"
   ]
  },
  {
   "cell_type": "code",
   "execution_count": 8,
   "metadata": {},
   "outputs": [],
   "source": [
    "# estrae X: matrice features ed y, labels\n",
    "y_train_full = data_full[TARGET].values\n",
    "x_train_full = data_full.drop(TARGET, axis = 1).values\n",
    "\n",
    "assert x_train_full.shape[1] == N_FEATURES"
   ]
  },
  {
   "cell_type": "code",
   "execution_count": 9,
   "metadata": {},
   "outputs": [
    {
     "name": "stdout",
     "output_type": "stream",
     "text": [
      "# of samples in full dataset: 150000\n"
     ]
    }
   ],
   "source": [
    "print(f'# of samples in full dataset: {x_train_full.shape[0]}')"
   ]
  },
  {
   "cell_type": "code",
   "execution_count": 10,
   "metadata": {},
   "outputs": [
    {
     "name": "stdout",
     "output_type": "stream",
     "text": [
      "# of samples in resampled dataset: 60156\n",
      "# of positive samples: 10026\n",
      "# of negative samples: 50130\n"
     ]
    }
   ],
   "source": [
    "# do the undersampling of the negative class, using IMblearn\n",
    "rus = RandomUnderSampler(sampling_strategy=RATIO, random_state=SEED)\n",
    "\n",
    "x_train, y_train = rus.fit_resample(x_train_full, y_train_full)\n",
    "\n",
    "print(f'# of samples in resampled dataset: {x_train.shape[0]}')\n",
    "\n",
    "# check ratio of classes\n",
    "print(f'# of positive samples: {np.sum(y_train)}')\n",
    "print(f'# of negative samples: {x_train.shape[0] - np.sum(y_train)}')"
   ]
  },
  {
   "cell_type": "markdown",
   "metadata": {},
   "source": [
    "The resampled dataset (x_train, y_train) will be used for training"
   ]
  },
  {
   "cell_type": "markdown",
   "metadata": {},
   "source": [
    "### Train the XGBoost Classifier"
   ]
  },
  {
   "cell_type": "code",
   "execution_count": 11,
   "metadata": {},
   "outputs": [],
   "source": [
    "# parameters for the HPO session with Optuna\n",
    "FOLDS = 5\n",
    "SEED = 4321\n",
    "\n",
    "N_TRIALS = 100\n",
    "TIME_BUDGET = 7200\n",
    "STUDY_NAME = \"xgb01\"\n",
    "\n",
    "# ranges\n",
    "LR_LOW = 1e-3\n",
    "LR_HIGH = 1e-2\n",
    "DEPTH_LOW = 4\n",
    "DEPTH_HIGH = 8\n",
    "N_ITER_LIST = [600, 700, 800, 900, 1000, 1100, 1200, 1300]"
   ]
  },
  {
   "cell_type": "code",
   "execution_count": 12,
   "metadata": {},
   "outputs": [
    {
     "name": "stderr",
     "output_type": "stream",
     "text": [
      "\u001b[32m[I 2022-03-15 12:09:50,940]\u001b[0m A new study created in RDB with name: xgb01\u001b[0m\n"
     ]
    }
   ],
   "source": [
    "#\n",
    "# Here we define the strategy, the space for hyper-parameters we want to explore\n",
    "#\n",
    "params = {\n",
    "    \"n_estimators\": CategoricalDistribution(N_ITER_LIST),\n",
    "    \"learning_rate\": LogUniformDistribution(low=LR_LOW, high=LR_HIGH),\n",
    "    \"max_depth\": IntUniformDistribution(DEPTH_LOW, DEPTH_HIGH),\n",
    "    \"tree_method\": \"gpu_hist\"\n",
    "}\n",
    "\n",
    "clf = xgb.XGBClassifier()\n",
    "\n",
    "\n",
    "# per lista scorer sorted(sklearn.metrics.SCORERS.keys())\n",
    "tuner = ADSTuner(clf, cv=FOLDS, strategy=params, scoring=\"roc_auc\", study_name=STUDY_NAME, n_jobs=6, random_state=SEED)\n",
    "\n",
    "tuner.tune(x_train, y_train, exit_criterion=[TimeBudget(TIME_BUDGET)])"
   ]
  },
  {
   "cell_type": "code",
   "execution_count": 74,
   "metadata": {},
   "outputs": [
    {
     "name": "stdout",
     "output_type": "stream",
     "text": [
      "The tuner status is: State.COMPLETED\n",
      "Remaining time is: 0 sec.\n"
     ]
    }
   ],
   "source": [
    "# get the status to see if completed\n",
    "print(f\"The tuner status is: {tuner.get_status()}\")\n",
    "\n",
    "print(f\"Remaining time is: {round(tuner.time_remaining, 1)} sec.\")"
   ]
  },
  {
   "cell_type": "code",
   "execution_count": 75,
   "metadata": {},
   "outputs": [
    {
     "data": {
      "text/html": [
       "<div>\n",
       "<style scoped>\n",
       "    .dataframe tbody tr th:only-of-type {\n",
       "        vertical-align: middle;\n",
       "    }\n",
       "\n",
       "    .dataframe tbody tr th {\n",
       "        vertical-align: top;\n",
       "    }\n",
       "\n",
       "    .dataframe thead th {\n",
       "        text-align: right;\n",
       "    }\n",
       "</style>\n",
       "<table border=\"1\" class=\"dataframe\">\n",
       "  <thead>\n",
       "    <tr style=\"text-align: right;\">\n",
       "      <th></th>\n",
       "      <th>number</th>\n",
       "      <th>value</th>\n",
       "      <th>datetime_start</th>\n",
       "      <th>datetime_complete</th>\n",
       "      <th>duration</th>\n",
       "      <th>params_learning_rate</th>\n",
       "      <th>params_max_depth</th>\n",
       "      <th>params_n_estimators</th>\n",
       "      <th>params_tree_method</th>\n",
       "      <th>user_attrs_mean_fit_time</th>\n",
       "      <th>...</th>\n",
       "      <th>user_attrs_metric</th>\n",
       "      <th>user_attrs_split0_test_score</th>\n",
       "      <th>user_attrs_split1_test_score</th>\n",
       "      <th>user_attrs_split2_test_score</th>\n",
       "      <th>user_attrs_split3_test_score</th>\n",
       "      <th>user_attrs_split4_test_score</th>\n",
       "      <th>user_attrs_std_fit_time</th>\n",
       "      <th>user_attrs_std_score_time</th>\n",
       "      <th>user_attrs_std_test_score</th>\n",
       "      <th>state</th>\n",
       "    </tr>\n",
       "  </thead>\n",
       "  <tbody>\n",
       "    <tr>\n",
       "      <th>404</th>\n",
       "      <td>404</td>\n",
       "      <td>0.865759</td>\n",
       "      <td>2022-03-15 13:34:06.595550</td>\n",
       "      <td>2022-03-15 13:34:55.437010</td>\n",
       "      <td>0 days 00:00:48.841460</td>\n",
       "      <td>0.009964</td>\n",
       "      <td>4</td>\n",
       "      <td>1300</td>\n",
       "      <td>gpu_hist</td>\n",
       "      <td>9.690790</td>\n",
       "      <td>...</td>\n",
       "      <td>roc_auc</td>\n",
       "      <td>0.864900</td>\n",
       "      <td>0.860076</td>\n",
       "      <td>0.866373</td>\n",
       "      <td>0.864824</td>\n",
       "      <td>0.872620</td>\n",
       "      <td>0.098515</td>\n",
       "      <td>0.002096</td>\n",
       "      <td>0.004034</td>\n",
       "      <td>COMPLETE</td>\n",
       "    </tr>\n",
       "    <tr>\n",
       "      <th>578</th>\n",
       "      <td>578</td>\n",
       "      <td>0.865752</td>\n",
       "      <td>2022-03-15 13:58:00.248313</td>\n",
       "      <td>2022-03-15 13:58:49.396363</td>\n",
       "      <td>0 days 00:00:49.148050</td>\n",
       "      <td>0.009990</td>\n",
       "      <td>4</td>\n",
       "      <td>1300</td>\n",
       "      <td>gpu_hist</td>\n",
       "      <td>9.755813</td>\n",
       "      <td>...</td>\n",
       "      <td>roc_auc</td>\n",
       "      <td>0.865032</td>\n",
       "      <td>0.859949</td>\n",
       "      <td>0.866293</td>\n",
       "      <td>0.864980</td>\n",
       "      <td>0.872507</td>\n",
       "      <td>0.193885</td>\n",
       "      <td>0.003171</td>\n",
       "      <td>0.004018</td>\n",
       "      <td>COMPLETE</td>\n",
       "    </tr>\n",
       "    <tr>\n",
       "      <th>574</th>\n",
       "      <td>574</td>\n",
       "      <td>0.865735</td>\n",
       "      <td>2022-03-15 13:57:20.466841</td>\n",
       "      <td>2022-03-15 13:58:09.326594</td>\n",
       "      <td>0 days 00:00:48.859753</td>\n",
       "      <td>0.009956</td>\n",
       "      <td>4</td>\n",
       "      <td>1300</td>\n",
       "      <td>gpu_hist</td>\n",
       "      <td>9.692873</td>\n",
       "      <td>...</td>\n",
       "      <td>roc_auc</td>\n",
       "      <td>0.864853</td>\n",
       "      <td>0.859996</td>\n",
       "      <td>0.866346</td>\n",
       "      <td>0.864905</td>\n",
       "      <td>0.872575</td>\n",
       "      <td>0.135009</td>\n",
       "      <td>0.002081</td>\n",
       "      <td>0.004039</td>\n",
       "      <td>COMPLETE</td>\n",
       "    </tr>\n",
       "    <tr>\n",
       "      <th>403</th>\n",
       "      <td>403</td>\n",
       "      <td>0.865731</td>\n",
       "      <td>2022-03-15 13:34:04.196504</td>\n",
       "      <td>2022-03-15 13:34:53.199014</td>\n",
       "      <td>0 days 00:00:49.002510</td>\n",
       "      <td>0.009916</td>\n",
       "      <td>4</td>\n",
       "      <td>1300</td>\n",
       "      <td>gpu_hist</td>\n",
       "      <td>9.717765</td>\n",
       "      <td>...</td>\n",
       "      <td>roc_auc</td>\n",
       "      <td>0.864999</td>\n",
       "      <td>0.860180</td>\n",
       "      <td>0.866344</td>\n",
       "      <td>0.864703</td>\n",
       "      <td>0.872429</td>\n",
       "      <td>0.163836</td>\n",
       "      <td>0.006890</td>\n",
       "      <td>0.003941</td>\n",
       "      <td>COMPLETE</td>\n",
       "    </tr>\n",
       "    <tr>\n",
       "      <th>524</th>\n",
       "      <td>524</td>\n",
       "      <td>0.865730</td>\n",
       "      <td>2022-03-15 13:50:25.102396</td>\n",
       "      <td>2022-03-15 13:51:10.875932</td>\n",
       "      <td>0 days 00:00:45.773536</td>\n",
       "      <td>0.009976</td>\n",
       "      <td>4</td>\n",
       "      <td>1300</td>\n",
       "      <td>gpu_hist</td>\n",
       "      <td>9.083231</td>\n",
       "      <td>...</td>\n",
       "      <td>roc_auc</td>\n",
       "      <td>0.864880</td>\n",
       "      <td>0.859974</td>\n",
       "      <td>0.866202</td>\n",
       "      <td>0.864921</td>\n",
       "      <td>0.872672</td>\n",
       "      <td>0.126517</td>\n",
       "      <td>0.000805</td>\n",
       "      <td>0.004073</td>\n",
       "      <td>COMPLETE</td>\n",
       "    </tr>\n",
       "    <tr>\n",
       "      <th>336</th>\n",
       "      <td>336</td>\n",
       "      <td>0.865729</td>\n",
       "      <td>2022-03-15 13:25:27.591121</td>\n",
       "      <td>2022-03-15 13:26:16.281232</td>\n",
       "      <td>0 days 00:00:48.690111</td>\n",
       "      <td>0.009920</td>\n",
       "      <td>4</td>\n",
       "      <td>1300</td>\n",
       "      <td>gpu_hist</td>\n",
       "      <td>9.666801</td>\n",
       "      <td>...</td>\n",
       "      <td>roc_auc</td>\n",
       "      <td>0.864897</td>\n",
       "      <td>0.860182</td>\n",
       "      <td>0.866123</td>\n",
       "      <td>0.864978</td>\n",
       "      <td>0.872466</td>\n",
       "      <td>0.191272</td>\n",
       "      <td>0.002686</td>\n",
       "      <td>0.003939</td>\n",
       "      <td>COMPLETE</td>\n",
       "    </tr>\n",
       "    <tr>\n",
       "      <th>475</th>\n",
       "      <td>475</td>\n",
       "      <td>0.865725</td>\n",
       "      <td>2022-03-15 13:43:02.881622</td>\n",
       "      <td>2022-03-15 13:43:51.909344</td>\n",
       "      <td>0 days 00:00:49.027722</td>\n",
       "      <td>0.009647</td>\n",
       "      <td>4</td>\n",
       "      <td>1300</td>\n",
       "      <td>gpu_hist</td>\n",
       "      <td>9.729860</td>\n",
       "      <td>...</td>\n",
       "      <td>roc_auc</td>\n",
       "      <td>0.864855</td>\n",
       "      <td>0.859978</td>\n",
       "      <td>0.866301</td>\n",
       "      <td>0.864899</td>\n",
       "      <td>0.872591</td>\n",
       "      <td>0.059059</td>\n",
       "      <td>0.003169</td>\n",
       "      <td>0.004048</td>\n",
       "      <td>COMPLETE</td>\n",
       "    </tr>\n",
       "    <tr>\n",
       "      <th>341</th>\n",
       "      <td>341</td>\n",
       "      <td>0.865724</td>\n",
       "      <td>2022-03-15 13:26:03.975765</td>\n",
       "      <td>2022-03-15 13:26:52.963595</td>\n",
       "      <td>0 days 00:00:48.987830</td>\n",
       "      <td>0.009964</td>\n",
       "      <td>4</td>\n",
       "      <td>1300</td>\n",
       "      <td>gpu_hist</td>\n",
       "      <td>9.722157</td>\n",
       "      <td>...</td>\n",
       "      <td>roc_auc</td>\n",
       "      <td>0.864969</td>\n",
       "      <td>0.860094</td>\n",
       "      <td>0.866172</td>\n",
       "      <td>0.864862</td>\n",
       "      <td>0.872525</td>\n",
       "      <td>0.188338</td>\n",
       "      <td>0.002073</td>\n",
       "      <td>0.003987</td>\n",
       "      <td>COMPLETE</td>\n",
       "    </tr>\n",
       "    <tr>\n",
       "      <th>601</th>\n",
       "      <td>601</td>\n",
       "      <td>0.865723</td>\n",
       "      <td>2022-03-15 14:00:46.810750</td>\n",
       "      <td>2022-03-15 14:01:35.835118</td>\n",
       "      <td>0 days 00:00:49.024368</td>\n",
       "      <td>0.009972</td>\n",
       "      <td>4</td>\n",
       "      <td>1300</td>\n",
       "      <td>gpu_hist</td>\n",
       "      <td>9.726700</td>\n",
       "      <td>...</td>\n",
       "      <td>roc_auc</td>\n",
       "      <td>0.865046</td>\n",
       "      <td>0.859878</td>\n",
       "      <td>0.866196</td>\n",
       "      <td>0.864974</td>\n",
       "      <td>0.872521</td>\n",
       "      <td>0.191255</td>\n",
       "      <td>0.000829</td>\n",
       "      <td>0.004040</td>\n",
       "      <td>COMPLETE</td>\n",
       "    </tr>\n",
       "    <tr>\n",
       "      <th>347</th>\n",
       "      <td>347</td>\n",
       "      <td>0.865723</td>\n",
       "      <td>2022-03-15 13:26:52.981248</td>\n",
       "      <td>2022-03-15 13:27:42.218921</td>\n",
       "      <td>0 days 00:00:49.237673</td>\n",
       "      <td>0.009767</td>\n",
       "      <td>4</td>\n",
       "      <td>1300</td>\n",
       "      <td>gpu_hist</td>\n",
       "      <td>9.770642</td>\n",
       "      <td>...</td>\n",
       "      <td>roc_auc</td>\n",
       "      <td>0.864811</td>\n",
       "      <td>0.860103</td>\n",
       "      <td>0.866229</td>\n",
       "      <td>0.864785</td>\n",
       "      <td>0.872686</td>\n",
       "      <td>0.175391</td>\n",
       "      <td>0.005705</td>\n",
       "      <td>0.004051</td>\n",
       "      <td>COMPLETE</td>\n",
       "    </tr>\n",
       "  </tbody>\n",
       "</table>\n",
       "<p>10 rows × 22 columns</p>\n",
       "</div>"
      ],
      "text/plain": [
       "     number     value             datetime_start          datetime_complete  \\\n",
       "404     404  0.865759 2022-03-15 13:34:06.595550 2022-03-15 13:34:55.437010   \n",
       "578     578  0.865752 2022-03-15 13:58:00.248313 2022-03-15 13:58:49.396363   \n",
       "574     574  0.865735 2022-03-15 13:57:20.466841 2022-03-15 13:58:09.326594   \n",
       "403     403  0.865731 2022-03-15 13:34:04.196504 2022-03-15 13:34:53.199014   \n",
       "524     524  0.865730 2022-03-15 13:50:25.102396 2022-03-15 13:51:10.875932   \n",
       "336     336  0.865729 2022-03-15 13:25:27.591121 2022-03-15 13:26:16.281232   \n",
       "475     475  0.865725 2022-03-15 13:43:02.881622 2022-03-15 13:43:51.909344   \n",
       "341     341  0.865724 2022-03-15 13:26:03.975765 2022-03-15 13:26:52.963595   \n",
       "601     601  0.865723 2022-03-15 14:00:46.810750 2022-03-15 14:01:35.835118   \n",
       "347     347  0.865723 2022-03-15 13:26:52.981248 2022-03-15 13:27:42.218921   \n",
       "\n",
       "                  duration  params_learning_rate  params_max_depth  \\\n",
       "404 0 days 00:00:48.841460              0.009964                 4   \n",
       "578 0 days 00:00:49.148050              0.009990                 4   \n",
       "574 0 days 00:00:48.859753              0.009956                 4   \n",
       "403 0 days 00:00:49.002510              0.009916                 4   \n",
       "524 0 days 00:00:45.773536              0.009976                 4   \n",
       "336 0 days 00:00:48.690111              0.009920                 4   \n",
       "475 0 days 00:00:49.027722              0.009647                 4   \n",
       "341 0 days 00:00:48.987830              0.009964                 4   \n",
       "601 0 days 00:00:49.024368              0.009972                 4   \n",
       "347 0 days 00:00:49.237673              0.009767                 4   \n",
       "\n",
       "     params_n_estimators params_tree_method  user_attrs_mean_fit_time  ...  \\\n",
       "404                 1300           gpu_hist                  9.690790  ...   \n",
       "578                 1300           gpu_hist                  9.755813  ...   \n",
       "574                 1300           gpu_hist                  9.692873  ...   \n",
       "403                 1300           gpu_hist                  9.717765  ...   \n",
       "524                 1300           gpu_hist                  9.083231  ...   \n",
       "336                 1300           gpu_hist                  9.666801  ...   \n",
       "475                 1300           gpu_hist                  9.729860  ...   \n",
       "341                 1300           gpu_hist                  9.722157  ...   \n",
       "601                 1300           gpu_hist                  9.726700  ...   \n",
       "347                 1300           gpu_hist                  9.770642  ...   \n",
       "\n",
       "     user_attrs_metric  user_attrs_split0_test_score  \\\n",
       "404            roc_auc                      0.864900   \n",
       "578            roc_auc                      0.865032   \n",
       "574            roc_auc                      0.864853   \n",
       "403            roc_auc                      0.864999   \n",
       "524            roc_auc                      0.864880   \n",
       "336            roc_auc                      0.864897   \n",
       "475            roc_auc                      0.864855   \n",
       "341            roc_auc                      0.864969   \n",
       "601            roc_auc                      0.865046   \n",
       "347            roc_auc                      0.864811   \n",
       "\n",
       "    user_attrs_split1_test_score  user_attrs_split2_test_score  \\\n",
       "404                     0.860076                      0.866373   \n",
       "578                     0.859949                      0.866293   \n",
       "574                     0.859996                      0.866346   \n",
       "403                     0.860180                      0.866344   \n",
       "524                     0.859974                      0.866202   \n",
       "336                     0.860182                      0.866123   \n",
       "475                     0.859978                      0.866301   \n",
       "341                     0.860094                      0.866172   \n",
       "601                     0.859878                      0.866196   \n",
       "347                     0.860103                      0.866229   \n",
       "\n",
       "     user_attrs_split3_test_score  user_attrs_split4_test_score  \\\n",
       "404                      0.864824                      0.872620   \n",
       "578                      0.864980                      0.872507   \n",
       "574                      0.864905                      0.872575   \n",
       "403                      0.864703                      0.872429   \n",
       "524                      0.864921                      0.872672   \n",
       "336                      0.864978                      0.872466   \n",
       "475                      0.864899                      0.872591   \n",
       "341                      0.864862                      0.872525   \n",
       "601                      0.864974                      0.872521   \n",
       "347                      0.864785                      0.872686   \n",
       "\n",
       "     user_attrs_std_fit_time  user_attrs_std_score_time  \\\n",
       "404                 0.098515                   0.002096   \n",
       "578                 0.193885                   0.003171   \n",
       "574                 0.135009                   0.002081   \n",
       "403                 0.163836                   0.006890   \n",
       "524                 0.126517                   0.000805   \n",
       "336                 0.191272                   0.002686   \n",
       "475                 0.059059                   0.003169   \n",
       "341                 0.188338                   0.002073   \n",
       "601                 0.191255                   0.000829   \n",
       "347                 0.175391                   0.005705   \n",
       "\n",
       "     user_attrs_std_test_score     state  \n",
       "404                   0.004034  COMPLETE  \n",
       "578                   0.004018  COMPLETE  \n",
       "574                   0.004039  COMPLETE  \n",
       "403                   0.003941  COMPLETE  \n",
       "524                   0.004073  COMPLETE  \n",
       "336                   0.003939  COMPLETE  \n",
       "475                   0.004048  COMPLETE  \n",
       "341                   0.003987  COMPLETE  \n",
       "601                   0.004040  COMPLETE  \n",
       "347                   0.004051  COMPLETE  \n",
       "\n",
       "[10 rows x 22 columns]"
      ]
     },
     "execution_count": 75,
     "metadata": {},
     "output_type": "execute_result"
    }
   ],
   "source": [
    "# look only at completed trials, sorted with best on top. Metric chosen is in the value col.\n",
    "result_df = tuner.trials[tuner.trials[\"state\"] == \"COMPLETE\"].sort_values(\n",
    "    by=[\"value\"], ascending=False\n",
    ")\n",
    "\n",
    "result_df.head(10)"
   ]
  },
  {
   "cell_type": "code",
   "execution_count": 76,
   "metadata": {},
   "outputs": [
    {
     "name": "stdout",
     "output_type": "stream",
     "text": [
      "ADSTuner session results:\n",
      "ADSTuner has launched 667 trials\n",
      "ADSTuner has completed 667 trials\n",
      "\n",
      "The best trial is the #: 404\n",
      "Parameters for the best trial are: {'learning_rate': 0.009964407355424202, 'max_depth': 4, 'n_estimators': 1300, 'tree_method': 'gpu_hist'}\n",
      "The metric used to optimize is: roc_auc\n",
      "The best score is: 0.8658\n"
     ]
    }
   ],
   "source": [
    "def show_tuner_results(tuner):\n",
    "\n",
    "    # to count completed\n",
    "    result_df = tuner.trials[tuner.trials[\"state\"] == \"COMPLETE\"].sort_values(\n",
    "        by=[\"value\"], ascending=False\n",
    "    )\n",
    "\n",
    "    print(\"ADSTuner session results:\")\n",
    "    print(f\"ADSTuner has launched {tuner.trials.shape[0]} trials\")\n",
    "    print(f\"ADSTuner has completed {result_df.shape[0]} trials\")\n",
    "    print()\n",
    "    print(f\"The best trial is the #: {tuner.best_index}\")\n",
    "    print(f\"Parameters for the best trial are: {tuner.best_params}\")\n",
    "    print(f\"The metric used to optimize is: {tuner.scoring_name}\")\n",
    "    print(f\"The best score is: {round(tuner.best_score, 4)}\")\n",
    "    \n",
    "show_tuner_results(tuner)"
   ]
  },
  {
   "cell_type": "markdown",
   "metadata": {},
   "source": [
    "### Train with best params"
   ]
  },
  {
   "cell_type": "code",
   "execution_count": 77,
   "metadata": {},
   "outputs": [
    {
     "name": "stdout",
     "output_type": "stream",
     "text": [
      "[0]\tvalidation_0-auc:0.83253\n",
      "[100]\tvalidation_0-auc:0.84957\n",
      "[200]\tvalidation_0-auc:0.85838\n",
      "[300]\tvalidation_0-auc:0.86237\n",
      "[400]\tvalidation_0-auc:0.86619\n",
      "[500]\tvalidation_0-auc:0.86889\n",
      "[600]\tvalidation_0-auc:0.87078\n",
      "[700]\tvalidation_0-auc:0.87206\n",
      "[800]\tvalidation_0-auc:0.87311\n",
      "[900]\tvalidation_0-auc:0.87406\n",
      "[1000]\tvalidation_0-auc:0.87480\n",
      "[1100]\tvalidation_0-auc:0.87550\n",
      "[1200]\tvalidation_0-auc:0.87612\n",
      "[1299]\tvalidation_0-auc:0.87684\n",
      "\n",
      "CPU times: user 2.6 s, sys: 582 ms, total: 3.18 s\n",
      "Wall time: 2.98 s\n"
     ]
    }
   ],
   "source": [
    "%%time\n",
    "\n",
    "clf = xgb.XGBClassifier(**tuner.best_params)\n",
    "\n",
    "# addestro e valuto su train e su validation set\n",
    "clf.fit(x_train, y_train,\n",
    "        eval_set=[(x_train, y_train)],\n",
    "        eval_metric='auc', verbose=100)\n",
    "\n",
    "print()\n",
    "\n",
    "evals_result = clf.evals_result()"
   ]
  },
  {
   "cell_type": "markdown",
   "metadata": {},
   "source": [
    "#### OK, consider that the slightly higher AUC is due to the fact here we're evaluating also on train data"
   ]
  },
  {
   "cell_type": "code",
   "execution_count": null,
   "metadata": {},
   "outputs": [],
   "source": [
    "def plot_auc(train_hist):\n",
    "    plt.figure(figsize=(9,6))\n",
    "    \n",
    "    plt.plot(train_hist, label='Training AUC')\n",
    "    plt.title('AUC')\n",
    "    plt.legend(loc='lower right')\n",
    "    plt.ylabel('auc')\n",
    "    plt.xlabel('n_estimator')\n",
    "    plt.grid(True)\n",
    "    plt.show();"
   ]
  },
  {
   "cell_type": "code",
   "execution_count": null,
   "metadata": {},
   "outputs": [],
   "source": [
    "train_hist = evals_result['validation_0']['auc']\n",
    "\n",
    "plot_auc(train_hist)"
   ]
  },
  {
   "cell_type": "code",
   "execution_count": 79,
   "metadata": {},
   "outputs": [
    {
     "name": "stdout",
     "output_type": "stream",
     "text": [
      "Accuracy on train set: 92.75%\n"
     ]
    }
   ],
   "source": [
    "# compute accuracy on full dataset\n",
    "y_pred = clf.predict(x_train_full)\n",
    "\n",
    "predictions = [round(value) for value in y_pred]\n",
    "\n",
    "accuracy = accuracy_score(y_train_full, predictions)\n",
    "\n",
    "print(\"Accuracy on train set: %.2f%%\" % (accuracy * 100.0))"
   ]
  },
  {
   "cell_type": "code",
   "execution_count": 80,
   "metadata": {},
   "outputs": [
    {
     "data": {
      "text/plain": [
       "(134568, 5406, 5465, 4561)"
      ]
     },
     "execution_count": 80,
     "metadata": {},
     "output_type": "execute_result"
    }
   ],
   "source": [
    "# compute confusion matrix on full dataset\n",
    "tn, fp, fn, tp = confusion_matrix(y_train_full, predictions).ravel()\n",
    "\n",
    "(tn, fp, fn, tp)"
   ]
  },
  {
   "cell_type": "markdown",
   "metadata": {},
   "source": [
    "### Prediction on the TEST set (for submission to Kaggle)"
   ]
  },
  {
   "cell_type": "code",
   "execution_count": null,
   "metadata": {},
   "outputs": [],
   "source": [
    "# predictions on test set\n",
    "orig_test = pd.read_csv('cs-test.csv')\n",
    "\n",
    "# inpute missing values, add the two indicator columns\n",
    "orig_test['isna_mi'] = 0\n",
    "orig_test.loc[orig_test[COL1_MISSING].isna(), 'isna_mi'] = 1\n",
    "orig_test.loc[orig_test[COL1_MISSING].isna(), COL1_MISSING] = MONTHLY_INC_MEDIAN\n",
    "\n",
    "orig_test['isna_nod'] = 0\n",
    "orig_test.loc[orig_test[COL2_MISSING].isna(), 'isna_nod'] = 1\n",
    "orig_test.loc[orig_test[COL2_MISSING].isna(), COL2_MISSING] = N_OF_DEP_MODE"
   ]
  },
  {
   "cell_type": "code",
   "execution_count": null,
   "metadata": {},
   "outputs": [],
   "source": [
    "ind_test = orig_test[ind_col].values"
   ]
  },
  {
   "cell_type": "code",
   "execution_count": null,
   "metadata": {},
   "outputs": [],
   "source": [
    "orig_test = orig_test.drop(ind_col, axis = 1)"
   ]
  },
  {
   "cell_type": "code",
   "execution_count": null,
   "metadata": {},
   "outputs": [],
   "source": [
    "ID_COL_NAME = 'Unnamed: 0'\n",
    "xorig_test = orig_test.drop(ID_COL_NAME, axis = 1)\n",
    "xorig_test = xorig_test.drop(TARGET, axis = 1)\n",
    "\n",
    "x_test = xorig_test.values"
   ]
  },
  {
   "cell_type": "code",
   "execution_count": null,
   "metadata": {},
   "outputs": [],
   "source": [
    "# aggiungi qui lo scaling !!!\n",
    "x_test_scaled = scaler.transform(x_test)\n",
    "# riaggiunge le colonne indicatore\n",
    "x_test_scaled = np.c_[x_test_scaled, ind_test]\n",
    "\n",
    "assert x_test_scaled.shape[1] == N_FEATURES"
   ]
  },
  {
   "cell_type": "code",
   "execution_count": null,
   "metadata": {},
   "outputs": [],
   "source": [
    "# do predictions on test set (no shuffle !)\n",
    "y_pred = clf.predict_proba(x_test_scaled)\n",
    "\n",
    "# y_pred contiene le probabilità\n",
    "y_pred = y_pred[:, 1]"
   ]
  },
  {
   "cell_type": "code",
   "execution_count": null,
   "metadata": {},
   "outputs": [],
   "source": [
    "# prepara il csv per la submission\n",
    "result_dict = {\"Id\": orig_test[ID_COL_NAME].values,\n",
    "              'Probability': y_pred}\n",
    "\n",
    "FILE_SUB = 'submission25.csv'\n",
    "\n",
    "# build a dataframe and save to csv\n",
    "result_df = pd.DataFrame(result_dict)\n",
    "\n",
    "result_df.to_csv(FILE_SUB, index=False, float_format='%.5f')"
   ]
  },
  {
   "cell_type": "code",
   "execution_count": null,
   "metadata": {},
   "outputs": [],
   "source": [
    "### Save Modela and scaler"
   ]
  },
  {
   "cell_type": "code",
   "execution_count": null,
   "metadata": {},
   "outputs": [],
   "source": [
    "# save model: uso un formato semplice: pkl\n",
    "pickle.dump(clf, open(\"credit-scoring.pkl\", \"wb\"))"
   ]
  },
  {
   "cell_type": "code",
   "execution_count": null,
   "metadata": {},
   "outputs": [],
   "source": [
    "# salvo anche lo scaler\n",
    "pickle.dump(scaler, open(\"scaler.pkl\", \"wb\"))"
   ]
  },
  {
   "cell_type": "markdown",
   "metadata": {},
   "source": [
    "### Online predictions"
   ]
  },
  {
   "cell_type": "code",
   "execution_count": null,
   "metadata": {},
   "outputs": [],
   "source": [
    "# reload the model\n",
    "loaded_model = pickle.load(open(\"credit-scoring.pkl\", \"rb\"))"
   ]
  },
  {
   "cell_type": "code",
   "execution_count": null,
   "metadata": {},
   "outputs": [],
   "source": [
    "# reload the scaler\n",
    "loaded_scaler = pickle.load(open(\"scaler.pkl\", \"rb\"))"
   ]
  },
  {
   "cell_type": "code",
   "execution_count": null,
   "metadata": {},
   "outputs": [],
   "source": [
    "# prepare for online predictions\n",
    "# input are given as a numpy array, with no missing fields, but we need to add the two indicator columns\n",
    "x_input = np.array([[1,2,3,4,5,6,7,8,9,10],\n",
    "                   [1,2,3,4,5,6,7,8,9,10],\n",
    "                   [1,2,3,4,5,6,7,8,9,10]])"
   ]
  },
  {
   "cell_type": "code",
   "execution_count": null,
   "metadata": {},
   "outputs": [],
   "source": [
    "# controlli\n",
    "assert x_input.shape[1] == 10\n",
    "# check there are no null\n",
    "assert np.sum(np.isnan(x_input)) == 0"
   ]
  },
  {
   "cell_type": "code",
   "execution_count": null,
   "metadata": {},
   "outputs": [],
   "source": [
    "# normalize\n",
    "x_input_scaled = loaded_scaler.transform(x_input)\n",
    "\n",
    "# add two columns with 0\n",
    "x_add = np.zeros((x_input.shape[0], 2))\n",
    "x_input_scaled = np.c_[x_input_scaled, x_add]"
   ]
  },
  {
   "cell_type": "code",
   "execution_count": null,
   "metadata": {},
   "outputs": [],
   "source": [
    "y_pred = loaded_model.predict(x_input_scaled)"
   ]
  },
  {
   "cell_type": "code",
   "execution_count": null,
   "metadata": {},
   "outputs": [],
   "source": [
    "y_pred"
   ]
  },
  {
   "cell_type": "code",
   "execution_count": null,
   "metadata": {},
   "outputs": [],
   "source": [
    "train_df[TARGET].hist();"
   ]
  },
  {
   "cell_type": "code",
   "execution_count": null,
   "metadata": {},
   "outputs": [],
   "source": []
  }
 ],
 "metadata": {
  "kernelspec": {
   "display_name": "Python [conda env:generalml_p37_gpu_v1]",
   "language": "python",
   "name": "conda-env-generalml_p37_gpu_v1-py"
  },
  "language_info": {
   "codemirror_mode": {
    "name": "ipython",
    "version": 3
   },
   "file_extension": ".py",
   "mimetype": "text/x-python",
   "name": "python",
   "nbconvert_exporter": "python",
   "pygments_lexer": "ipython3",
   "version": "3.7.12"
  }
 },
 "nbformat": 4,
 "nbformat_minor": 4
}
