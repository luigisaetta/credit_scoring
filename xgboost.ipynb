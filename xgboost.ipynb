{
 "cells": [
  {
   "cell_type": "code",
   "execution_count": 1,
   "metadata": {},
   "outputs": [],
   "source": [
    "import pandas as pd\n",
    "import numpy as np\n",
    "import xgboost as xgb\n",
    "\n",
    "from xgboost import XGBClassifier\n",
    "from sklearn.model_selection import train_test_split\n",
    "from sklearn.metrics import accuracy_score\n",
    "\n",
    "import matplotlib.pyplot as plt"
   ]
  },
  {
   "cell_type": "code",
   "execution_count": 2,
   "metadata": {},
   "outputs": [],
   "source": [
    "data = pd.read_csv('cs-training-nonull.csv')\n",
    "\n",
    "# remove unneeded\n",
    "data = data.drop('id', axis = 1)"
   ]
  },
  {
   "cell_type": "code",
   "execution_count": 3,
   "metadata": {},
   "outputs": [],
   "source": [
    "# global constants\n",
    "N_ESTIMATORS = 22\n",
    "TARGET = 'SeriousDlqin2yrs'\n",
    "COL1_MISSING = 'MonthlyIncome'\n",
    "COL2_MISSING = 'NumberOfDependents'"
   ]
  },
  {
   "cell_type": "code",
   "execution_count": 4,
   "metadata": {},
   "outputs": [],
   "source": [
    "# split in train, validation set\n",
    "data = data.sample(frac = 1)\n",
    "\n",
    "N_REC = data.shape[0]\n",
    "\n",
    "N_TRAIN = int(N_REC * 0.8)\n",
    "N_VALID = N_REC - N_TRAIN\n",
    "\n",
    "train_df = data[:N_TRAIN]\n",
    "valid_df = data[N_TRAIN:]"
   ]
  },
  {
   "cell_type": "code",
   "execution_count": 5,
   "metadata": {},
   "outputs": [],
   "source": [
    "# estrae X: matrice features ed y, labels\n",
    "xtrain_df = train_df.drop(TARGET, axis = 1)\n",
    "x_train = xtrain_df.values\n",
    "y_train = train_df[TARGET].values\n",
    "\n",
    "xvalid_df = valid_df.drop(TARGET, axis = 1)\n",
    "x_valid = xvalid_df.values\n",
    "y_valid = valid_df[TARGET].values"
   ]
  },
  {
   "cell_type": "markdown",
   "metadata": {},
   "source": [
    "### Train the XGBoost Classifier"
   ]
  },
  {
   "cell_type": "code",
   "execution_count": 6,
   "metadata": {},
   "outputs": [
    {
     "name": "stdout",
     "output_type": "stream",
     "text": [
      "[0]\tvalidation_0-auc:0.84977\tvalidation_1-auc:0.85122\n",
      "[1]\tvalidation_0-auc:0.85289\tvalidation_1-auc:0.85416\n",
      "[2]\tvalidation_0-auc:0.85651\tvalidation_1-auc:0.85661\n",
      "[3]\tvalidation_0-auc:0.85712\tvalidation_1-auc:0.85653\n",
      "[4]\tvalidation_0-auc:0.85811\tvalidation_1-auc:0.85725\n",
      "[5]\tvalidation_0-auc:0.85872\tvalidation_1-auc:0.85780\n",
      "[6]\tvalidation_0-auc:0.86041\tvalidation_1-auc:0.85885\n",
      "[7]\tvalidation_0-auc:0.86325\tvalidation_1-auc:0.86131\n",
      "[8]\tvalidation_0-auc:0.86543\tvalidation_1-auc:0.86211\n",
      "[9]\tvalidation_0-auc:0.86679\tvalidation_1-auc:0.86352\n",
      "[10]\tvalidation_0-auc:0.86848\tvalidation_1-auc:0.86447\n",
      "[11]\tvalidation_0-auc:0.87029\tvalidation_1-auc:0.86499\n",
      "[12]\tvalidation_0-auc:0.87137\tvalidation_1-auc:0.86497\n",
      "[13]\tvalidation_0-auc:0.87342\tvalidation_1-auc:0.86472\n",
      "[14]\tvalidation_0-auc:0.87418\tvalidation_1-auc:0.86553\n",
      "[15]\tvalidation_0-auc:0.87573\tvalidation_1-auc:0.86574\n",
      "[16]\tvalidation_0-auc:0.87721\tvalidation_1-auc:0.86625\n",
      "[17]\tvalidation_0-auc:0.87857\tvalidation_1-auc:0.86641\n",
      "[18]\tvalidation_0-auc:0.87976\tvalidation_1-auc:0.86659\n",
      "[19]\tvalidation_0-auc:0.88037\tvalidation_1-auc:0.86680\n",
      "[20]\tvalidation_0-auc:0.88115\tvalidation_1-auc:0.86659\n",
      "[21]\tvalidation_0-auc:0.88219\tvalidation_1-auc:0.86652\n"
     ]
    }
   ],
   "source": [
    "# 22 for early stopping, to avoid overfitting to the train set\n",
    "\n",
    "param_dist = {'objective':'binary:logistic', 'n_estimators':N_ESTIMATORS}\n",
    "\n",
    "clf = xgb.XGBClassifier(use_label_encoder=False, **param_dist)\n",
    "\n",
    "# valuto su train e su validation set\n",
    "clf.fit(x_train, y_train,\n",
    "        eval_set=[(x_train, y_train), (x_valid, y_valid)],\n",
    "        eval_metric='auc', verbose=True)\n",
    "\n",
    "evals_result = clf.evals_result()"
   ]
  },
  {
   "cell_type": "code",
   "execution_count": 7,
   "metadata": {},
   "outputs": [],
   "source": [
    "train_hist = evals_result['validation_0']['auc']\n",
    "val_hist = evals_result['validation_1']['auc']"
   ]
  },
  {
   "cell_type": "code",
   "execution_count": 8,
   "metadata": {},
   "outputs": [],
   "source": [
    "def plot_auc(train_hist, val_hist):\n",
    "    plt.figure(figsize=(14,6))\n",
    "    \n",
    "    plt.plot(train_hist, label='Training AUC')\n",
    "    plt.plot(val_hist, label='Validation AUC')\n",
    "    plt.title('AUC')\n",
    "    plt.legend(loc='upper right')\n",
    "    plt.ylabel('auc')\n",
    "    plt.xlabel('n_estimator')\n",
    "    plt.grid(True)\n",
    "    plt.show();"
   ]
  },
  {
   "cell_type": "code",
   "execution_count": 9,
   "metadata": {},
   "outputs": [
    {
     "data": {
      "image/png": "[encoded data removed]",
      "text/plain": [
       "<Figure size 1008x432 with 1 Axes>"
      ]
     },
     "metadata": {
      "needs_background": "light"
     },
     "output_type": "display_data"
    }
   ],
   "source": [
    "plot_auc(train_hist, val_hist)"
   ]
  },
  {
   "cell_type": "code",
   "execution_count": 10,
   "metadata": {},
   "outputs": [
    {
     "name": "stdout",
     "output_type": "stream",
     "text": [
      "Accuracy on validation set: 93.71%\n"
     ]
    }
   ],
   "source": [
    "# compute accuracy on validation set\n",
    "y_pred = clf.predict(x_valid)\n",
    "\n",
    "predictions = [round(value) for value in y_pred]\n",
    "\n",
    "accuracy = accuracy_score(y_valid, predictions)\n",
    "\n",
    "print(\"Accuracy on validation set: %.2f%%\" % (accuracy * 100.0))"
   ]
  },
  {
   "cell_type": "markdown",
   "metadata": {},
   "source": [
    "### Prediction on the TEST set (for submisson to Kaggle)"
   ]
  },
  {
   "cell_type": "code",
   "execution_count": 11,
   "metadata": {},
   "outputs": [],
   "source": [
    "# predictions on test set\n",
    "orig_test = pd.read_csv('cs-test.csv')\n",
    "\n",
    "# devo imputare i missing values\n",
    "# le statistiche per l'inputation le prendo dal train set\n",
    "orig_data = pd.read_csv('cs-training.csv')\n",
    "df_stats = orig_data.describe().transpose()\n",
    "mean_mi = df_stats.loc[COL1_MISSING, 'mean']\n",
    "mean_nod = df_stats.loc[COL2_MISSING, 'mean']\n",
    "\n",
    "# inpute missing values, add the two indicator columns\n",
    "condition = (orig_test[COL1_MISSING].isna())\n",
    "\n",
    "orig_test['isna_mi'] = 0\n",
    "orig_test.loc[condition, 'isna_mi'] = 1\n",
    "orig_test.loc[condition, COL1_MISSING] = mean_mi\n",
    "\n",
    "condition = (orig_test[COL2_MISSING].isna())\n",
    "\n",
    "orig_test['isna_nod'] = 0\n",
    "\n",
    "orig_test.loc[condition, 'isna_nod'] = 1\n",
    "orig_test.loc[condition, COL2_MISSING] = mean_nod"
   ]
  },
  {
   "cell_type": "code",
   "execution_count": 12,
   "metadata": {},
   "outputs": [],
   "source": [
    "ID_COL_NAME = 'Unnamed: 0'\n",
    "xorig_test = orig_test.drop(ID_COL_NAME, axis = 1)\n",
    "xorig_test = xorig_test.drop(TARGET, axis = 1)\n",
    "\n",
    "x_test = xorig_test.values"
   ]
  },
  {
   "cell_type": "code",
   "execution_count": 13,
   "metadata": {},
   "outputs": [],
   "source": [
    "# do predictions on test set (no shuffle !)\n",
    "y_pred = clf.predict_proba(x_test)\n",
    "\n",
    "y_pred = y_pred[:, 1]"
   ]
  },
  {
   "cell_type": "code",
   "execution_count": 14,
   "metadata": {},
   "outputs": [],
   "source": [
    "result_dict = {\"Id\": orig_test[ID_COL_NAME].values,\n",
    "              'Probability': y_pred}\n",
    "\n",
    "FILE_SUB = 'submission12.csv'\n",
    "\n",
    "# build a dataframe and save to csv\n",
    "result_df = pd.DataFrame(result_dict)\n",
    "\n",
    "result_df.to_csv(FILE_SUB, index=False, float_format='%.5f')"
   ]
  },
  {
   "cell_type": "code",
   "execution_count": null,
   "metadata": {},
   "outputs": [],
   "source": []
  }
 ],
 "metadata": {
  "kernelspec": {
   "display_name": "Python 3",
   "language": "python",
   "name": "python3"
  },
  "language_info": {
   "codemirror_mode": {
    "name": "ipython",
    "version": 3
   },
   "file_extension": ".py",
   "mimetype": "text/x-python",
   "name": "python",
   "nbconvert_exporter": "python",
   "pygments_lexer": "ipython3",
   "version": "3.7.9"
  }
 },
 "nbformat": 4,
 "nbformat_minor": 4
}
