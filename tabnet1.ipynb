{
 "cells": [
  {
   "cell_type": "markdown",
   "id": "exceptional-there",
   "metadata": {},
   "source": [
    "21/3/2021 Modified adding callbacks"
   ]
  },
  {
   "cell_type": "code",
   "execution_count": 1,
   "id": "protected-juice",
   "metadata": {},
   "outputs": [],
   "source": [
    "import numpy as np\n",
    "import pandas as pd\n",
    "import matplotlib.pyplot as plt\n",
    "import time\n",
    "\n",
    "import torch\n",
    "import pytorch_tabnet\n",
    "\n",
    "from pytorch_tabnet.tab_model import TabNetClassifier\n",
    "from pytorch_tabnet.callbacks import Callback\n",
    "\n",
    "import mlflow\n",
    "\n",
    "from sklearn.preprocessing import LabelEncoder"
   ]
  },
  {
   "cell_type": "code",
   "execution_count": 2,
   "id": "material-contents",
   "metadata": {},
   "outputs": [],
   "source": [
    "# loading data\n",
    "df_orig = pd.read_csv('cs-training-nonull.csv')"
   ]
  },
  {
   "cell_type": "code",
   "execution_count": 3,
   "id": "greenhouse-found",
   "metadata": {},
   "outputs": [
    {
     "data": {
      "text/html": [
       "<div>\n",
       "<style scoped>\n",
       "    .dataframe tbody tr th:only-of-type {\n",
       "        vertical-align: middle;\n",
       "    }\n",
       "\n",
       "    .dataframe tbody tr th {\n",
       "        vertical-align: top;\n",
       "    }\n",
       "\n",
       "    .dataframe thead th {\n",
       "        text-align: right;\n",
       "    }\n",
       "</style>\n",
       "<table border=\"1\" class=\"dataframe\">\n",
       "  <thead>\n",
       "    <tr style=\"text-align: right;\">\n",
       "      <th></th>\n",
       "      <th>id</th>\n",
       "      <th>SeriousDlqin2yrs</th>\n",
       "      <th>RevolvingUtilizationOfUnsecuredLines</th>\n",
       "      <th>age</th>\n",
       "      <th>NumberOfTime30-59DaysPastDueNotWorse</th>\n",
       "      <th>DebtRatio</th>\n",
       "      <th>MonthlyIncome</th>\n",
       "      <th>NumberOfOpenCreditLinesAndLoans</th>\n",
       "      <th>NumberOfTimes90DaysLate</th>\n",
       "      <th>NumberRealEstateLoansOrLines</th>\n",
       "      <th>NumberOfTime60-89DaysPastDueNotWorse</th>\n",
       "      <th>NumberOfDependents</th>\n",
       "      <th>isna_mi</th>\n",
       "      <th>isna_nod</th>\n",
       "    </tr>\n",
       "  </thead>\n",
       "  <tbody>\n",
       "    <tr>\n",
       "      <th>0</th>\n",
       "      <td>1</td>\n",
       "      <td>1</td>\n",
       "      <td>0.766127</td>\n",
       "      <td>45</td>\n",
       "      <td>2</td>\n",
       "      <td>0.802982</td>\n",
       "      <td>9120.0</td>\n",
       "      <td>13</td>\n",
       "      <td>0</td>\n",
       "      <td>6</td>\n",
       "      <td>0</td>\n",
       "      <td>2.0</td>\n",
       "      <td>0</td>\n",
       "      <td>0</td>\n",
       "    </tr>\n",
       "    <tr>\n",
       "      <th>1</th>\n",
       "      <td>2</td>\n",
       "      <td>0</td>\n",
       "      <td>0.957151</td>\n",
       "      <td>40</td>\n",
       "      <td>0</td>\n",
       "      <td>0.121876</td>\n",
       "      <td>2600.0</td>\n",
       "      <td>4</td>\n",
       "      <td>0</td>\n",
       "      <td>0</td>\n",
       "      <td>0</td>\n",
       "      <td>1.0</td>\n",
       "      <td>0</td>\n",
       "      <td>0</td>\n",
       "    </tr>\n",
       "    <tr>\n",
       "      <th>2</th>\n",
       "      <td>3</td>\n",
       "      <td>0</td>\n",
       "      <td>0.658180</td>\n",
       "      <td>38</td>\n",
       "      <td>1</td>\n",
       "      <td>0.085113</td>\n",
       "      <td>3042.0</td>\n",
       "      <td>2</td>\n",
       "      <td>1</td>\n",
       "      <td>0</td>\n",
       "      <td>0</td>\n",
       "      <td>0.0</td>\n",
       "      <td>0</td>\n",
       "      <td>0</td>\n",
       "    </tr>\n",
       "    <tr>\n",
       "      <th>3</th>\n",
       "      <td>4</td>\n",
       "      <td>0</td>\n",
       "      <td>0.233810</td>\n",
       "      <td>30</td>\n",
       "      <td>0</td>\n",
       "      <td>0.036050</td>\n",
       "      <td>3300.0</td>\n",
       "      <td>5</td>\n",
       "      <td>0</td>\n",
       "      <td>0</td>\n",
       "      <td>0</td>\n",
       "      <td>0.0</td>\n",
       "      <td>0</td>\n",
       "      <td>0</td>\n",
       "    </tr>\n",
       "    <tr>\n",
       "      <th>4</th>\n",
       "      <td>5</td>\n",
       "      <td>0</td>\n",
       "      <td>0.907239</td>\n",
       "      <td>49</td>\n",
       "      <td>1</td>\n",
       "      <td>0.024926</td>\n",
       "      <td>63588.0</td>\n",
       "      <td>7</td>\n",
       "      <td>0</td>\n",
       "      <td>1</td>\n",
       "      <td>0</td>\n",
       "      <td>0.0</td>\n",
       "      <td>0</td>\n",
       "      <td>0</td>\n",
       "    </tr>\n",
       "  </tbody>\n",
       "</table>\n",
       "</div>"
      ],
      "text/plain": [
       "   id  SeriousDlqin2yrs  RevolvingUtilizationOfUnsecuredLines  age  \\\n",
       "0   1                 1                              0.766127   45   \n",
       "1   2                 0                              0.957151   40   \n",
       "2   3                 0                              0.658180   38   \n",
       "3   4                 0                              0.233810   30   \n",
       "4   5                 0                              0.907239   49   \n",
       "\n",
       "   NumberOfTime30-59DaysPastDueNotWorse  DebtRatio  MonthlyIncome  \\\n",
       "0                                     2   0.802982         9120.0   \n",
       "1                                     0   0.121876         2600.0   \n",
       "2                                     1   0.085113         3042.0   \n",
       "3                                     0   0.036050         3300.0   \n",
       "4                                     1   0.024926        63588.0   \n",
       "\n",
       "   NumberOfOpenCreditLinesAndLoans  NumberOfTimes90DaysLate  \\\n",
       "0                               13                        0   \n",
       "1                                4                        0   \n",
       "2                                2                        1   \n",
       "3                                5                        0   \n",
       "4                                7                        0   \n",
       "\n",
       "   NumberRealEstateLoansOrLines  NumberOfTime60-89DaysPastDueNotWorse  \\\n",
       "0                             6                                     0   \n",
       "1                             0                                     0   \n",
       "2                             0                                     0   \n",
       "3                             0                                     0   \n",
       "4                             1                                     0   \n",
       "\n",
       "   NumberOfDependents  isna_mi  isna_nod  \n",
       "0                 2.0        0         0  \n",
       "1                 1.0        0         0  \n",
       "2                 0.0        0         0  \n",
       "3                 0.0        0         0  \n",
       "4                 0.0        0         0  "
      ]
     },
     "execution_count": 3,
     "metadata": {},
     "output_type": "execute_result"
    }
   ],
   "source": [
    "df_orig.head()"
   ]
  },
  {
   "cell_type": "code",
   "execution_count": 4,
   "id": "bacterial-mathematics",
   "metadata": {},
   "outputs": [
    {
     "data": {
      "text/plain": [
       "Index(['id', 'SeriousDlqin2yrs', 'RevolvingUtilizationOfUnsecuredLines', 'age',\n",
       "       'NumberOfTime30-59DaysPastDueNotWorse', 'DebtRatio', 'MonthlyIncome',\n",
       "       'NumberOfOpenCreditLinesAndLoans', 'NumberOfTimes90DaysLate',\n",
       "       'NumberRealEstateLoansOrLines', 'NumberOfTime60-89DaysPastDueNotWorse',\n",
       "       'NumberOfDependents', 'isna_mi', 'isna_nod'],\n",
       "      dtype='object')"
      ]
     },
     "execution_count": 4,
     "metadata": {},
     "output_type": "execute_result"
    }
   ],
   "source": [
    "df_orig.columns"
   ]
  },
  {
   "cell_type": "code",
   "execution_count": 5,
   "id": "appointed-queens",
   "metadata": {},
   "outputs": [],
   "source": [
    "data = df_orig.copy()"
   ]
  },
  {
   "cell_type": "code",
   "execution_count": 6,
   "id": "personal-principal",
   "metadata": {},
   "outputs": [],
   "source": [
    "# columns that will be used\n",
    "PREDICTOR = 'SeriousDlqin2yrs'\n",
    "\n",
    "unused_feat = ['id']\n",
    "\n",
    "num_col_list = ['RevolvingUtilizationOfUnsecuredLines','DebtRatio', 'MonthlyIncome']\n",
    "\n",
    "cat_col_list = ['age', 'NumberOfTime30-59DaysPastDueNotWorse', 'NumberOfOpenCreditLinesAndLoans', \n",
    "                'NumberOfTimes90DaysLate', 'NumberRealEstateLoansOrLines', 'NumberOfTime60-89DaysPastDueNotWorse',\n",
    "               'NumberOfDependents']\n",
    "\n",
    "all_col_list = num_col_list + cat_col_list"
   ]
  },
  {
   "cell_type": "code",
   "execution_count": 7,
   "id": "accepting-lithuania",
   "metadata": {},
   "outputs": [
    {
     "name": "stdout",
     "output_type": "stream",
     "text": [
      "age 86\n",
      "NumberOfTime30-59DaysPastDueNotWorse 16\n",
      "NumberOfOpenCreditLinesAndLoans 58\n",
      "NumberOfTimes90DaysLate 19\n",
      "NumberRealEstateLoansOrLines 28\n",
      "NumberOfTime60-89DaysPastDueNotWorse 13\n",
      "NumberOfDependents 13\n"
     ]
    }
   ],
   "source": [
    "# encode cat features (with label encoder)\n",
    "nunique = data.nunique()\n",
    "types = data.dtypes\n",
    "\n",
    "categorical_columns = cat_col_list\n",
    "categorical_dims =  {}\n",
    "\n",
    "# I need to save the encoder list for the processing of the test set\n",
    "enc_list = []\n",
    " \n",
    "for col in cat_col_list:\n",
    "    print(col, data[col].nunique())\n",
    "    l_enc = LabelEncoder()\n",
    "    data[col] = l_enc.fit_transform(data[col].values)\n",
    "    \n",
    "    # save the encoder for the test set\n",
    "    enc_list.append(l_enc)\n",
    "    categorical_dims[col] = len(l_enc.classes_)"
   ]
  },
  {
   "cell_type": "code",
   "execution_count": 8,
   "id": "exposed-narrative",
   "metadata": {},
   "outputs": [
    {
     "name": "stdout",
     "output_type": "stream",
     "text": [
      "Number of records in train dataset: 120000\n",
      "Number of records in validation dataset: 30000\n"
     ]
    }
   ],
   "source": [
    "# split data in train, validation\n",
    "FRAC = 0.8\n",
    "\n",
    "N_TRAIN = int(data.shape[0] * FRAC)\n",
    "N_VALID = data.shape[0] - N_TRAIN\n",
    "\n",
    "# before splitting, shuffle\n",
    "data = data.sample(frac = 1)\n",
    "\n",
    "df_train = data[:N_TRAIN]\n",
    "df_valid = data[N_TRAIN:]\n",
    "\n",
    "print('Number of records in train dataset:', N_TRAIN)\n",
    "print('Number of records in validation dataset:', N_VALID)"
   ]
  },
  {
   "cell_type": "code",
   "execution_count": 9,
   "id": "communist-industry",
   "metadata": {},
   "outputs": [],
   "source": [
    "label_train = df_train[PREDICTOR].values\n",
    "label_valid = df_valid[PREDICTOR].values\n",
    "\n",
    "df_train = df_train[all_col_list]\n",
    "df_valid = df_valid[all_col_list]"
   ]
  },
  {
   "cell_type": "code",
   "execution_count": 10,
   "id": "existing-merchandise",
   "metadata": {},
   "outputs": [],
   "source": [
    "features = [ col for col in df_train.columns if col not in unused_feat+[PREDICTOR]] \n",
    "\n",
    "cat_idxs = [ i for i, f in enumerate(features) if f in categorical_columns]\n",
    "\n",
    "cat_dims = [ categorical_dims[f] for i, f in enumerate(features) if f in categorical_columns]"
   ]
  },
  {
   "cell_type": "code",
   "execution_count": 11,
   "id": "nasty-porcelain",
   "metadata": {},
   "outputs": [
    {
     "name": "stdout",
     "output_type": "stream",
     "text": [
      "Index of cat colums: [3, 4, 5, 6, 7, 8, 9]\n"
     ]
    }
   ],
   "source": [
    "print('Index of cat colums:', cat_idxs)"
   ]
  },
  {
   "cell_type": "code",
   "execution_count": 12,
   "id": "white-venice",
   "metadata": {},
   "outputs": [
    {
     "name": "stdout",
     "output_type": "stream",
     "text": [
      "Cardinality of cat columns: [86, 16, 58, 19, 28, 13, 13]\n"
     ]
    }
   ],
   "source": [
    "print('Cardinality of cat columns:', cat_dims)"
   ]
  },
  {
   "cell_type": "code",
   "execution_count": 13,
   "id": "caring-alliance",
   "metadata": {},
   "outputs": [],
   "source": [
    "# MLFLOW, configuration, for the callback\n",
    "\n",
    "MLF_TRACK_URI = 'http://130.61.20.111:5000'\n",
    "MLF_EXP_NAME = 'tabnet21gpu'\n",
    "MLF_RUN_NAME = 'tabnet21gpu-1'"
   ]
  },
  {
   "cell_type": "code",
   "execution_count": 14,
   "id": "fitting-cornell",
   "metadata": {},
   "outputs": [],
   "source": [
    "#\n",
    "# Hyper-parameters\n",
    "#\n",
    "params = {\n",
    "    \"epochs\" : 50,\n",
    "    \"batch_size\" : 2048,\n",
    "    \"n_steps\" : 2,\n",
    "    \"n_d\" : 32,\n",
    "    \"cat_emb_dim\" : 2\n",
    "}"
   ]
  },
  {
   "cell_type": "code",
   "execution_count": 15,
   "id": "detailed-colombia",
   "metadata": {},
   "outputs": [],
   "source": [
    "#\n",
    "# callback for MLFlow integration\n",
    "#\n",
    "class MLCallback(Callback):\n",
    "    def on_train_begin(self, logs=None):\n",
    "        \n",
    "        mlflow.set_tracking_uri(MLF_TRACK_URI)\n",
    "        mlflow.set_experiment(MLF_EXP_NAME)\n",
    "        \n",
    "        print('Train begin...')\n",
    "        mlflow.start_run(run_name = MLF_RUN_NAME)\n",
    "        \n",
    "        mlflow.log_params(params)\n",
    "        \n",
    "    def on_train_end(self, logs=None):\n",
    "        \n",
    "        mlflow.end_run()\n",
    "        print('Train end...')\n",
    "        \n",
    "    def on_epoch_end(self, epoch, logs=None):\n",
    "        \n",
    "        # print(logs)\n",
    "        \n",
    "        # send to MLFlow\n",
    "        mlflow.log_metric(\"train_auc\", logs['train_auc'])\n",
    "        mlflow.log_metric(\"valid_auc\", logs[\"valid_auc\"])\n",
    "        mlflow.log_metric(\"loss\", logs[\"loss\"])"
   ]
  },
  {
   "cell_type": "code",
   "execution_count": 16,
   "id": "written-strand",
   "metadata": {},
   "outputs": [
    {
     "name": "stdout",
     "output_type": "stream",
     "text": [
      "Device used : cpu\n",
      "INFO: 'tabnet14' does not exist. Creating a new experiment\n",
      "Train begin...\n",
      "epoch 0  | loss: 0.31429 | train_auc: 0.65664 | valid_auc: 0.64494 |  0:00:33s\n",
      "epoch 1  | loss: 0.21618 | train_auc: 0.71471 | valid_auc: 0.70108 |  0:01:07s\n",
      "epoch 2  | loss: 0.21077 | train_auc: 0.75596 | valid_auc: 0.74373 |  0:01:37s\n",
      "epoch 3  | loss: 0.20655 | train_auc: 0.77706 | valid_auc: 0.76952 |  0:02:07s\n",
      "epoch 4  | loss: 0.20355 | train_auc: 0.7888  | valid_auc: 0.77871 |  0:02:37s\n",
      "epoch 5  | loss: 0.20081 | train_auc: 0.79783 | valid_auc: 0.78738 |  0:03:06s\n",
      "epoch 6  | loss: 0.20014 | train_auc: 0.8002  | valid_auc: 0.7898  |  0:03:36s\n",
      "epoch 7  | loss: 0.19861 | train_auc: 0.80417 | valid_auc: 0.7959  |  0:04:06s\n",
      "epoch 8  | loss: 0.19897 | train_auc: 0.80707 | valid_auc: 0.79574 |  0:04:35s\n",
      "epoch 9  | loss: 0.19629 | train_auc: 0.80852 | valid_auc: 0.79935 |  0:05:05s\n",
      "epoch 10 | loss: 0.19586 | train_auc: 0.81051 | valid_auc: 0.80018 |  0:05:34s\n",
      "epoch 11 | loss: 0.1956  | train_auc: 0.81131 | valid_auc: 0.80075 |  0:06:04s\n",
      "epoch 12 | loss: 0.19475 | train_auc: 0.81301 | valid_auc: 0.80185 |  0:06:40s\n",
      "epoch 13 | loss: 0.19486 | train_auc: 0.81442 | valid_auc: 0.80397 |  0:07:12s\n",
      "epoch 14 | loss: 0.19408 | train_auc: 0.81385 | valid_auc: 0.80426 |  0:07:43s\n",
      "epoch 15 | loss: 0.19389 | train_auc: 0.81603 | valid_auc: 0.80598 |  0:08:14s\n",
      "epoch 16 | loss: 0.19337 | train_auc: 0.81439 | valid_auc: 0.80106 |  0:08:46s\n",
      "epoch 17 | loss: 0.19288 | train_auc: 0.81846 | valid_auc: 0.80369 |  0:09:19s\n",
      "epoch 18 | loss: 0.19276 | train_auc: 0.81877 | valid_auc: 0.80483 |  0:09:52s\n",
      "epoch 19 | loss: 0.19293 | train_auc: 0.81828 | valid_auc: 0.80455 |  0:10:21s\n",
      "epoch 20 | loss: 0.19289 | train_auc: 0.82024 | valid_auc: 0.80451 |  0:10:51s\n",
      "epoch 21 | loss: 0.19279 | train_auc: 0.81982 | valid_auc: 0.80305 |  0:11:23s\n",
      "epoch 22 | loss: 0.19255 | train_auc: 0.82154 | valid_auc: 0.8051  |  0:11:54s\n",
      "epoch 23 | loss: 0.19274 | train_auc: 0.8221  | valid_auc: 0.80526 |  0:12:26s\n",
      "epoch 24 | loss: 0.19198 | train_auc: 0.8242  | valid_auc: 0.80719 |  0:13:01s\n",
      "epoch 25 | loss: 0.19167 | train_auc: 0.82659 | valid_auc: 0.80777 |  0:13:35s\n",
      "epoch 26 | loss: 0.19112 | train_auc: 0.82599 | valid_auc: 0.80719 |  0:14:06s\n",
      "epoch 27 | loss: 0.19151 | train_auc: 0.82752 | valid_auc: 0.80772 |  0:14:38s\n",
      "epoch 28 | loss: 0.19144 | train_auc: 0.82628 | valid_auc: 0.80821 |  0:15:11s\n",
      "epoch 29 | loss: 0.19114 | train_auc: 0.82697 | valid_auc: 0.80936 |  0:15:42s\n",
      "epoch 30 | loss: 0.1907  | train_auc: 0.82839 | valid_auc: 0.80971 |  0:16:14s\n",
      "epoch 31 | loss: 0.19163 | train_auc: 0.82839 | valid_auc: 0.80961 |  0:16:45s\n",
      "epoch 32 | loss: 0.19107 | train_auc: 0.82949 | valid_auc: 0.80861 |  0:17:18s\n",
      "epoch 33 | loss: 0.19064 | train_auc: 0.83078 | valid_auc: 0.81079 |  0:17:49s\n",
      "epoch 34 | loss: 0.19056 | train_auc: 0.83214 | valid_auc: 0.81233 |  0:18:21s\n",
      "epoch 35 | loss: 0.19001 | train_auc: 0.83243 | valid_auc: 0.81279 |  0:18:53s\n",
      "epoch 36 | loss: 0.18949 | train_auc: 0.8344  | valid_auc: 0.81452 |  0:19:23s\n",
      "epoch 37 | loss: 0.18996 | train_auc: 0.83162 | valid_auc: 0.81452 |  0:19:54s\n",
      "epoch 38 | loss: 0.19078 | train_auc: 0.83449 | valid_auc: 0.81533 |  0:20:26s\n",
      "epoch 39 | loss: 0.1896  | train_auc: 0.83424 | valid_auc: 0.81551 |  0:20:58s\n",
      "epoch 40 | loss: 0.18944 | train_auc: 0.83619 | valid_auc: 0.81697 |  0:21:30s\n",
      "epoch 41 | loss: 0.18965 | train_auc: 0.83572 | valid_auc: 0.81784 |  0:22:04s\n",
      "epoch 42 | loss: 0.18913 | train_auc: 0.83508 | valid_auc: 0.81544 |  0:22:36s\n",
      "epoch 43 | loss: 0.18899 | train_auc: 0.83671 | valid_auc: 0.81652 |  0:23:07s\n",
      "epoch 44 | loss: 0.18876 | train_auc: 0.83782 | valid_auc: 0.81758 |  0:23:38s\n",
      "epoch 45 | loss: 0.18858 | train_auc: 0.83823 | valid_auc: 0.81855 |  0:24:10s\n",
      "epoch 46 | loss: 0.18839 | train_auc: 0.83799 | valid_auc: 0.81719 |  0:24:41s\n",
      "epoch 47 | loss: 0.18808 | train_auc: 0.83931 | valid_auc: 0.81864 |  0:25:11s\n",
      "epoch 48 | loss: 0.18844 | train_auc: 0.83901 | valid_auc: 0.81957 |  0:25:42s\n",
      "epoch 49 | loss: 0.18782 | train_auc: 0.83991 | valid_auc: 0.81797 |  0:26:13s\n",
      "Stop training because you reached max_epochs = 50 with best_epoch = 48 and best_valid_auc = 0.81957\n",
      "Best weights from best epoch are automatically used!\n",
      "Train end...\n"
     ]
    }
   ],
   "source": [
    "# \n",
    "EPOCHS = params['epochs']\n",
    "BATCH_SIZE = params['batch_size']\n",
    "N_STEPS = params['n_steps']\n",
    "CAT_EMB_DIM = params['cat_emb_dim']\n",
    "N_D = params['n_d']\n",
    "N_A = N_D\n",
    "\n",
    "# callback for MLFlow integration\n",
    "mlcbck = MLCallback()\n",
    "\n",
    "clf = TabNetClassifier(cat_idxs=cat_idxs,\n",
    "                       cat_dims=cat_dims,\n",
    "                       cat_emb_dim=CAT_EMB_DIM,\n",
    "                       optimizer_fn=torch.optim.Adam,\n",
    "                       optimizer_params=dict(lr=5e-3),\n",
    "                       scheduler_params={\"step_size\":10, # how to use learning rate scheduler\n",
    "                                         \"gamma\":0.9},\n",
    "                       scheduler_fn=torch.optim.lr_scheduler.StepLR,\n",
    "                       mask_type='sparsemax',\n",
    "                       n_steps = N_STEPS,\n",
    "                       n_d = N_D,\n",
    "                       n_a = N_A\n",
    "                      )\n",
    "\n",
    "clf.fit(df_train.values, label_train,\n",
    "        eval_set=[(df_train.values, label_train),(df_valid.values, label_valid)],\n",
    "        max_epochs = EPOCHS,\n",
    "        batch_size = BATCH_SIZE,\n",
    "        patience = 10,\n",
    "        eval_name=['train', 'valid'],\n",
    "        eval_metric=['auc'],\n",
    "        callbacks = [mlcbck]\n",
    ")"
   ]
  },
  {
   "cell_type": "code",
   "execution_count": 17,
   "id": "secure-plain",
   "metadata": {},
   "outputs": [
    {
     "data": {
      "image/png": "[encoded data removed]",
      "text/plain": [
       "<Figure size 720x432 with 1 Axes>"
      ]
     },
     "metadata": {
      "needs_background": "light"
     },
     "output_type": "display_data"
    }
   ],
   "source": [
    "# plot auc\n",
    "plt.figure(figsize=(10,6))\n",
    "plt.title('AUC')\n",
    "plt.plot(clf.history['train_auc'], label='Training AUC')\n",
    "plt.plot(clf.history['valid_auc'], label='Validation AUC')\n",
    "plt.legend(loc='lower right')\n",
    "plt.ylabel('AUC')\n",
    "plt.xlabel('epoch')\n",
    "plt.grid(True);\n",
    "plt.show();"
   ]
  },
  {
   "cell_type": "code",
   "execution_count": 18,
   "id": "greatest-decimal",
   "metadata": {},
   "outputs": [
    {
     "data": {
      "image/png": "[encoded data removed]",
      "text/plain": [
       "<Figure size 720x432 with 1 Axes>"
      ]
     },
     "metadata": {
      "needs_background": "light"
     },
     "output_type": "display_data"
    }
   ],
   "source": [
    "# let's look at feature importance\n",
    "# plt.bar(x= range(len(clf.feature_importances_)), height=clf.feature_importances_, );\n",
    "plt.figure(figsize=(10,6))\n",
    "plt.xticks(rotation=90)\n",
    "plt.title('Feature importance')\n",
    "plt.bar(x= all_col_list, height=clf.feature_importances_, );\n",
    "plt.grid(True);"
   ]
  },
  {
   "cell_type": "code",
   "execution_count": null,
   "id": "accessory-assignment",
   "metadata": {},
   "outputs": [],
   "source": []
  },
  {
   "cell_type": "code",
   "execution_count": null,
   "id": "nominated-domain",
   "metadata": {},
   "outputs": [],
   "source": []
  },
  {
   "cell_type": "code",
   "execution_count": null,
   "id": "operating-basic",
   "metadata": {},
   "outputs": [],
   "source": []
  }
 ],
 "metadata": {
  "kernelspec": {
   "display_name": "Python 3",
   "language": "python",
   "name": "python3"
  },
  "language_info": {
   "codemirror_mode": {
    "name": "ipython",
    "version": 3
   },
   "file_extension": ".py",
   "mimetype": "text/x-python",
   "name": "python",
   "nbconvert_exporter": "python",
   "pygments_lexer": "ipython3",
   "version": "3.7.10"
  }
 },
 "nbformat": 4,
 "nbformat_minor": 5
}
