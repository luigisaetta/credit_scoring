{
 "cells": [
  {
   "cell_type": "code",
   "execution_count": 1,
   "metadata": {},
   "outputs": [],
   "source": [
    "import pandas as pd\n",
    "import numpy as np\n",
    "import xgboost as xgb\n",
    "\n",
    "from xgboost import XGBClassifier\n",
    "from sklearn.model_selection import train_test_split\n",
    "from sklearn.metrics import accuracy_score"
   ]
  },
  {
   "cell_type": "code",
   "execution_count": 2,
   "metadata": {},
   "outputs": [],
   "source": [
    "data = pd.read_csv('cs-training-nonull.csv')"
   ]
  },
  {
   "cell_type": "code",
   "execution_count": 3,
   "metadata": {},
   "outputs": [
    {
     "data": {
      "text/html": [
       "<div>\n",
       "<style scoped>\n",
       "    .dataframe tbody tr th:only-of-type {\n",
       "        vertical-align: middle;\n",
       "    }\n",
       "\n",
       "    .dataframe tbody tr th {\n",
       "        vertical-align: top;\n",
       "    }\n",
       "\n",
       "    .dataframe thead th {\n",
       "        text-align: right;\n",
       "    }\n",
       "</style>\n",
       "<table border=\"1\" class=\"dataframe\">\n",
       "  <thead>\n",
       "    <tr style=\"text-align: right;\">\n",
       "      <th></th>\n",
       "      <th>SeriousDlqin2yrs</th>\n",
       "      <th>RevolvingUtilizationOfUnsecuredLines</th>\n",
       "      <th>age</th>\n",
       "      <th>NumberOfTime30-59DaysPastDueNotWorse</th>\n",
       "      <th>DebtRatio</th>\n",
       "      <th>MonthlyIncome</th>\n",
       "      <th>NumberOfOpenCreditLinesAndLoans</th>\n",
       "      <th>NumberOfTimes90DaysLate</th>\n",
       "      <th>NumberRealEstateLoansOrLines</th>\n",
       "      <th>NumberOfTime60-89DaysPastDueNotWorse</th>\n",
       "      <th>NumberOfDependents</th>\n",
       "      <th>isna_mi</th>\n",
       "      <th>isna_nod</th>\n",
       "    </tr>\n",
       "  </thead>\n",
       "  <tbody>\n",
       "    <tr>\n",
       "      <th>0</th>\n",
       "      <td>1</td>\n",
       "      <td>0.766127</td>\n",
       "      <td>45</td>\n",
       "      <td>2</td>\n",
       "      <td>0.802982</td>\n",
       "      <td>9120.0</td>\n",
       "      <td>13</td>\n",
       "      <td>0</td>\n",
       "      <td>6</td>\n",
       "      <td>0</td>\n",
       "      <td>2.0</td>\n",
       "      <td>0</td>\n",
       "      <td>0</td>\n",
       "    </tr>\n",
       "    <tr>\n",
       "      <th>1</th>\n",
       "      <td>0</td>\n",
       "      <td>0.957151</td>\n",
       "      <td>40</td>\n",
       "      <td>0</td>\n",
       "      <td>0.121876</td>\n",
       "      <td>2600.0</td>\n",
       "      <td>4</td>\n",
       "      <td>0</td>\n",
       "      <td>0</td>\n",
       "      <td>0</td>\n",
       "      <td>1.0</td>\n",
       "      <td>0</td>\n",
       "      <td>0</td>\n",
       "    </tr>\n",
       "    <tr>\n",
       "      <th>2</th>\n",
       "      <td>0</td>\n",
       "      <td>0.658180</td>\n",
       "      <td>38</td>\n",
       "      <td>1</td>\n",
       "      <td>0.085113</td>\n",
       "      <td>3042.0</td>\n",
       "      <td>2</td>\n",
       "      <td>1</td>\n",
       "      <td>0</td>\n",
       "      <td>0</td>\n",
       "      <td>0.0</td>\n",
       "      <td>0</td>\n",
       "      <td>0</td>\n",
       "    </tr>\n",
       "    <tr>\n",
       "      <th>3</th>\n",
       "      <td>0</td>\n",
       "      <td>0.233810</td>\n",
       "      <td>30</td>\n",
       "      <td>0</td>\n",
       "      <td>0.036050</td>\n",
       "      <td>3300.0</td>\n",
       "      <td>5</td>\n",
       "      <td>0</td>\n",
       "      <td>0</td>\n",
       "      <td>0</td>\n",
       "      <td>0.0</td>\n",
       "      <td>0</td>\n",
       "      <td>0</td>\n",
       "    </tr>\n",
       "    <tr>\n",
       "      <th>4</th>\n",
       "      <td>0</td>\n",
       "      <td>0.907239</td>\n",
       "      <td>49</td>\n",
       "      <td>1</td>\n",
       "      <td>0.024926</td>\n",
       "      <td>63588.0</td>\n",
       "      <td>7</td>\n",
       "      <td>0</td>\n",
       "      <td>1</td>\n",
       "      <td>0</td>\n",
       "      <td>0.0</td>\n",
       "      <td>0</td>\n",
       "      <td>0</td>\n",
       "    </tr>\n",
       "  </tbody>\n",
       "</table>\n",
       "</div>"
      ],
      "text/plain": [
       "   SeriousDlqin2yrs  RevolvingUtilizationOfUnsecuredLines  age  \\\n",
       "0                 1                              0.766127   45   \n",
       "1                 0                              0.957151   40   \n",
       "2                 0                              0.658180   38   \n",
       "3                 0                              0.233810   30   \n",
       "4                 0                              0.907239   49   \n",
       "\n",
       "   NumberOfTime30-59DaysPastDueNotWorse  DebtRatio  MonthlyIncome  \\\n",
       "0                                     2   0.802982         9120.0   \n",
       "1                                     0   0.121876         2600.0   \n",
       "2                                     1   0.085113         3042.0   \n",
       "3                                     0   0.036050         3300.0   \n",
       "4                                     1   0.024926        63588.0   \n",
       "\n",
       "   NumberOfOpenCreditLinesAndLoans  NumberOfTimes90DaysLate  \\\n",
       "0                               13                        0   \n",
       "1                                4                        0   \n",
       "2                                2                        1   \n",
       "3                                5                        0   \n",
       "4                                7                        0   \n",
       "\n",
       "   NumberRealEstateLoansOrLines  NumberOfTime60-89DaysPastDueNotWorse  \\\n",
       "0                             6                                     0   \n",
       "1                             0                                     0   \n",
       "2                             0                                     0   \n",
       "3                             0                                     0   \n",
       "4                             1                                     0   \n",
       "\n",
       "   NumberOfDependents  isna_mi  isna_nod  \n",
       "0                 2.0        0         0  \n",
       "1                 1.0        0         0  \n",
       "2                 0.0        0         0  \n",
       "3                 0.0        0         0  \n",
       "4                 0.0        0         0  "
      ]
     },
     "execution_count": 3,
     "metadata": {},
     "output_type": "execute_result"
    }
   ],
   "source": [
    "data = data.drop('id', axis = 1)\n",
    "\n",
    "data.head()"
   ]
  },
  {
   "cell_type": "code",
   "execution_count": 4,
   "metadata": {},
   "outputs": [],
   "source": [
    "data = data.sample(frac = 1)"
   ]
  },
  {
   "cell_type": "code",
   "execution_count": 5,
   "metadata": {},
   "outputs": [],
   "source": [
    "N_REC = data.shape[0]\n",
    "\n",
    "N_TRAIN = int(N_REC * 0.8)\n",
    "N_TEST = N_REC - N_TRAIN\n",
    "\n",
    "train_df = data[:N_TRAIN]\n",
    "test_df = data[N_TRAIN:]"
   ]
  },
  {
   "cell_type": "code",
   "execution_count": 6,
   "metadata": {},
   "outputs": [],
   "source": [
    "xtrain_df = train_df.drop('SeriousDlqin2yrs', axis = 1)\n",
    "\n",
    "x_train = xtrain_df.values"
   ]
  },
  {
   "cell_type": "code",
   "execution_count": 7,
   "metadata": {},
   "outputs": [],
   "source": [
    "y_train = train_df['SeriousDlqin2yrs'].values"
   ]
  },
  {
   "cell_type": "code",
   "execution_count": 28,
   "metadata": {},
   "outputs": [],
   "source": [
    "xtest_df = test_df.drop('SeriousDlqin2yrs', axis = 1)\n",
    "\n",
    "x_test = xtest_df.values\n",
    "\n",
    "y_test = test_df['SeriousDlqin2yrs'].values"
   ]
  },
  {
   "cell_type": "code",
   "execution_count": 29,
   "metadata": {},
   "outputs": [
    {
     "name": "stdout",
     "output_type": "stream",
     "text": [
      "[0]\tvalidation_0-auc:0.84919\tvalidation_1-auc:0.85217\n",
      "[1]\tvalidation_0-auc:0.85748\tvalidation_1-auc:0.85868\n",
      "[2]\tvalidation_0-auc:0.85885\tvalidation_1-auc:0.85910\n",
      "[3]\tvalidation_0-auc:0.85966\tvalidation_1-auc:0.85939\n",
      "[4]\tvalidation_0-auc:0.86072\tvalidation_1-auc:0.86017\n",
      "[5]\tvalidation_0-auc:0.86108\tvalidation_1-auc:0.85972\n",
      "[6]\tvalidation_0-auc:0.86244\tvalidation_1-auc:0.86000\n",
      "[7]\tvalidation_0-auc:0.86459\tvalidation_1-auc:0.86183\n",
      "[8]\tvalidation_0-auc:0.86585\tvalidation_1-auc:0.86258\n",
      "[9]\tvalidation_0-auc:0.86780\tvalidation_1-auc:0.86255\n",
      "[10]\tvalidation_0-auc:0.86943\tvalidation_1-auc:0.86267\n",
      "[11]\tvalidation_0-auc:0.87127\tvalidation_1-auc:0.86270\n",
      "[12]\tvalidation_0-auc:0.87252\tvalidation_1-auc:0.86296\n",
      "[13]\tvalidation_0-auc:0.87389\tvalidation_1-auc:0.86341\n",
      "[14]\tvalidation_0-auc:0.87510\tvalidation_1-auc:0.86369\n",
      "[15]\tvalidation_0-auc:0.87620\tvalidation_1-auc:0.86425\n",
      "[16]\tvalidation_0-auc:0.87763\tvalidation_1-auc:0.86468\n",
      "[17]\tvalidation_0-auc:0.87885\tvalidation_1-auc:0.86489\n",
      "[18]\tvalidation_0-auc:0.87991\tvalidation_1-auc:0.86516\n",
      "[19]\tvalidation_0-auc:0.88138\tvalidation_1-auc:0.86535\n",
      "[20]\tvalidation_0-auc:0.88217\tvalidation_1-auc:0.86523\n",
      "[21]\tvalidation_0-auc:0.88273\tvalidation_1-auc:0.86502\n",
      "[22]\tvalidation_0-auc:0.88324\tvalidation_1-auc:0.86517\n",
      "[23]\tvalidation_0-auc:0.88394\tvalidation_1-auc:0.86532\n",
      "[24]\tvalidation_0-auc:0.88426\tvalidation_1-auc:0.86531\n",
      "[25]\tvalidation_0-auc:0.88463\tvalidation_1-auc:0.86549\n",
      "[26]\tvalidation_0-auc:0.88497\tvalidation_1-auc:0.86552\n",
      "[27]\tvalidation_0-auc:0.88552\tvalidation_1-auc:0.86545\n",
      "[28]\tvalidation_0-auc:0.88558\tvalidation_1-auc:0.86547\n",
      "[29]\tvalidation_0-auc:0.88659\tvalidation_1-auc:0.86551\n",
      "[30]\tvalidation_0-auc:0.88684\tvalidation_1-auc:0.86536\n",
      "[31]\tvalidation_0-auc:0.88697\tvalidation_1-auc:0.86542\n",
      "[32]\tvalidation_0-auc:0.88748\tvalidation_1-auc:0.86529\n",
      "[33]\tvalidation_0-auc:0.88799\tvalidation_1-auc:0.86524\n",
      "[34]\tvalidation_0-auc:0.88884\tvalidation_1-auc:0.86511\n",
      "[35]\tvalidation_0-auc:0.88922\tvalidation_1-auc:0.86491\n",
      "[36]\tvalidation_0-auc:0.88997\tvalidation_1-auc:0.86489\n",
      "[37]\tvalidation_0-auc:0.89067\tvalidation_1-auc:0.86521\n",
      "[38]\tvalidation_0-auc:0.89082\tvalidation_1-auc:0.86508\n",
      "[39]\tvalidation_0-auc:0.89111\tvalidation_1-auc:0.86507\n",
      "[40]\tvalidation_0-auc:0.89156\tvalidation_1-auc:0.86485\n",
      "[41]\tvalidation_0-auc:0.89165\tvalidation_1-auc:0.86481\n",
      "[42]\tvalidation_0-auc:0.89222\tvalidation_1-auc:0.86506\n",
      "[43]\tvalidation_0-auc:0.89227\tvalidation_1-auc:0.86510\n",
      "[44]\tvalidation_0-auc:0.89274\tvalidation_1-auc:0.86519\n",
      "[45]\tvalidation_0-auc:0.89291\tvalidation_1-auc:0.86520\n",
      "[46]\tvalidation_0-auc:0.89304\tvalidation_1-auc:0.86518\n",
      "[47]\tvalidation_0-auc:0.89339\tvalidation_1-auc:0.86503\n",
      "[48]\tvalidation_0-auc:0.89369\tvalidation_1-auc:0.86503\n",
      "[49]\tvalidation_0-auc:0.89413\tvalidation_1-auc:0.86515\n"
     ]
    }
   ],
   "source": [
    "param_dist = {'objective':'binary:logistic', 'n_estimators':50}\n",
    "\n",
    "clf = xgb.XGBClassifier(use_label_encoder=False, **param_dist)\n",
    "\n",
    "clf.fit(x_train, y_train,\n",
    "        eval_set=[(x_train, y_train), (x_test, y_test)],\n",
    "        eval_metric='auc',\n",
    "        verbose=True)\n",
    "\n",
    "evals_result = clf.evals_result()"
   ]
  },
  {
   "cell_type": "code",
   "execution_count": 30,
   "metadata": {},
   "outputs": [],
   "source": [
    "y_pred = clf.predict(x_test)\n",
    "\n",
    "predictions = [round(value) for value in y_pred]"
   ]
  },
  {
   "cell_type": "code",
   "execution_count": 31,
   "metadata": {},
   "outputs": [
    {
     "name": "stdout",
     "output_type": "stream",
     "text": [
      "Accuracy: 93.71%\n"
     ]
    }
   ],
   "source": [
    "accuracy = accuracy_score(y_test, predictions)\n",
    "\n",
    "print(\"Accuracy: %.2f%%\" % (accuracy * 100.0))"
   ]
  },
  {
   "cell_type": "code",
   "execution_count": 32,
   "metadata": {},
   "outputs": [],
   "source": [
    "# predictions on test set\n",
    "orig_test = pd.read_csv('cs-test.csv')\n",
    "\n",
    "orig_data = pd.read_csv('cs-training.csv')\n",
    "\n",
    "# le statistiche per l normalizzazione le prendo dal train set\n",
    "df_stats = orig_data.describe().transpose()\n",
    "\n",
    "mean_mi = df_stats.loc['MonthlyIncome', 'mean']\n",
    "mean_nod = df_stats.loc['NumberOfDependents', 'mean']\n",
    "\n",
    "condition = (orig_test['MonthlyIncome'].isna())\n",
    "\n",
    "orig_test['isna_mi'] = 0\n",
    "\n",
    "orig_test.loc[condition, 'isna_mi'] = 1\n",
    "orig_test.loc[condition, 'MonthlyIncome'] = mean_mi"
   ]
  },
  {
   "cell_type": "code",
   "execution_count": 22,
   "metadata": {},
   "outputs": [],
   "source": [
    "# inpute \n",
    "\n",
    "condition = (orig_test['NumberOfDependents'].isna())\n",
    "\n",
    "orig_test['isna_nod'] = 0\n",
    "\n",
    "orig_test.loc[condition, 'isna_nod'] = 1\n",
    "orig_test.loc[condition, 'NumberOfDependents'] = mean_nod"
   ]
  },
  {
   "cell_type": "code",
   "execution_count": 23,
   "metadata": {},
   "outputs": [],
   "source": [
    "xorig_test = orig_test.drop('Unnamed: 0', axis = 1)\n",
    "\n",
    "xorig_test = xorig_test.drop('SeriousDlqin2yrs', axis = 1)\n",
    "\n",
    "x_test = xorig_test.values"
   ]
  },
  {
   "cell_type": "code",
   "execution_count": 24,
   "metadata": {},
   "outputs": [],
   "source": [
    "y_pred = clf.predict_proba(x_test)\n",
    "\n",
    "y_pred = y_pred[:, 1]"
   ]
  },
  {
   "cell_type": "code",
   "execution_count": 25,
   "metadata": {},
   "outputs": [
    {
     "data": {
      "text/plain": [
       "array([0.07206833, 0.03773748, 0.01002266, ..., 0.00377197, 0.12527907,\n",
       "       0.04222334], dtype=float32)"
      ]
     },
     "execution_count": 25,
     "metadata": {},
     "output_type": "execute_result"
    }
   ],
   "source": [
    "y_pred"
   ]
  },
  {
   "cell_type": "code",
   "execution_count": 26,
   "metadata": {},
   "outputs": [],
   "source": [
    "result_dict = {\"Id\": orig_test['Unnamed: 0'].values,\n",
    "              'Probability': y_pred}"
   ]
  },
  {
   "cell_type": "code",
   "execution_count": 27,
   "metadata": {},
   "outputs": [],
   "source": [
    "FILE_SUB = 'submission10.csv'\n",
    "\n",
    "result_df = pd.DataFrame(result_dict)\n",
    "\n",
    "result_df.to_csv(FILE_SUB, index=False, float_format='%.5f')"
   ]
  },
  {
   "cell_type": "code",
   "execution_count": null,
   "metadata": {},
   "outputs": [],
   "source": []
  }
 ],
 "metadata": {
  "kernelspec": {
   "display_name": "Python 3",
   "language": "python",
   "name": "python3"
  },
  "language_info": {
   "codemirror_mode": {
    "name": "ipython",
    "version": 3
   },
   "file_extension": ".py",
   "mimetype": "text/x-python",
   "name": "python",
   "nbconvert_exporter": "python",
   "pygments_lexer": "ipython3",
   "version": "3.7.9"
  }
 },
 "nbformat": 4,
 "nbformat_minor": 4
}
