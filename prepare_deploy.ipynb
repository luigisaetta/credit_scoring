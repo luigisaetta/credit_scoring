{
 "cells": [
  {
   "cell_type": "markdown",
   "id": "9b1cfac8",
   "metadata": {},
   "source": [
    "### Prepare Deploy\n",
    "* save the model to the model catalog and prepare deployment as **REST service**"
   ]
  },
  {
   "cell_type": "code",
   "execution_count": 49,
   "id": "a758add5",
   "metadata": {},
   "outputs": [],
   "source": [
    "import os\n",
    "from ads.common.model_artifact import ModelArtifact\n",
    "from ads.common.model_export_util import prepare_generic_model\n",
    "from ads.common.model_metadata import (MetadataCustomCategory,\n",
    "                                       UseCaseType)\n",
    "from ads import set_auth\n",
    "\n",
    "import numpy as np\n",
    "\n",
    "import json\n",
    "import pickle"
   ]
  },
  {
   "cell_type": "code",
   "execution_count": 2,
   "id": "b0981459",
   "metadata": {},
   "outputs": [],
   "source": [
    " # env and auth\n",
    "compartment_id = os.environ['NB_SESSION_COMPARTMENT_OCID']\n",
    "project_id = os.environ['PROJECT_OCID']\n",
    "\n",
    "set_auth(auth='resource_principal')"
   ]
  },
  {
   "cell_type": "code",
   "execution_count": 3,
   "id": "6f453f9b",
   "metadata": {},
   "outputs": [],
   "source": [
    "# 1. prepare artifacts directory\n",
    "\n",
    "PATH_ARTEFACT = f\"./model-files\"\n",
    "\n",
    "if not os.path.exists(PATH_ARTEFACT):\n",
    "    os.mkdir(PATH_ARTEFACT)"
   ]
  },
  {
   "cell_type": "code",
   "execution_count": 31,
   "id": "85be5fb4",
   "metadata": {},
   "outputs": [],
   "source": [
    "MODEL_FILE_NAME = \"credit-scoring.pkl\"\n",
    "SCALER_FILE_NAME = \"scaler.pkl\"\n",
    "\n",
    "model = pickle.load(open(PATH_ARTEFACT + \"/\" + MODEL_FILE_NAME, 'rb'))\n",
    "scaler = pickle.load(open(PATH_ARTEFACT + \"/\" + SCALER_FILE_NAME, 'rb'))"
   ]
  },
  {
   "cell_type": "code",
   "execution_count": 43,
   "id": "98d30a0e",
   "metadata": {},
   "outputs": [
    {
     "data": {
      "application/vnd.jupyter.widget-view+json": {
       "model_id": "",
       "version_major": 2,
       "version_minor": 0
      },
      "text/plain": [
       "loop1:   0%|          | 0/4 [00:00<?, ?it/s]"
      ]
     },
     "metadata": {},
     "output_type": "display_data"
    },
    {
     "name": "stdout",
     "output_type": "stream",
     "text": [
      "WARNING:ADS:As force_overwrite is set to True, all the existing files in the ./model-files will be removed\n"
     ]
    }
   ],
   "source": [
    "# 2. prepare deploy to Model Catalog\n",
    "# this URL is taken from the Conda published env\n",
    "INFERENCE_ENV = \"oci://conda_ds@frqap2zhtzbe/conda_environments/cpu/General Machine Learning for CPUs on Python 3.7/1.0/generalml_p37_cpu_v1\"\n",
    "\n",
    "artifact = prepare_generic_model(model=model, model_path=PATH_ARTEFACT,\n",
    "                                 inference_conda_env=INFERENCE_ENV,\n",
    "                                 force_overwrite=True, data_science_env=False,\n",
    "                                 use_case_type=UseCaseType.BINARY_CLASSIFICATION)"
   ]
  },
  {
   "cell_type": "markdown",
   "id": "f280659a",
   "metadata": {},
   "source": [
    "### Customize score.py\n",
    "\n",
    "any customization you want to add to the main code f the REST service should be generated in this cell below\n",
    "\n",
    "before executing artifact.save()"
   ]
  },
  {
   "cell_type": "code",
   "execution_count": 75,
   "id": "b192693c",
   "metadata": {},
   "outputs": [
    {
     "name": "stdout",
     "output_type": "stream",
     "text": [
      "Overwriting ./model-files/score.py\n"
     ]
    }
   ],
   "source": [
    "%%writefile {PATH_ARTEFACT}/score.py\n",
    "\n",
    "import pandas as pd\n",
    "import numpy as np\n",
    "\n",
    "from xgboost import XGBClassifier\n",
    "\n",
    "import json\n",
    "import os\n",
    "import pickle\n",
    "\n",
    "import io\n",
    "import logging \n",
    "\n",
    "# logging configuration - OPTIONAL \n",
    "logging.basicConfig(format='%(name)s - %(levelname)s - %(message)s', level=logging.INFO)\n",
    "logger_pred = logging.getLogger('model-prediction')\n",
    "logger_pred.setLevel(logging.INFO)\n",
    "logger_feat = logging.getLogger('input-features')\n",
    "logger_feat.setLevel(logging.INFO)\n",
    "\n",
    "model_name = 'credit-scoring.pkl'\n",
    "\n",
    "# to enable/disable detailed logging\n",
    "DEBUG = True\n",
    "\n",
    "\"\"\"\n",
    "   Inference script. This script is used for prediction by scoring server when schema is known.\n",
    "\"\"\"\n",
    "\n",
    "def load_model(model_file_name=model_name):\n",
    "    \"\"\"\n",
    "    Loads model from the serialized format\n",
    "\n",
    "    Returns\n",
    "    -------\n",
    "    model:  a model instance on which predict API can be invoked\n",
    "    \"\"\"\n",
    "    model_dir = os.path.dirname(os.path.realpath(__file__))\n",
    "    contents = os.listdir(model_dir)\n",
    "    \n",
    "    # Load the model from the model_dir using the appropriate loader\n",
    "    \n",
    "    if model_file_name in contents:\n",
    "        with open(os.path.join(os.path.dirname(os.path.realpath(__file__)), model_file_name), \"rb\") as file:\n",
    "            model = pickle.load(file) \n",
    "            logger_pred.info(\"Loaded the model !!!\")\n",
    "       \n",
    "    else:\n",
    "        raise Exception('{0} is not found in model directory {1}'.format(model_file_name, model_dir))\n",
    "    \n",
    "    return model\n",
    "\n",
    "def pre_inference(data):\n",
    "    \"\"\"\n",
    "    Preprocess data\n",
    "\n",
    "    Parameters\n",
    "    ----------\n",
    "    data: Data format as expected by the predict API of the core estimator.\n",
    "\n",
    "    Returns\n",
    "    -------\n",
    "    data: Data format after any processing.\n",
    "\n",
    "    \"\"\"\n",
    "    logger_pred.info(\"Preprocessing...\")\n",
    "    \n",
    "    return data\n",
    "\n",
    "def post_inference(yhat):\n",
    "    \"\"\"\n",
    "    Post-process the model results\n",
    "\n",
    "    Parameters\n",
    "    ----------\n",
    "    yhat: Data format after calling model.predict.\n",
    "\n",
    "    Returns\n",
    "    -------\n",
    "    yhat: Data format after any processing.\n",
    "\n",
    "    \"\"\"\n",
    "    logger_pred.info(\"Postprocessing output...\")\n",
    "    \n",
    "    return yhat\n",
    "\n",
    "def predict(data, model=load_model()):\n",
    "    \"\"\"\n",
    "    Returns prediction given the model and data to predict\n",
    "\n",
    "    Parameters\n",
    "    ----------\n",
    "    model: Model instance returned by load_model API\n",
    "    data: Data format as expected by the predict API of the core estimator. For eg. in case of sckit models it could be numpy array/List of list/Pandas DataFrame\n",
    "\n",
    "    Returns\n",
    "    -------\n",
    "    predictions: Output from scoring server\n",
    "        Format: {'prediction': output from model.predict method}\n",
    "\n",
    "    \"\"\"\n",
    "    # model contains the model and the scaler\n",
    "    logger_pred.info(\"In function predict...\")\n",
    "    \n",
    "    # some check\n",
    "    assert model is not None, \"Model is not loaded\"\n",
    "    \n",
    "    logger_feat.info('Raw input is:')\n",
    "    logger_feat.info(data)\n",
    "    \n",
    "    x = pd.read_json(io.StringIO(data)).values\n",
    "    \n",
    "    if DEBUG:\n",
    "        logger_feat.info(\"Logging features\")\n",
    "        logger_feat.info(x)\n",
    "    \n",
    "    # preprocess data (for example normalize features)\n",
    "    x = pre_inference(x)\n",
    "\n",
    "    logger_pred.info(\"Invoking model......\")\n",
    "    \n",
    "    return {'prediction': [0,0,0,0]}"
   ]
  },
  {
   "cell_type": "markdown",
   "id": "ae983496",
   "metadata": {},
   "source": [
    "### Some tests"
   ]
  },
  {
   "cell_type": "code",
   "execution_count": 76,
   "id": "a743b7bf",
   "metadata": {},
   "outputs": [],
   "source": [
    "%reload_ext autoreload\n",
    "# %load_ext autoreload\n",
    "\n",
    "%autoreload 2\n",
    "\n",
    "# add the path of score.py: \n",
    "\n",
    "import sys \n",
    "sys.path.insert(0, PATH_ARTEFACT)\n",
    "\n",
    "from score import load_model, predict"
   ]
  },
  {
   "cell_type": "code",
   "execution_count": 77,
   "id": "a8425427",
   "metadata": {},
   "outputs": [
    {
     "name": "stdout",
     "output_type": "stream",
     "text": [
      "INFO:model-prediction:Loaded the model !!!\n"
     ]
    }
   ],
   "source": [
    "# Load the model to memory \n",
    "_ = load_model()"
   ]
  },
  {
   "cell_type": "code",
   "execution_count": 83,
   "id": "23a639f5",
   "metadata": {},
   "outputs": [
    {
     "name": "stdout",
     "output_type": "stream",
     "text": [
      "INFO:model-prediction:In function predict...\n",
      "INFO:input-features:Raw input is:\n",
      "INFO:input-features:[[1, 2, 3, 4, 5, 6, 7, 8, 9, 10], [1, 2, 3, 4, 5, 6, 7, 8, 9, 10], [1, 2, 3, 4, 5, 6, 7, 8, 9, 10]]\n",
      "INFO:input-features:Logging features\n",
      "INFO:input-features:[[ 1  2  3  4  5  6  7  8  9 10]\n",
      " [ 1  2  3  4  5  6  7  8  9 10]\n",
      " [ 1  2  3  4  5  6  7  8  9 10]]\n",
      "INFO:model-prediction:Preprocessing...\n",
      "INFO:model-prediction:Invoking model......\n",
      "Tests results:\n",
      "{'prediction': [0, 0, 0, 0]}\n"
     ]
    }
   ],
   "source": [
    "x_input = np.array([[1,2,3,4,5,6,7,8,9,10],\n",
    "                   [1,2,3,4,5,6,7,8,9,10],\n",
    "                   [1,2,3,4,5,6,7,8,9,10]])\n",
    "\n",
    "predictions_test = predict(json.dumps(x_input.tolist()), _)\n",
    "\n",
    "print(\"Tests results:\")\n",
    "print(predictions_test)"
   ]
  },
  {
   "cell_type": "markdown",
   "id": "6bacbf0a",
   "metadata": {},
   "source": [
    "### Save the model to the Model Catalog"
   ]
  },
  {
   "cell_type": "code",
   "execution_count": 30,
   "id": "aadf6ed5",
   "metadata": {},
   "outputs": [
    {
     "data": {
      "application/vnd.jupyter.widget-view+json": {
       "model_id": "",
       "version_major": 2,
       "version_minor": 0
      },
      "text/plain": [
       "loop1:   0%|          | 0/5 [00:00<?, ?it/s]"
      ]
     },
     "metadata": {},
     "output_type": "display_data"
    },
    {
     "name": "stdout",
     "output_type": "stream",
     "text": [
      "artifact:/tmp/saved_model_600df007-91c1-4e60-a077-28d43a63b691.zip\n"
     ]
    }
   ],
   "source": [
    "# Saving the model artifact to the model catalog.\n",
    "catalog_entry = artifact.save(display_name='credit-scoring', \n",
    "              description='A model for credit scoring')"
   ]
  },
  {
   "cell_type": "code",
   "execution_count": null,
   "id": "751ae21f",
   "metadata": {},
   "outputs": [],
   "source": []
  }
 ],
 "metadata": {
  "kernelspec": {
   "display_name": "Python [conda env:generalml_p37_cpu_v1]",
   "language": "python",
   "name": "conda-env-generalml_p37_cpu_v1-py"
  },
  "language_info": {
   "codemirror_mode": {
    "name": "ipython",
    "version": 3
   },
   "file_extension": ".py",
   "mimetype": "text/x-python",
   "name": "python",
   "nbconvert_exporter": "python",
   "pygments_lexer": "ipython3",
   "version": "3.7.12"
  }
 },
 "nbformat": 4,
 "nbformat_minor": 5
}
