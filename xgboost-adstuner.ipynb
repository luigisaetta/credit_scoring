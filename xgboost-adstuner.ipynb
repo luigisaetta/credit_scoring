{
 "cells": [
  {
   "cell_type": "code",
   "execution_count": 1,
   "metadata": {},
   "outputs": [],
   "source": [
    "import pandas as pd\n",
    "import numpy as np\n",
    "import xgboost as xgb\n",
    "\n",
    "import ads\n",
    "\n",
    "# to use ADSTuner\n",
    "from ads.hpo.search_cv import ADSTuner\n",
    "from ads.hpo.stopping_criterion import *\n",
    "from ads.hpo.distributions import *\n",
    "\n",
    "from xgboost import XGBClassifier\n",
    "from sklearn.model_selection import train_test_split\n",
    "from sklearn.metrics import accuracy_score, confusion_matrix\n",
    "from sklearn.preprocessing import StandardScaler\n",
    "\n",
    "import time\n",
    "\n",
    "import matplotlib.pyplot as plt\n",
    "\n",
    "import pickle\n",
    "\n",
    "%matplotlib inline"
   ]
  },
  {
   "cell_type": "code",
   "execution_count": 2,
   "metadata": {},
   "outputs": [
    {
     "name": "stdout",
     "output_type": "stream",
     "text": [
      "2.5.8\n"
     ]
    }
   ],
   "source": [
    "# check the ADS version\n",
    "print(ads.__version__)"
   ]
  },
  {
   "cell_type": "code",
   "execution_count": 3,
   "metadata": {},
   "outputs": [],
   "source": [
    "data = pd.read_csv('cs-training-nonull.csv')\n",
    "\n",
    "# remove unneeded\n",
    "data = data.drop('id', axis = 1)"
   ]
  },
  {
   "cell_type": "code",
   "execution_count": 4,
   "metadata": {},
   "outputs": [],
   "source": [
    "# global constants\n",
    "N_ESTIMATORS = 1000\n",
    "# numero di features compreso le due colonne indicatore aggiunte\n",
    "N_FEATURES = 12\n",
    "\n",
    "# nome della colonna con le label\n",
    "TARGET = 'SeriousDlqin2yrs'\n",
    "\n",
    "# colonne con missing values\n",
    "COL1_MISSING = 'MonthlyIncome'\n",
    "COL2_MISSING = 'NumberOfDependents'\n",
    "\n",
    "# nomi delle due colonne indicator (valgono 1 laddove il dato è inputato)\n",
    "IND1 = 'isna_mi'\n",
    "IND2 = 'isna_nod'\n",
    "\n",
    "ind_col = [IND1, IND2]\n",
    "\n",
    "# prese da stats sul train test, usate per inputare i missing values su COL1 e CL2\n",
    "MONTHLY_INC_MEDIAN = 5400.0\n",
    "N_OF_DEP_MODE = 0"
   ]
  },
  {
   "cell_type": "code",
   "execution_count": 5,
   "metadata": {},
   "outputs": [],
   "source": [
    "train_df = data"
   ]
  },
  {
   "cell_type": "code",
   "execution_count": 6,
   "metadata": {},
   "outputs": [],
   "source": [
    "# metto da parte le due colonne indicatori\n",
    "ind_train = train_df[ind_col].values"
   ]
  },
  {
   "cell_type": "code",
   "execution_count": 7,
   "metadata": {},
   "outputs": [],
   "source": [
    "train_df = train_df.drop(ind_col, axis = 1)\n",
    "\n",
    "# estrae X: matrice features ed y, labels\n",
    "y_train = train_df[TARGET].values\n",
    "xtrain_df = train_df.drop(TARGET, axis = 1)\n",
    "x_train = xtrain_df.values"
   ]
  },
  {
   "cell_type": "code",
   "execution_count": 8,
   "metadata": {},
   "outputs": [
    {
     "data": {
      "text/plain": [
       "StandardScaler()"
      ]
     },
     "execution_count": 8,
     "metadata": {},
     "output_type": "execute_result"
    }
   ],
   "source": [
    "# prepara lo scaling\n",
    "scaler = StandardScaler()\n",
    "\n",
    "# calcola i parametri di scaling solo sul train set\n",
    "scaler.fit(x_train)"
   ]
  },
  {
   "cell_type": "code",
   "execution_count": 9,
   "metadata": {},
   "outputs": [],
   "source": [
    "# scalo tutto tranne che le due colonne indicatore\n",
    "x_train_scaled = scaler.transform(x_train)"
   ]
  },
  {
   "cell_type": "code",
   "execution_count": 10,
   "metadata": {},
   "outputs": [],
   "source": [
    "# riaggiungo gli indicatori (che non vengono scalati)\n",
    "x_train_scaled = np.c_[x_train_scaled, ind_train]"
   ]
  },
  {
   "cell_type": "code",
   "execution_count": 11,
   "metadata": {},
   "outputs": [],
   "source": [
    "# check\n",
    "assert x_train_scaled.shape[1] == N_FEATURES"
   ]
  },
  {
   "cell_type": "markdown",
   "metadata": {},
   "source": [
    "### Train the XGBoost Classifier"
   ]
  },
  {
   "cell_type": "code",
   "execution_count": 12,
   "metadata": {},
   "outputs": [],
   "source": [
    "# parameters for the HPO session with Optuna\n",
    "FOLDS = 5\n",
    "SEED = 4321\n",
    "\n",
    "N_TRIALS = 100\n",
    "TIME_BUDGET = 7200\n",
    "STUDY_NAME = \"xgb01\"\n",
    "\n",
    "# ranges\n",
    "LR_LOW = 1e-3\n",
    "LR_HIGH = 1e-2\n",
    "DEPTH_LOW = 4\n",
    "DEPTH_HIGH = 8\n",
    "N_ITER_LIST = [300, 400, 500, 600, 700, 800, 900, 1000]"
   ]
  },
  {
   "cell_type": "code",
   "execution_count": 13,
   "metadata": {},
   "outputs": [
    {
     "name": "stderr",
     "output_type": "stream",
     "text": [
      "\u001b[32m[I 2022-03-14 15:48:14,773]\u001b[0m A new study created in RDB with name: xgb01\u001b[0m\n"
     ]
    }
   ],
   "source": [
    "#\n",
    "# Here we define the strategy, the space for hyper-parameters we want to explore\n",
    "#\n",
    "params = {\n",
    "    \"n_estimators\": CategoricalDistribution(N_ITER_LIST),\n",
    "    \"learning_rate\": LogUniformDistribution(low=LR_LOW, high=LR_HIGH),\n",
    "    \"max_depth\": IntUniformDistribution(DEPTH_LOW, DEPTH_HIGH),\n",
    "}\n",
    "\n",
    "clf = xgb.XGBClassifier()\n",
    "\n",
    "\n",
    "# per lista scorer sorted(sklearn.metrics.SCORERS.keys())\n",
    "tuner = ADSTuner(clf, cv=FOLDS, strategy=params, scoring=\"roc_auc\", study_name=STUDY_NAME, n_jobs=6)\n",
    "\n",
    "tuner.tune(x_train, y_train, exit_criterion=[TimeBudget(TIME_BUDGET)])"
   ]
  },
  {
   "cell_type": "code",
   "execution_count": 94,
   "metadata": {},
   "outputs": [
    {
     "name": "stdout",
     "output_type": "stream",
     "text": [
      "The tuner status is: State.RUNNING\n",
      "Remaining time is: 0 sec.\n"
     ]
    }
   ],
   "source": [
    "# get the status to see if completed\n",
    "print(f\"The tuner status is: {tuner.get_status()}\")\n",
    "\n",
    "print(f\"Remaining time is: {round(tuner.time_remaining, 1)} sec.\")"
   ]
  },
  {
   "cell_type": "code",
   "execution_count": 95,
   "metadata": {},
   "outputs": [
    {
     "data": {
      "text/html": [
       "<div>\n",
       "<style scoped>\n",
       "    .dataframe tbody tr th:only-of-type {\n",
       "        vertical-align: middle;\n",
       "    }\n",
       "\n",
       "    .dataframe tbody tr th {\n",
       "        vertical-align: top;\n",
       "    }\n",
       "\n",
       "    .dataframe thead th {\n",
       "        text-align: right;\n",
       "    }\n",
       "</style>\n",
       "<table border=\"1\" class=\"dataframe\">\n",
       "  <thead>\n",
       "    <tr style=\"text-align: right;\">\n",
       "      <th></th>\n",
       "      <th>number</th>\n",
       "      <th>value</th>\n",
       "      <th>datetime_start</th>\n",
       "      <th>datetime_complete</th>\n",
       "      <th>duration</th>\n",
       "      <th>params_learning_rate</th>\n",
       "      <th>params_max_depth</th>\n",
       "      <th>params_n_estimators</th>\n",
       "      <th>user_attrs_mean_fit_time</th>\n",
       "      <th>user_attrs_mean_score_time</th>\n",
       "      <th>...</th>\n",
       "      <th>user_attrs_metric</th>\n",
       "      <th>user_attrs_split0_test_score</th>\n",
       "      <th>user_attrs_split1_test_score</th>\n",
       "      <th>user_attrs_split2_test_score</th>\n",
       "      <th>user_attrs_split3_test_score</th>\n",
       "      <th>user_attrs_split4_test_score</th>\n",
       "      <th>user_attrs_std_fit_time</th>\n",
       "      <th>user_attrs_std_score_time</th>\n",
       "      <th>user_attrs_std_test_score</th>\n",
       "      <th>state</th>\n",
       "    </tr>\n",
       "  </thead>\n",
       "  <tbody>\n",
       "    <tr>\n",
       "      <th>92</th>\n",
       "      <td>92</td>\n",
       "      <td>0.865046</td>\n",
       "      <td>2022-03-14 17:23:44.206469</td>\n",
       "      <td>2022-03-14 17:31:39.771706</td>\n",
       "      <td>0 days 00:07:55.565237</td>\n",
       "      <td>0.009362</td>\n",
       "      <td>6</td>\n",
       "      <td>1000</td>\n",
       "      <td>95.001051</td>\n",
       "      <td>0.064436</td>\n",
       "      <td>...</td>\n",
       "      <td>roc_auc</td>\n",
       "      <td>0.863150</td>\n",
       "      <td>0.860687</td>\n",
       "      <td>0.865491</td>\n",
       "      <td>0.864702</td>\n",
       "      <td>0.871197</td>\n",
       "      <td>0.225618</td>\n",
       "      <td>0.002663</td>\n",
       "      <td>0.003486</td>\n",
       "      <td>COMPLETE</td>\n",
       "    </tr>\n",
       "    <tr>\n",
       "      <th>56</th>\n",
       "      <td>56</td>\n",
       "      <td>0.865045</td>\n",
       "      <td>2022-03-14 16:39:44.791926</td>\n",
       "      <td>2022-03-14 16:47:44.594435</td>\n",
       "      <td>0 days 00:07:59.802509</td>\n",
       "      <td>0.008979</td>\n",
       "      <td>6</td>\n",
       "      <td>1000</td>\n",
       "      <td>95.848110</td>\n",
       "      <td>0.064791</td>\n",
       "      <td>...</td>\n",
       "      <td>roc_auc</td>\n",
       "      <td>0.863226</td>\n",
       "      <td>0.860316</td>\n",
       "      <td>0.865730</td>\n",
       "      <td>0.864793</td>\n",
       "      <td>0.871160</td>\n",
       "      <td>0.297359</td>\n",
       "      <td>0.002657</td>\n",
       "      <td>0.003566</td>\n",
       "      <td>COMPLETE</td>\n",
       "    </tr>\n",
       "    <tr>\n",
       "      <th>72</th>\n",
       "      <td>72</td>\n",
       "      <td>0.865024</td>\n",
       "      <td>2022-03-14 16:55:46.263603</td>\n",
       "      <td>2022-03-14 17:03:39.473152</td>\n",
       "      <td>0 days 00:07:53.209549</td>\n",
       "      <td>0.009665</td>\n",
       "      <td>6</td>\n",
       "      <td>1000</td>\n",
       "      <td>94.527511</td>\n",
       "      <td>0.067095</td>\n",
       "      <td>...</td>\n",
       "      <td>roc_auc</td>\n",
       "      <td>0.863086</td>\n",
       "      <td>0.860640</td>\n",
       "      <td>0.865500</td>\n",
       "      <td>0.864668</td>\n",
       "      <td>0.871225</td>\n",
       "      <td>0.317624</td>\n",
       "      <td>0.004679</td>\n",
       "      <td>0.003515</td>\n",
       "      <td>COMPLETE</td>\n",
       "    </tr>\n",
       "    <tr>\n",
       "      <th>105</th>\n",
       "      <td>105</td>\n",
       "      <td>0.865021</td>\n",
       "      <td>2022-03-14 17:35:53.415843</td>\n",
       "      <td>2022-03-14 17:43:47.826966</td>\n",
       "      <td>0 days 00:07:54.411123</td>\n",
       "      <td>0.009247</td>\n",
       "      <td>6</td>\n",
       "      <td>1000</td>\n",
       "      <td>94.767534</td>\n",
       "      <td>0.066314</td>\n",
       "      <td>...</td>\n",
       "      <td>roc_auc</td>\n",
       "      <td>0.863140</td>\n",
       "      <td>0.860516</td>\n",
       "      <td>0.865702</td>\n",
       "      <td>0.864579</td>\n",
       "      <td>0.871168</td>\n",
       "      <td>0.443686</td>\n",
       "      <td>0.001773</td>\n",
       "      <td>0.003529</td>\n",
       "      <td>COMPLETE</td>\n",
       "    </tr>\n",
       "    <tr>\n",
       "      <th>97</th>\n",
       "      <td>97</td>\n",
       "      <td>0.865015</td>\n",
       "      <td>2022-03-14 17:25:43.476847</td>\n",
       "      <td>2022-03-14 17:33:41.878161</td>\n",
       "      <td>0 days 00:07:58.401314</td>\n",
       "      <td>0.009290</td>\n",
       "      <td>6</td>\n",
       "      <td>1000</td>\n",
       "      <td>95.565484</td>\n",
       "      <td>0.067089</td>\n",
       "      <td>...</td>\n",
       "      <td>roc_auc</td>\n",
       "      <td>0.863277</td>\n",
       "      <td>0.860375</td>\n",
       "      <td>0.865523</td>\n",
       "      <td>0.864717</td>\n",
       "      <td>0.871185</td>\n",
       "      <td>1.148139</td>\n",
       "      <td>0.005128</td>\n",
       "      <td>0.003549</td>\n",
       "      <td>COMPLETE</td>\n",
       "    </tr>\n",
       "    <tr>\n",
       "      <th>107</th>\n",
       "      <td>107</td>\n",
       "      <td>0.865014</td>\n",
       "      <td>2022-03-14 17:40:48.837952</td>\n",
       "      <td>2022-03-14 17:48:44.727379</td>\n",
       "      <td>0 days 00:07:55.889427</td>\n",
       "      <td>0.008810</td>\n",
       "      <td>6</td>\n",
       "      <td>1000</td>\n",
       "      <td>95.061220</td>\n",
       "      <td>0.069173</td>\n",
       "      <td>...</td>\n",
       "      <td>roc_auc</td>\n",
       "      <td>0.863276</td>\n",
       "      <td>0.860553</td>\n",
       "      <td>0.865416</td>\n",
       "      <td>0.864719</td>\n",
       "      <td>0.871105</td>\n",
       "      <td>0.253211</td>\n",
       "      <td>0.006422</td>\n",
       "      <td>0.003472</td>\n",
       "      <td>COMPLETE</td>\n",
       "    </tr>\n",
       "    <tr>\n",
       "      <th>110</th>\n",
       "      <td>110</td>\n",
       "      <td>0.864989</td>\n",
       "      <td>2022-03-14 17:43:29.456472</td>\n",
       "      <td>2022-03-14 17:50:48.813443</td>\n",
       "      <td>0 days 00:07:19.356971</td>\n",
       "      <td>0.009295</td>\n",
       "      <td>6</td>\n",
       "      <td>1000</td>\n",
       "      <td>87.763003</td>\n",
       "      <td>0.064271</td>\n",
       "      <td>...</td>\n",
       "      <td>roc_auc</td>\n",
       "      <td>0.863207</td>\n",
       "      <td>0.860481</td>\n",
       "      <td>0.865463</td>\n",
       "      <td>0.864743</td>\n",
       "      <td>0.871051</td>\n",
       "      <td>10.362846</td>\n",
       "      <td>0.006877</td>\n",
       "      <td>0.003480</td>\n",
       "      <td>COMPLETE</td>\n",
       "    </tr>\n",
       "    <tr>\n",
       "      <th>109</th>\n",
       "      <td>109</td>\n",
       "      <td>0.864986</td>\n",
       "      <td>2022-03-14 17:41:39.706274</td>\n",
       "      <td>2022-03-14 17:49:29.804452</td>\n",
       "      <td>0 days 00:07:50.098178</td>\n",
       "      <td>0.009164</td>\n",
       "      <td>6</td>\n",
       "      <td>1000</td>\n",
       "      <td>93.907661</td>\n",
       "      <td>0.063383</td>\n",
       "      <td>...</td>\n",
       "      <td>roc_auc</td>\n",
       "      <td>0.863082</td>\n",
       "      <td>0.860732</td>\n",
       "      <td>0.865567</td>\n",
       "      <td>0.864527</td>\n",
       "      <td>0.871024</td>\n",
       "      <td>2.847114</td>\n",
       "      <td>0.002984</td>\n",
       "      <td>0.003427</td>\n",
       "      <td>COMPLETE</td>\n",
       "    </tr>\n",
       "    <tr>\n",
       "      <th>41</th>\n",
       "      <td>41</td>\n",
       "      <td>0.864985</td>\n",
       "      <td>2022-03-14 16:24:46.625592</td>\n",
       "      <td>2022-03-14 16:32:46.582688</td>\n",
       "      <td>0 days 00:07:59.957096</td>\n",
       "      <td>0.008286</td>\n",
       "      <td>6</td>\n",
       "      <td>1000</td>\n",
       "      <td>95.871545</td>\n",
       "      <td>0.071143</td>\n",
       "      <td>...</td>\n",
       "      <td>roc_auc</td>\n",
       "      <td>0.863188</td>\n",
       "      <td>0.860534</td>\n",
       "      <td>0.865482</td>\n",
       "      <td>0.864646</td>\n",
       "      <td>0.871077</td>\n",
       "      <td>0.391903</td>\n",
       "      <td>0.004281</td>\n",
       "      <td>0.003479</td>\n",
       "      <td>COMPLETE</td>\n",
       "    </tr>\n",
       "    <tr>\n",
       "      <th>87</th>\n",
       "      <td>87</td>\n",
       "      <td>0.864984</td>\n",
       "      <td>2022-03-14 17:17:32.848082</td>\n",
       "      <td>2022-03-14 17:25:29.668256</td>\n",
       "      <td>0 days 00:07:56.820174</td>\n",
       "      <td>0.008512</td>\n",
       "      <td>6</td>\n",
       "      <td>1000</td>\n",
       "      <td>95.247697</td>\n",
       "      <td>0.069719</td>\n",
       "      <td>...</td>\n",
       "      <td>roc_auc</td>\n",
       "      <td>0.863138</td>\n",
       "      <td>0.860597</td>\n",
       "      <td>0.865299</td>\n",
       "      <td>0.864735</td>\n",
       "      <td>0.871150</td>\n",
       "      <td>0.394359</td>\n",
       "      <td>0.002800</td>\n",
       "      <td>0.003488</td>\n",
       "      <td>COMPLETE</td>\n",
       "    </tr>\n",
       "  </tbody>\n",
       "</table>\n",
       "<p>10 rows × 21 columns</p>\n",
       "</div>"
      ],
      "text/plain": [
       "     number     value             datetime_start          datetime_complete  \\\n",
       "92       92  0.865046 2022-03-14 17:23:44.206469 2022-03-14 17:31:39.771706   \n",
       "56       56  0.865045 2022-03-14 16:39:44.791926 2022-03-14 16:47:44.594435   \n",
       "72       72  0.865024 2022-03-14 16:55:46.263603 2022-03-14 17:03:39.473152   \n",
       "105     105  0.865021 2022-03-14 17:35:53.415843 2022-03-14 17:43:47.826966   \n",
       "97       97  0.865015 2022-03-14 17:25:43.476847 2022-03-14 17:33:41.878161   \n",
       "107     107  0.865014 2022-03-14 17:40:48.837952 2022-03-14 17:48:44.727379   \n",
       "110     110  0.864989 2022-03-14 17:43:29.456472 2022-03-14 17:50:48.813443   \n",
       "109     109  0.864986 2022-03-14 17:41:39.706274 2022-03-14 17:49:29.804452   \n",
       "41       41  0.864985 2022-03-14 16:24:46.625592 2022-03-14 16:32:46.582688   \n",
       "87       87  0.864984 2022-03-14 17:17:32.848082 2022-03-14 17:25:29.668256   \n",
       "\n",
       "                  duration  params_learning_rate  params_max_depth  \\\n",
       "92  0 days 00:07:55.565237              0.009362                 6   \n",
       "56  0 days 00:07:59.802509              0.008979                 6   \n",
       "72  0 days 00:07:53.209549              0.009665                 6   \n",
       "105 0 days 00:07:54.411123              0.009247                 6   \n",
       "97  0 days 00:07:58.401314              0.009290                 6   \n",
       "107 0 days 00:07:55.889427              0.008810                 6   \n",
       "110 0 days 00:07:19.356971              0.009295                 6   \n",
       "109 0 days 00:07:50.098178              0.009164                 6   \n",
       "41  0 days 00:07:59.957096              0.008286                 6   \n",
       "87  0 days 00:07:56.820174              0.008512                 6   \n",
       "\n",
       "     params_n_estimators  user_attrs_mean_fit_time  \\\n",
       "92                  1000                 95.001051   \n",
       "56                  1000                 95.848110   \n",
       "72                  1000                 94.527511   \n",
       "105                 1000                 94.767534   \n",
       "97                  1000                 95.565484   \n",
       "107                 1000                 95.061220   \n",
       "110                 1000                 87.763003   \n",
       "109                 1000                 93.907661   \n",
       "41                  1000                 95.871545   \n",
       "87                  1000                 95.247697   \n",
       "\n",
       "     user_attrs_mean_score_time  ...  user_attrs_metric  \\\n",
       "92                     0.064436  ...            roc_auc   \n",
       "56                     0.064791  ...            roc_auc   \n",
       "72                     0.067095  ...            roc_auc   \n",
       "105                    0.066314  ...            roc_auc   \n",
       "97                     0.067089  ...            roc_auc   \n",
       "107                    0.069173  ...            roc_auc   \n",
       "110                    0.064271  ...            roc_auc   \n",
       "109                    0.063383  ...            roc_auc   \n",
       "41                     0.071143  ...            roc_auc   \n",
       "87                     0.069719  ...            roc_auc   \n",
       "\n",
       "    user_attrs_split0_test_score  user_attrs_split1_test_score  \\\n",
       "92                      0.863150                      0.860687   \n",
       "56                      0.863226                      0.860316   \n",
       "72                      0.863086                      0.860640   \n",
       "105                     0.863140                      0.860516   \n",
       "97                      0.863277                      0.860375   \n",
       "107                     0.863276                      0.860553   \n",
       "110                     0.863207                      0.860481   \n",
       "109                     0.863082                      0.860732   \n",
       "41                      0.863188                      0.860534   \n",
       "87                      0.863138                      0.860597   \n",
       "\n",
       "     user_attrs_split2_test_score  user_attrs_split3_test_score  \\\n",
       "92                       0.865491                      0.864702   \n",
       "56                       0.865730                      0.864793   \n",
       "72                       0.865500                      0.864668   \n",
       "105                      0.865702                      0.864579   \n",
       "97                       0.865523                      0.864717   \n",
       "107                      0.865416                      0.864719   \n",
       "110                      0.865463                      0.864743   \n",
       "109                      0.865567                      0.864527   \n",
       "41                       0.865482                      0.864646   \n",
       "87                       0.865299                      0.864735   \n",
       "\n",
       "     user_attrs_split4_test_score  user_attrs_std_fit_time  \\\n",
       "92                       0.871197                 0.225618   \n",
       "56                       0.871160                 0.297359   \n",
       "72                       0.871225                 0.317624   \n",
       "105                      0.871168                 0.443686   \n",
       "97                       0.871185                 1.148139   \n",
       "107                      0.871105                 0.253211   \n",
       "110                      0.871051                10.362846   \n",
       "109                      0.871024                 2.847114   \n",
       "41                       0.871077                 0.391903   \n",
       "87                       0.871150                 0.394359   \n",
       "\n",
       "     user_attrs_std_score_time  user_attrs_std_test_score     state  \n",
       "92                    0.002663                   0.003486  COMPLETE  \n",
       "56                    0.002657                   0.003566  COMPLETE  \n",
       "72                    0.004679                   0.003515  COMPLETE  \n",
       "105                   0.001773                   0.003529  COMPLETE  \n",
       "97                    0.005128                   0.003549  COMPLETE  \n",
       "107                   0.006422                   0.003472  COMPLETE  \n",
       "110                   0.006877                   0.003480  COMPLETE  \n",
       "109                   0.002984                   0.003427  COMPLETE  \n",
       "41                    0.004281                   0.003479  COMPLETE  \n",
       "87                    0.002800                   0.003488  COMPLETE  \n",
       "\n",
       "[10 rows x 21 columns]"
      ]
     },
     "execution_count": 95,
     "metadata": {},
     "output_type": "execute_result"
    }
   ],
   "source": [
    "# look only at completed trials, sorted with best on top. Metric chosen is in the value col.\n",
    "result_df = tuner.trials[tuner.trials[\"state\"] == \"COMPLETE\"].sort_values(\n",
    "    by=[\"value\"], ascending=False\n",
    ")\n",
    "\n",
    "result_df.head(10)"
   ]
  },
  {
   "cell_type": "code",
   "execution_count": 99,
   "metadata": {},
   "outputs": [
    {
     "name": "stdout",
     "output_type": "stream",
     "text": [
      "ADSTuner session results:\n",
      "ADSTuner has launched 113 trials\n",
      "ADSTuner has completed 112 trials\n",
      "\n",
      "The best trial is the #: 92\n",
      "Parameters for the best trial are: {'learning_rate': 0.00936168846881555, 'max_depth': 6, 'n_estimators': 1000}\n",
      "The metric used to optimize is: roc_auc\n",
      "The best score is: 0.865\n"
     ]
    }
   ],
   "source": [
    "def show_tuner_results(tuner):\n",
    "\n",
    "    # to count completed\n",
    "    result_df = tuner.trials[tuner.trials[\"state\"] == \"COMPLETE\"].sort_values(\n",
    "        by=[\"value\"], ascending=False\n",
    "    )\n",
    "\n",
    "    print(\"ADSTuner session results:\")\n",
    "    print(f\"ADSTuner has launched {tuner.trials.shape[0]} trials\")\n",
    "    print(f\"ADSTuner has completed {result_df.shape[0]} trials\")\n",
    "    print()\n",
    "    print(f\"The best trial is the #: {tuner.best_index}\")\n",
    "    print(f\"Parameters for the best trial are: {tuner.best_params}\")\n",
    "    print(f\"The metric used to optimize is: {tuner.scoring_name}\")\n",
    "    print(f\"The best score is: {round(tuner.best_score, 4)}\")\n",
    "    \n",
    "show_tuner_results(tuner)"
   ]
  },
  {
   "cell_type": "markdown",
   "metadata": {},
   "source": [
    "### Train with best params"
   ]
  },
  {
   "cell_type": "code",
   "execution_count": 100,
   "metadata": {},
   "outputs": [
    {
     "name": "stdout",
     "output_type": "stream",
     "text": [
      "[0]\tvalidation_0-auc:0.84995\n",
      "[100]\tvalidation_0-auc:0.85784\n",
      "[200]\tvalidation_0-auc:0.86059\n",
      "[300]\tvalidation_0-auc:0.86617\n",
      "[400]\tvalidation_0-auc:0.87017\n",
      "[500]\tvalidation_0-auc:0.87416\n",
      "[600]\tvalidation_0-auc:0.87757\n",
      "[700]\tvalidation_0-auc:0.88017\n",
      "[800]\tvalidation_0-auc:0.88189\n",
      "[900]\tvalidation_0-auc:0.88329\n",
      "[999]\tvalidation_0-auc:0.88416\n",
      "\n",
      "CPU times: user 2h 59min 41s, sys: 48.4 s, total: 3h 29s\n",
      "Wall time: 8min 24s\n"
     ]
    }
   ],
   "source": [
    "%%time\n",
    "\n",
    "clf = xgb.XGBClassifier(**tuner.best_params)\n",
    "\n",
    "# addestro e valuto su train e su validation set\n",
    "clf.fit(x_train_scaled, y_train,\n",
    "        eval_set=[(x_train_scaled, y_train)],\n",
    "        eval_metric='auc', verbose=100)\n",
    "\n",
    "print()\n",
    "\n",
    "evals_result = clf.evals_result()"
   ]
  },
  {
   "cell_type": "markdown",
   "metadata": {},
   "source": [
    "#### OK, consider that the slightly higher AUC is due to the fact here we're evaluating also on train data"
   ]
  },
  {
   "cell_type": "code",
   "execution_count": 101,
   "metadata": {},
   "outputs": [],
   "source": [
    "def plot_auc(train_hist):\n",
    "    plt.figure(figsize=(9,6))\n",
    "    \n",
    "    plt.plot(train_hist, label='Training AUC')\n",
    "    plt.title('AUC')\n",
    "    plt.legend(loc='lower right')\n",
    "    plt.ylabel('auc')\n",
    "    plt.xlabel('n_estimator')\n",
    "    plt.grid(True)\n",
    "    plt.show();"
   ]
  },
  {
   "cell_type": "code",
   "execution_count": 102,
   "metadata": {},
   "outputs": [
    {
     "data": {
      "image/png": "[encoded data removed]",
      "text/plain": [
       "<Figure size 648x432 with 1 Axes>"
      ]
     },
     "metadata": {
      "needs_background": "light"
     },
     "output_type": "display_data"
    }
   ],
   "source": [
    "train_hist = evals_result['validation_0']['auc']\n",
    "\n",
    "plot_auc(train_hist)"
   ]
  },
  {
   "cell_type": "code",
   "execution_count": 103,
   "metadata": {},
   "outputs": [
    {
     "name": "stdout",
     "output_type": "stream",
     "text": [
      "Accuracy on train set: 94.29%\n"
     ]
    }
   ],
   "source": [
    "# compute accuracy on train_set\n",
    "y_pred = clf.predict(x_train_scaled)\n",
    "\n",
    "predictions = [round(value) for value in y_pred]\n",
    "\n",
    "accuracy = accuracy_score(y_train, predictions)\n",
    "\n",
    "print(\"Accuracy on train set: %.2f%%\" % (accuracy * 100.0))"
   ]
  },
  {
   "cell_type": "code",
   "execution_count": 104,
   "metadata": {},
   "outputs": [
    {
     "data": {
      "text/plain": [
       "(139063, 911, 7658, 2368)"
      ]
     },
     "execution_count": 104,
     "metadata": {},
     "output_type": "execute_result"
    }
   ],
   "source": [
    "# compute confusion matrix\n",
    "tn, fp, fn, tp = confusion_matrix(y_train, predictions).ravel()\n",
    "\n",
    "(tn, fp, fn, tp)"
   ]
  },
  {
   "cell_type": "markdown",
   "metadata": {},
   "source": [
    "### Prediction on the TEST set (for submission to Kaggle)"
   ]
  },
  {
   "cell_type": "code",
   "execution_count": null,
   "metadata": {},
   "outputs": [],
   "source": [
    "# predictions on test set\n",
    "orig_test = pd.read_csv('cs-test.csv')\n",
    "\n",
    "# inpute missing values, add the two indicator columns\n",
    "orig_test['isna_mi'] = 0\n",
    "orig_test.loc[orig_test[COL1_MISSING].isna(), 'isna_mi'] = 1\n",
    "orig_test.loc[orig_test[COL1_MISSING].isna(), COL1_MISSING] = MONTHLY_INC_MEDIAN\n",
    "\n",
    "orig_test['isna_nod'] = 0\n",
    "orig_test.loc[orig_test[COL2_MISSING].isna(), 'isna_nod'] = 1\n",
    "orig_test.loc[orig_test[COL2_MISSING].isna(), COL2_MISSING] = N_OF_DEP_MODE"
   ]
  },
  {
   "cell_type": "code",
   "execution_count": null,
   "metadata": {},
   "outputs": [],
   "source": [
    "ind_test = orig_test[ind_col].values"
   ]
  },
  {
   "cell_type": "code",
   "execution_count": null,
   "metadata": {},
   "outputs": [],
   "source": [
    "orig_test = orig_test.drop(ind_col, axis = 1)"
   ]
  },
  {
   "cell_type": "code",
   "execution_count": null,
   "metadata": {},
   "outputs": [],
   "source": [
    "ID_COL_NAME = 'Unnamed: 0'\n",
    "xorig_test = orig_test.drop(ID_COL_NAME, axis = 1)\n",
    "xorig_test = xorig_test.drop(TARGET, axis = 1)\n",
    "\n",
    "x_test = xorig_test.values"
   ]
  },
  {
   "cell_type": "code",
   "execution_count": null,
   "metadata": {},
   "outputs": [],
   "source": [
    "# aggiungi qui lo scaling !!!\n",
    "x_test_scaled = scaler.transform(x_test)\n",
    "# riaggiunge le colonne indicatore\n",
    "x_test_scaled = np.c_[x_test_scaled, ind_test]\n",
    "\n",
    "assert x_test_scaled.shape[1] == N_FEATURES"
   ]
  },
  {
   "cell_type": "code",
   "execution_count": null,
   "metadata": {},
   "outputs": [],
   "source": [
    "# do predictions on test set (no shuffle !)\n",
    "y_pred = clf.predict_proba(x_test_scaled)\n",
    "\n",
    "# y_pred contiene le probabilità\n",
    "y_pred = y_pred[:, 1]"
   ]
  },
  {
   "cell_type": "code",
   "execution_count": null,
   "metadata": {},
   "outputs": [],
   "source": [
    "# prepara il csv per la submission\n",
    "result_dict = {\"Id\": orig_test[ID_COL_NAME].values,\n",
    "              'Probability': y_pred}\n",
    "\n",
    "FILE_SUB = 'submission25.csv'\n",
    "\n",
    "# build a dataframe and save to csv\n",
    "result_df = pd.DataFrame(result_dict)\n",
    "\n",
    "result_df.to_csv(FILE_SUB, index=False, float_format='%.5f')"
   ]
  },
  {
   "cell_type": "code",
   "execution_count": null,
   "metadata": {},
   "outputs": [],
   "source": [
    "### Save Modela and scaler"
   ]
  },
  {
   "cell_type": "code",
   "execution_count": null,
   "metadata": {},
   "outputs": [],
   "source": [
    "# save model: uso un formato semplice: pkl\n",
    "pickle.dump(clf, open(\"credit-scoring.pkl\", \"wb\"))"
   ]
  },
  {
   "cell_type": "code",
   "execution_count": null,
   "metadata": {},
   "outputs": [],
   "source": [
    "# salvo anche lo scaler\n",
    "pickle.dump(scaler, open(\"scaler.pkl\", \"wb\"))"
   ]
  },
  {
   "cell_type": "markdown",
   "metadata": {},
   "source": [
    "### Online predictions"
   ]
  },
  {
   "cell_type": "code",
   "execution_count": null,
   "metadata": {},
   "outputs": [],
   "source": [
    "# reload the model\n",
    "loaded_model = pickle.load(open(\"credit-scoring.pkl\", \"rb\"))"
   ]
  },
  {
   "cell_type": "code",
   "execution_count": null,
   "metadata": {},
   "outputs": [],
   "source": [
    "# reload the scaler\n",
    "loaded_scaler = pickle.load(open(\"scaler.pkl\", \"rb\"))"
   ]
  },
  {
   "cell_type": "code",
   "execution_count": null,
   "metadata": {},
   "outputs": [],
   "source": [
    "# prepare for online predictions\n",
    "# input are given as a numpy array, with no missing fields, but we need to add the two indicator columns\n",
    "x_input = np.array([[1,2,3,4,5,6,7,8,9,10],\n",
    "                   [1,2,3,4,5,6,7,8,9,10],\n",
    "                   [1,2,3,4,5,6,7,8,9,10]])"
   ]
  },
  {
   "cell_type": "code",
   "execution_count": null,
   "metadata": {},
   "outputs": [],
   "source": [
    "# controlli\n",
    "assert x_input.shape[1] == 10\n",
    "# check there are no null\n",
    "assert np.sum(np.isnan(x_input)) == 0"
   ]
  },
  {
   "cell_type": "code",
   "execution_count": null,
   "metadata": {},
   "outputs": [],
   "source": [
    "# normalize\n",
    "x_input_scaled = loaded_scaler.transform(x_input)\n",
    "\n",
    "# add two columns with 0\n",
    "x_add = np.zeros((x_input.shape[0], 2))\n",
    "x_input_scaled = np.c_[x_input_scaled, x_add]"
   ]
  },
  {
   "cell_type": "code",
   "execution_count": null,
   "metadata": {},
   "outputs": [],
   "source": [
    "y_pred = loaded_model.predict(x_input_scaled)"
   ]
  },
  {
   "cell_type": "code",
   "execution_count": null,
   "metadata": {},
   "outputs": [],
   "source": [
    "y_pred"
   ]
  },
  {
   "cell_type": "code",
   "execution_count": null,
   "metadata": {},
   "outputs": [],
   "source": [
    "train_df[TARGET].hist();"
   ]
  },
  {
   "cell_type": "code",
   "execution_count": null,
   "metadata": {},
   "outputs": [],
   "source": []
  }
 ],
 "metadata": {
  "kernelspec": {
   "display_name": "Python [conda env:generalml_p37_cpu_v1]",
   "language": "python",
   "name": "conda-env-generalml_p37_cpu_v1-py"
  },
  "language_info": {
   "codemirror_mode": {
    "name": "ipython",
    "version": 3
   },
   "file_extension": ".py",
   "mimetype": "text/x-python",
   "name": "python",
   "nbconvert_exporter": "python",
   "pygments_lexer": "ipython3",
   "version": "3.7.12"
  }
 },
 "nbformat": 4,
 "nbformat_minor": 4
}
