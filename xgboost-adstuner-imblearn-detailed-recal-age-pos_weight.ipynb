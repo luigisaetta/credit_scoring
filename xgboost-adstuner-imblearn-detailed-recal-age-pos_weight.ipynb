{
 "cells": [
  {
   "cell_type": "markdown",
   "metadata": {},
   "source": [
    "### XGBoost with ADSTuner for HPO\n",
    "\n",
    "* Imblearn for undersampling of negative class\n",
    "* ADSTuner for HPO\n",
    "* tuning on more parameters\n",
    "* optimize using recall\n",
    "* adding score_pos_weight to tuning parms"
   ]
  },
  {
   "cell_type": "code",
   "execution_count": 1,
   "metadata": {},
   "outputs": [],
   "source": [
    "import pandas as pd\n",
    "import numpy as np\n",
    "import xgboost as xgb\n",
    "\n",
    "import ads\n",
    "\n",
    "# to use ADSTuner\n",
    "from ads.hpo.search_cv import ADSTuner\n",
    "from ads.hpo.stopping_criterion import *\n",
    "from ads.hpo.distributions import *\n",
    "\n",
    "from xgboost import XGBClassifier\n",
    "from sklearn.metrics import accuracy_score, confusion_matrix, ConfusionMatrixDisplay\n",
    "\n",
    "# for undersampling the negative class\n",
    "from imblearn.under_sampling import RandomUnderSampler\n",
    "\n",
    "import matplotlib.pyplot as plt\n",
    "import seaborn as sns\n",
    "\n",
    "sns.set()\n",
    "\n",
    "import pickle\n",
    "\n",
    "%matplotlib inline"
   ]
  },
  {
   "cell_type": "code",
   "execution_count": 2,
   "metadata": {},
   "outputs": [
    {
     "name": "stdout",
     "output_type": "stream",
     "text": [
      "2.5.4\n"
     ]
    }
   ],
   "source": [
    "# check the ADS version\n",
    "print(ads.__version__)"
   ]
  },
  {
   "cell_type": "code",
   "execution_count": 3,
   "metadata": {},
   "outputs": [],
   "source": [
    "# global constants\n",
    "SEED = 1324\n",
    "\n",
    "# number of features (without (16/03) the two indicator cols)\n",
    "N_FEATURES = 12 - 2\n",
    "\n",
    "# name of col with label\n",
    "TARGET = 'SeriousDlqin2yrs'\n",
    "\n",
    "# cols with missing values\n",
    "COL1_MISSING = 'MonthlyIncome'\n",
    "COL2_MISSING = 'NumberOfDependents'\n",
    "\n",
    "# nomi delle due colonne indicator (valgono 1 laddove il dato è inputato)\n",
    "IND1 = 'isna_mi'\n",
    "IND2 = 'isna_nod'\n",
    "\n",
    "ind_col = [IND1, IND2]\n",
    "\n",
    "# 16/03 added indicators\n",
    "COLS_TO_DROP = ['id', 'isna_mi', 'isna_nod']\n",
    "\n",
    "# for undersampling to make the dataset more balanced\n",
    "# ratio minority samples/majority\n",
    "# with this ratio I get all the positive samples\n",
    "RATIO = 1./5."
   ]
  },
  {
   "cell_type": "code",
   "execution_count": 4,
   "metadata": {},
   "outputs": [],
   "source": [
    "# full dataset, not undersampled\n",
    "data_full = pd.read_csv('cs-training-nonull.csv')\n",
    "\n",
    "# remove unneeded cols\n",
    "data_full = data_full.drop(COLS_TO_DROP, axis = 1)"
   ]
  },
  {
   "cell_type": "code",
   "execution_count": 5,
   "metadata": {},
   "outputs": [],
   "source": [
    "cat_cols = ['age','NumberOfTime30-59DaysPastDueNotWorse',\n",
    "               'NumberOfOpenCreditLinesAndLoans', 'NumberOfTimes90DaysLate',\n",
    "               'NumberRealEstateLoansOrLines', 'NumberOfTime60-89DaysPastDueNotWorse',\n",
    "               'NumberOfDependents']\n",
    "num_cols = ['RevolvingUtilizationOfUnsecuredLines', 'DebtRatio', 'MonthlyIncome', ]\n",
    "\n",
    "# indicators are not touched"
   ]
  },
  {
   "cell_type": "code",
   "execution_count": 6,
   "metadata": {},
   "outputs": [],
   "source": [
    "# scaling and label encoding is done on data_full. After we will do resampling\n",
    "# In this way coding and scaling cover entire range of values, not only for resampled data\n",
    "\n",
    "# we don't need any scaling (it is ensambles of trees)"
   ]
  },
  {
   "cell_type": "code",
   "execution_count": 7,
   "metadata": {},
   "outputs": [],
   "source": [
    "# cat cols treatment\n",
    "# Code categorical columns (only season, weather, year)\n",
    "\n",
    "# we don't need any pre-processing for cat columns\n",
    "\n",
    "# so for XGBoost  Nan treatment no other pre-processing is needed"
   ]
  },
  {
   "cell_type": "code",
   "execution_count": 8,
   "metadata": {},
   "outputs": [],
   "source": [
    "# delete rows with anomalous age\n",
    "# condition to keep\n",
    "condition = (data_full['age'] >= 18) & (data_full['age'] <= 100)\n",
    "\n",
    "data_full = data_full.loc[condition]"
   ]
  },
  {
   "cell_type": "code",
   "execution_count": 9,
   "metadata": {},
   "outputs": [],
   "source": [
    "# extract X: features and y, labels\n",
    "features = [c for c in data_full.columns if c != TARGET]\n",
    "\n",
    "y_train_full = data_full[TARGET].values\n",
    "x_train_full = data_full.drop(TARGET, axis = 1).values\n",
    "\n",
    "assert x_train_full.shape[1] == N_FEATURES"
   ]
  },
  {
   "cell_type": "code",
   "execution_count": 10,
   "metadata": {},
   "outputs": [
    {
     "name": "stdout",
     "output_type": "stream",
     "text": [
      "# of samples in full dataset: 149986\n",
      "# of positive samples: 10025\n",
      "# of negative samples: 139961\n"
     ]
    }
   ],
   "source": [
    "print(f'# of samples in full dataset: {x_train_full.shape[0]}')\n",
    "print(f'# of positive samples: {np.sum(y_train_full)}')\n",
    "print(f'# of negative samples: {x_train_full.shape[0] - np.sum(y_train_full)}')"
   ]
  },
  {
   "cell_type": "code",
   "execution_count": 11,
   "metadata": {},
   "outputs": [
    {
     "name": "stdout",
     "output_type": "stream",
     "text": [
      "# of samples in resampled dataset: 60150\n",
      "# of positive samples: 10025\n",
      "# of negative samples: 50125\n"
     ]
    }
   ],
   "source": [
    "# do the undersampling of the negative class, using IMblearn\n",
    "rus = RandomUnderSampler(sampling_strategy=RATIO, random_state=SEED)\n",
    "\n",
    "x_train, y_train = rus.fit_resample(x_train_full, y_train_full)\n",
    "\n",
    "print(f'# of samples in resampled dataset: {x_train.shape[0]}')\n",
    "\n",
    "# check ratio of classes\n",
    "print(f'# of positive samples: {np.sum(y_train)}')\n",
    "print(f'# of negative samples: {x_train.shape[0] - np.sum(y_train)}')"
   ]
  },
  {
   "cell_type": "markdown",
   "metadata": {},
   "source": [
    "The resampled dataset (x_train, y_train) will be used for training"
   ]
  },
  {
   "cell_type": "markdown",
   "metadata": {},
   "source": [
    "### Train the XGBoost Classifier"
   ]
  },
  {
   "cell_type": "code",
   "execution_count": 12,
   "metadata": {},
   "outputs": [],
   "source": [
    "# parameters for the HPO session with Optuna\n",
    "FOLDS = 5\n",
    "SEED = 4321\n",
    "\n",
    "N_TRIALS = 100\n",
    "TIME_BUDGET = 7200\n",
    "STUDY_NAME = \"xgb-gpu01\"\n",
    "\n",
    "# ranges\n",
    "LR_LOW = 1e-3\n",
    "LR_HIGH = 1e-2\n",
    "DEPTH_LOW = 4\n",
    "DEPTH_HIGH = 10\n",
    "N_ITER_LIST = [2000, 2100, 2200, 2300, 2400, 2500, 2600, 2700, 2800, 2900, 3000]\n",
    "GAMMA_LOW = 0.1\n",
    "GAMMA_HIGH = 5\n",
    "SUBSAMPLE_LOW = 0.1\n",
    "SUBSAMPLE_HIGH = 1.\n",
    "POS_WEIGHT_LOW = 1.\n",
    "POS_WEIGTH_HIGH = 10."
   ]
  },
  {
   "cell_type": "code",
   "execution_count": 13,
   "metadata": {},
   "outputs": [
    {
     "name": "stderr",
     "output_type": "stream",
     "text": [
      "\u001b[32m[I 2022-03-17 12:02:28,886]\u001b[0m A new study created in RDB with name: xgb-gpu01\u001b[0m\n"
     ]
    }
   ],
   "source": [
    "#\n",
    "# Here we define the strategy, the space for hyper-parameters we want to explore\n",
    "#\n",
    "params = {\n",
    "    \"n_estimators\": CategoricalDistribution(N_ITER_LIST),\n",
    "    \"learning_rate\": LogUniformDistribution(low=LR_LOW, high=LR_HIGH),\n",
    "    \"max_depth\": IntUniformDistribution(DEPTH_LOW, DEPTH_HIGH),\n",
    "    \"gamma\" : LogUniformDistribution(low=GAMMA_LOW, high=GAMMA_HIGH),\n",
    "    \"subsample\" : UniformDistribution(low=SUBSAMPLE_LOW, high=SUBSAMPLE_HIGH),\n",
    "    \"scale_pos_weight\" : UniformDistribution(low=POS_WEIGHT_LOW, high=POS_WEIGTH_HIGH),\n",
    "    \"tree_method\": \"gpu_hist\"\n",
    "}\n",
    "\n",
    "clf = xgb.XGBClassifier()\n",
    "\n",
    "\n",
    "# per lista scorer sorted(sklearn.metrics.SCORERS.keys())\n",
    "tuner = ADSTuner(clf, cv=FOLDS, strategy=params, scoring=\"roc_auc\", study_name=STUDY_NAME, n_jobs=10, random_state=SEED)\n",
    "\n",
    "tuner.tune(x_train, y_train, exit_criterion=[TimeBudget(TIME_BUDGET)])"
   ]
  },
  {
   "cell_type": "code",
   "execution_count": 39,
   "metadata": {},
   "outputs": [
    {
     "name": "stdout",
     "output_type": "stream",
     "text": [
      "The tuner status is: State.RUNNING\n",
      "Remaining time is: 4708.5 sec.\n"
     ]
    }
   ],
   "source": [
    "# get the status to see if completed\n",
    "print(f\"The tuner status is: {tuner.get_status()}\")\n",
    "\n",
    "print(f\"Remaining time is: {round(tuner.time_remaining, 1)} sec.\")"
   ]
  },
  {
   "cell_type": "code",
   "execution_count": 88,
   "metadata": {},
   "outputs": [
    {
     "data": {
      "text/html": [
       "<div>\n",
       "<style scoped>\n",
       "    .dataframe tbody tr th:only-of-type {\n",
       "        vertical-align: middle;\n",
       "    }\n",
       "\n",
       "    .dataframe tbody tr th {\n",
       "        vertical-align: top;\n",
       "    }\n",
       "\n",
       "    .dataframe thead th {\n",
       "        text-align: right;\n",
       "    }\n",
       "</style>\n",
       "<table border=\"1\" class=\"dataframe\">\n",
       "  <thead>\n",
       "    <tr style=\"text-align: right;\">\n",
       "      <th></th>\n",
       "      <th>number</th>\n",
       "      <th>value</th>\n",
       "      <th>datetime_start</th>\n",
       "      <th>datetime_complete</th>\n",
       "      <th>duration</th>\n",
       "      <th>params_gamma</th>\n",
       "      <th>params_learning_rate</th>\n",
       "      <th>params_max_depth</th>\n",
       "      <th>params_n_estimators</th>\n",
       "      <th>params_scale_pos_weight</th>\n",
       "      <th>...</th>\n",
       "      <th>user_attrs_metric</th>\n",
       "      <th>user_attrs_split0_test_score</th>\n",
       "      <th>user_attrs_split1_test_score</th>\n",
       "      <th>user_attrs_split2_test_score</th>\n",
       "      <th>user_attrs_split3_test_score</th>\n",
       "      <th>user_attrs_split4_test_score</th>\n",
       "      <th>user_attrs_std_fit_time</th>\n",
       "      <th>user_attrs_std_score_time</th>\n",
       "      <th>user_attrs_std_test_score</th>\n",
       "      <th>state</th>\n",
       "    </tr>\n",
       "  </thead>\n",
       "  <tbody>\n",
       "    <tr>\n",
       "      <th>61</th>\n",
       "      <td>61</td>\n",
       "      <td>0.866498</td>\n",
       "      <td>2022-03-17 13:05:21.618136</td>\n",
       "      <td>2022-03-17 13:07:43.256164</td>\n",
       "      <td>0 days 00:02:21.638028</td>\n",
       "      <td>0.587172</td>\n",
       "      <td>0.005176</td>\n",
       "      <td>4</td>\n",
       "      <td>2000</td>\n",
       "      <td>4.670961</td>\n",
       "      <td>...</td>\n",
       "      <td>roc_auc</td>\n",
       "      <td>0.866281</td>\n",
       "      <td>0.862584</td>\n",
       "      <td>0.867584</td>\n",
       "      <td>0.864645</td>\n",
       "      <td>0.871394</td>\n",
       "      <td>0.737249</td>\n",
       "      <td>0.007338</td>\n",
       "      <td>0.002965</td>\n",
       "      <td>COMPLETE</td>\n",
       "    </tr>\n",
       "    <tr>\n",
       "      <th>58</th>\n",
       "      <td>58</td>\n",
       "      <td>0.866377</td>\n",
       "      <td>2022-03-17 13:03:07.743745</td>\n",
       "      <td>2022-03-17 13:05:32.243785</td>\n",
       "      <td>0 days 00:02:24.500040</td>\n",
       "      <td>0.675421</td>\n",
       "      <td>0.005053</td>\n",
       "      <td>4</td>\n",
       "      <td>2000</td>\n",
       "      <td>5.968557</td>\n",
       "      <td>...</td>\n",
       "      <td>roc_auc</td>\n",
       "      <td>0.866280</td>\n",
       "      <td>0.862451</td>\n",
       "      <td>0.867471</td>\n",
       "      <td>0.864420</td>\n",
       "      <td>0.871263</td>\n",
       "      <td>0.240344</td>\n",
       "      <td>0.004802</td>\n",
       "      <td>0.002977</td>\n",
       "      <td>COMPLETE</td>\n",
       "    </tr>\n",
       "    <tr>\n",
       "      <th>56</th>\n",
       "      <td>56</td>\n",
       "      <td>0.866375</td>\n",
       "      <td>2022-03-17 13:02:23.728170</td>\n",
       "      <td>2022-03-17 13:04:47.930811</td>\n",
       "      <td>0 days 00:02:24.202641</td>\n",
       "      <td>0.625121</td>\n",
       "      <td>0.004992</td>\n",
       "      <td>4</td>\n",
       "      <td>2000</td>\n",
       "      <td>6.311360</td>\n",
       "      <td>...</td>\n",
       "      <td>roc_auc</td>\n",
       "      <td>0.866323</td>\n",
       "      <td>0.862382</td>\n",
       "      <td>0.867554</td>\n",
       "      <td>0.864412</td>\n",
       "      <td>0.871206</td>\n",
       "      <td>0.232872</td>\n",
       "      <td>0.005975</td>\n",
       "      <td>0.002984</td>\n",
       "      <td>COMPLETE</td>\n",
       "    </tr>\n",
       "    <tr>\n",
       "      <th>62</th>\n",
       "      <td>62</td>\n",
       "      <td>0.866370</td>\n",
       "      <td>2022-03-17 13:05:32.261739</td>\n",
       "      <td>2022-03-17 13:07:53.547112</td>\n",
       "      <td>0 days 00:02:21.285373</td>\n",
       "      <td>0.615574</td>\n",
       "      <td>0.007307</td>\n",
       "      <td>4</td>\n",
       "      <td>2000</td>\n",
       "      <td>4.918544</td>\n",
       "      <td>...</td>\n",
       "      <td>roc_auc</td>\n",
       "      <td>0.865992</td>\n",
       "      <td>0.862549</td>\n",
       "      <td>0.867444</td>\n",
       "      <td>0.864463</td>\n",
       "      <td>0.871404</td>\n",
       "      <td>0.708157</td>\n",
       "      <td>0.005001</td>\n",
       "      <td>0.002996</td>\n",
       "      <td>COMPLETE</td>\n",
       "    </tr>\n",
       "    <tr>\n",
       "      <th>60</th>\n",
       "      <td>60</td>\n",
       "      <td>0.866343</td>\n",
       "      <td>2022-03-17 13:04:47.945373</td>\n",
       "      <td>2022-03-17 13:07:11.758627</td>\n",
       "      <td>0 days 00:02:23.813254</td>\n",
       "      <td>0.631654</td>\n",
       "      <td>0.004966</td>\n",
       "      <td>4</td>\n",
       "      <td>2000</td>\n",
       "      <td>6.113141</td>\n",
       "      <td>...</td>\n",
       "      <td>roc_auc</td>\n",
       "      <td>0.866204</td>\n",
       "      <td>0.862448</td>\n",
       "      <td>0.867453</td>\n",
       "      <td>0.864399</td>\n",
       "      <td>0.871209</td>\n",
       "      <td>0.381656</td>\n",
       "      <td>0.001823</td>\n",
       "      <td>0.002962</td>\n",
       "      <td>COMPLETE</td>\n",
       "    </tr>\n",
       "    <tr>\n",
       "      <th>57</th>\n",
       "      <td>57</td>\n",
       "      <td>0.866313</td>\n",
       "      <td>2022-03-17 13:02:57.045329</td>\n",
       "      <td>2022-03-17 13:05:21.602759</td>\n",
       "      <td>0 days 00:02:24.557430</td>\n",
       "      <td>0.607217</td>\n",
       "      <td>0.004879</td>\n",
       "      <td>4</td>\n",
       "      <td>2000</td>\n",
       "      <td>6.132197</td>\n",
       "      <td>...</td>\n",
       "      <td>roc_auc</td>\n",
       "      <td>0.866114</td>\n",
       "      <td>0.862300</td>\n",
       "      <td>0.867538</td>\n",
       "      <td>0.864439</td>\n",
       "      <td>0.871175</td>\n",
       "      <td>0.209800</td>\n",
       "      <td>0.002846</td>\n",
       "      <td>0.002993</td>\n",
       "      <td>COMPLETE</td>\n",
       "    </tr>\n",
       "    <tr>\n",
       "      <th>63</th>\n",
       "      <td>63</td>\n",
       "      <td>0.866292</td>\n",
       "      <td>2022-03-17 13:06:58.508002</td>\n",
       "      <td>2022-03-17 13:09:05.398440</td>\n",
       "      <td>0 days 00:02:06.890438</td>\n",
       "      <td>0.444229</td>\n",
       "      <td>0.007579</td>\n",
       "      <td>4</td>\n",
       "      <td>2000</td>\n",
       "      <td>5.084923</td>\n",
       "      <td>...</td>\n",
       "      <td>roc_auc</td>\n",
       "      <td>0.865964</td>\n",
       "      <td>0.862250</td>\n",
       "      <td>0.867284</td>\n",
       "      <td>0.864391</td>\n",
       "      <td>0.871569</td>\n",
       "      <td>1.607554</td>\n",
       "      <td>0.007724</td>\n",
       "      <td>0.003127</td>\n",
       "      <td>COMPLETE</td>\n",
       "    </tr>\n",
       "    <tr>\n",
       "      <th>52</th>\n",
       "      <td>52</td>\n",
       "      <td>0.866272</td>\n",
       "      <td>2022-03-17 12:59:48.730284</td>\n",
       "      <td>2022-03-17 13:02:11.620944</td>\n",
       "      <td>0 days 00:02:22.890660</td>\n",
       "      <td>1.392622</td>\n",
       "      <td>0.004740</td>\n",
       "      <td>4</td>\n",
       "      <td>2000</td>\n",
       "      <td>6.499558</td>\n",
       "      <td>...</td>\n",
       "      <td>roc_auc</td>\n",
       "      <td>0.866221</td>\n",
       "      <td>0.862258</td>\n",
       "      <td>0.867430</td>\n",
       "      <td>0.864417</td>\n",
       "      <td>0.871035</td>\n",
       "      <td>0.393064</td>\n",
       "      <td>0.002627</td>\n",
       "      <td>0.002952</td>\n",
       "      <td>COMPLETE</td>\n",
       "    </tr>\n",
       "    <tr>\n",
       "      <th>51</th>\n",
       "      <td>51</td>\n",
       "      <td>0.866218</td>\n",
       "      <td>2022-03-17 12:59:27.919907</td>\n",
       "      <td>2022-03-17 13:02:23.713213</td>\n",
       "      <td>0 days 00:02:55.793306</td>\n",
       "      <td>1.362360</td>\n",
       "      <td>0.004734</td>\n",
       "      <td>4</td>\n",
       "      <td>2500</td>\n",
       "      <td>9.316414</td>\n",
       "      <td>...</td>\n",
       "      <td>roc_auc</td>\n",
       "      <td>0.866188</td>\n",
       "      <td>0.862091</td>\n",
       "      <td>0.867454</td>\n",
       "      <td>0.864176</td>\n",
       "      <td>0.871182</td>\n",
       "      <td>0.660032</td>\n",
       "      <td>0.002714</td>\n",
       "      <td>0.003078</td>\n",
       "      <td>COMPLETE</td>\n",
       "    </tr>\n",
       "    <tr>\n",
       "      <th>59</th>\n",
       "      <td>59</td>\n",
       "      <td>0.866211</td>\n",
       "      <td>2022-03-17 13:04:34.995071</td>\n",
       "      <td>2022-03-17 13:06:58.492625</td>\n",
       "      <td>0 days 00:02:23.497554</td>\n",
       "      <td>0.612952</td>\n",
       "      <td>0.007501</td>\n",
       "      <td>4</td>\n",
       "      <td>2000</td>\n",
       "      <td>6.298061</td>\n",
       "      <td>...</td>\n",
       "      <td>roc_auc</td>\n",
       "      <td>0.866007</td>\n",
       "      <td>0.862276</td>\n",
       "      <td>0.867200</td>\n",
       "      <td>0.864152</td>\n",
       "      <td>0.871422</td>\n",
       "      <td>0.242072</td>\n",
       "      <td>0.004165</td>\n",
       "      <td>0.003095</td>\n",
       "      <td>COMPLETE</td>\n",
       "    </tr>\n",
       "  </tbody>\n",
       "</table>\n",
       "<p>10 rows × 25 columns</p>\n",
       "</div>"
      ],
      "text/plain": [
       "    number     value             datetime_start          datetime_complete  \\\n",
       "61      61  0.866498 2022-03-17 13:05:21.618136 2022-03-17 13:07:43.256164   \n",
       "58      58  0.866377 2022-03-17 13:03:07.743745 2022-03-17 13:05:32.243785   \n",
       "56      56  0.866375 2022-03-17 13:02:23.728170 2022-03-17 13:04:47.930811   \n",
       "62      62  0.866370 2022-03-17 13:05:32.261739 2022-03-17 13:07:53.547112   \n",
       "60      60  0.866343 2022-03-17 13:04:47.945373 2022-03-17 13:07:11.758627   \n",
       "57      57  0.866313 2022-03-17 13:02:57.045329 2022-03-17 13:05:21.602759   \n",
       "63      63  0.866292 2022-03-17 13:06:58.508002 2022-03-17 13:09:05.398440   \n",
       "52      52  0.866272 2022-03-17 12:59:48.730284 2022-03-17 13:02:11.620944   \n",
       "51      51  0.866218 2022-03-17 12:59:27.919907 2022-03-17 13:02:23.713213   \n",
       "59      59  0.866211 2022-03-17 13:04:34.995071 2022-03-17 13:06:58.492625   \n",
       "\n",
       "                 duration  params_gamma  params_learning_rate  \\\n",
       "61 0 days 00:02:21.638028      0.587172              0.005176   \n",
       "58 0 days 00:02:24.500040      0.675421              0.005053   \n",
       "56 0 days 00:02:24.202641      0.625121              0.004992   \n",
       "62 0 days 00:02:21.285373      0.615574              0.007307   \n",
       "60 0 days 00:02:23.813254      0.631654              0.004966   \n",
       "57 0 days 00:02:24.557430      0.607217              0.004879   \n",
       "63 0 days 00:02:06.890438      0.444229              0.007579   \n",
       "52 0 days 00:02:22.890660      1.392622              0.004740   \n",
       "51 0 days 00:02:55.793306      1.362360              0.004734   \n",
       "59 0 days 00:02:23.497554      0.612952              0.007501   \n",
       "\n",
       "    params_max_depth  params_n_estimators  params_scale_pos_weight  ...  \\\n",
       "61                 4                 2000                 4.670961  ...   \n",
       "58                 4                 2000                 5.968557  ...   \n",
       "56                 4                 2000                 6.311360  ...   \n",
       "62                 4                 2000                 4.918544  ...   \n",
       "60                 4                 2000                 6.113141  ...   \n",
       "57                 4                 2000                 6.132197  ...   \n",
       "63                 4                 2000                 5.084923  ...   \n",
       "52                 4                 2000                 6.499558  ...   \n",
       "51                 4                 2500                 9.316414  ...   \n",
       "59                 4                 2000                 6.298061  ...   \n",
       "\n",
       "    user_attrs_metric user_attrs_split0_test_score  \\\n",
       "61            roc_auc                     0.866281   \n",
       "58            roc_auc                     0.866280   \n",
       "56            roc_auc                     0.866323   \n",
       "62            roc_auc                     0.865992   \n",
       "60            roc_auc                     0.866204   \n",
       "57            roc_auc                     0.866114   \n",
       "63            roc_auc                     0.865964   \n",
       "52            roc_auc                     0.866221   \n",
       "51            roc_auc                     0.866188   \n",
       "59            roc_auc                     0.866007   \n",
       "\n",
       "    user_attrs_split1_test_score  user_attrs_split2_test_score  \\\n",
       "61                      0.862584                      0.867584   \n",
       "58                      0.862451                      0.867471   \n",
       "56                      0.862382                      0.867554   \n",
       "62                      0.862549                      0.867444   \n",
       "60                      0.862448                      0.867453   \n",
       "57                      0.862300                      0.867538   \n",
       "63                      0.862250                      0.867284   \n",
       "52                      0.862258                      0.867430   \n",
       "51                      0.862091                      0.867454   \n",
       "59                      0.862276                      0.867200   \n",
       "\n",
       "    user_attrs_split3_test_score user_attrs_split4_test_score  \\\n",
       "61                      0.864645                     0.871394   \n",
       "58                      0.864420                     0.871263   \n",
       "56                      0.864412                     0.871206   \n",
       "62                      0.864463                     0.871404   \n",
       "60                      0.864399                     0.871209   \n",
       "57                      0.864439                     0.871175   \n",
       "63                      0.864391                     0.871569   \n",
       "52                      0.864417                     0.871035   \n",
       "51                      0.864176                     0.871182   \n",
       "59                      0.864152                     0.871422   \n",
       "\n",
       "    user_attrs_std_fit_time  user_attrs_std_score_time  \\\n",
       "61                 0.737249                   0.007338   \n",
       "58                 0.240344                   0.004802   \n",
       "56                 0.232872                   0.005975   \n",
       "62                 0.708157                   0.005001   \n",
       "60                 0.381656                   0.001823   \n",
       "57                 0.209800                   0.002846   \n",
       "63                 1.607554                   0.007724   \n",
       "52                 0.393064                   0.002627   \n",
       "51                 0.660032                   0.002714   \n",
       "59                 0.242072                   0.004165   \n",
       "\n",
       "    user_attrs_std_test_score     state  \n",
       "61                   0.002965  COMPLETE  \n",
       "58                   0.002977  COMPLETE  \n",
       "56                   0.002984  COMPLETE  \n",
       "62                   0.002996  COMPLETE  \n",
       "60                   0.002962  COMPLETE  \n",
       "57                   0.002993  COMPLETE  \n",
       "63                   0.003127  COMPLETE  \n",
       "52                   0.002952  COMPLETE  \n",
       "51                   0.003078  COMPLETE  \n",
       "59                   0.003095  COMPLETE  \n",
       "\n",
       "[10 rows x 25 columns]"
      ]
     },
     "execution_count": 88,
     "metadata": {},
     "output_type": "execute_result"
    }
   ],
   "source": [
    "# look only at completed trials, sorted with best on top. Metric chosen is in the value col.\n",
    "result_df = tuner.trials[tuner.trials[\"state\"] == \"COMPLETE\"].sort_values(\n",
    "    by=[\"value\"], ascending=False\n",
    ")\n",
    "\n",
    "result_df.head(10)"
   ]
  },
  {
   "cell_type": "code",
   "execution_count": 83,
   "metadata": {},
   "outputs": [
    {
     "name": "stdout",
     "output_type": "stream",
     "text": [
      "ADSTuner session results:\n",
      "ADSTuner has launched 70 trials\n",
      "ADSTuner has completed 60 trials\n",
      "\n",
      "The best trial is the #: 61\n",
      "Parameters for the best trial are: {'gamma': 0.5871717452502927, 'learning_rate': 0.005176219209023098, 'max_depth': 4, 'n_estimators': 2000, 'scale_pos_weight': 4.670961033196241, 'subsample': 0.7212380147416125, 'tree_method': 'gpu_hist'}\n",
      "The metric used to optimize is: roc_auc\n",
      "The best score is: 0.8665\n"
     ]
    }
   ],
   "source": [
    "def show_tuner_results(tuner):\n",
    "\n",
    "    # to count completed\n",
    "    result_df = tuner.trials[tuner.trials[\"state\"] == \"COMPLETE\"].sort_values(\n",
    "        by=[\"value\"], ascending=False\n",
    "    )\n",
    "\n",
    "    print(\"ADSTuner session results:\")\n",
    "    print(f\"ADSTuner has launched {tuner.trials.shape[0]} trials\")\n",
    "    print(f\"ADSTuner has completed {result_df.shape[0]} trials\")\n",
    "    print()\n",
    "    print(f\"The best trial is the #: {tuner.best_index}\")\n",
    "    print(f\"Parameters for the best trial are: {tuner.best_params}\")\n",
    "    print(f\"The metric used to optimize is: {tuner.scoring_name}\")\n",
    "    print(f\"The best score is: {round(tuner.best_score, 4)}\")\n",
    "    \n",
    "show_tuner_results(tuner)"
   ]
  },
  {
   "cell_type": "markdown",
   "metadata": {},
   "source": [
    "### Train with best params"
   ]
  },
  {
   "cell_type": "code",
   "execution_count": 84,
   "metadata": {},
   "outputs": [
    {
     "name": "stdout",
     "output_type": "stream",
     "text": [
      "[0]\tvalidation_0-auc:0.83307\n",
      "[100]\tvalidation_0-auc:0.85293\n",
      "[200]\tvalidation_0-auc:0.85721\n",
      "[300]\tvalidation_0-auc:0.85934\n",
      "[400]\tvalidation_0-auc:0.86130\n",
      "[500]\tvalidation_0-auc:0.86338\n",
      "[600]\tvalidation_0-auc:0.86528\n",
      "[700]\tvalidation_0-auc:0.86686\n",
      "[800]\tvalidation_0-auc:0.86817\n",
      "[900]\tvalidation_0-auc:0.86926\n",
      "[1000]\tvalidation_0-auc:0.87031\n",
      "[1100]\tvalidation_0-auc:0.87115\n",
      "[1200]\tvalidation_0-auc:0.87194\n",
      "[1300]\tvalidation_0-auc:0.87269\n",
      "[1400]\tvalidation_0-auc:0.87336\n",
      "[1500]\tvalidation_0-auc:0.87399\n",
      "[1600]\tvalidation_0-auc:0.87460\n",
      "[1700]\tvalidation_0-auc:0.87518\n",
      "[1800]\tvalidation_0-auc:0.87572\n",
      "[1900]\tvalidation_0-auc:0.87627\n",
      "[1999]\tvalidation_0-auc:0.87682\n",
      "\n",
      "CPU times: user 6.88 s, sys: 4.78 s, total: 11.7 s\n",
      "Wall time: 19 s\n"
     ]
    }
   ],
   "source": [
    "%%time\n",
    "\n",
    "clf = xgb.XGBClassifier(**tuner.best_params)\n",
    "\n",
    "# addestro e valuto su train e su validation set\n",
    "clf.fit(x_train, y_train,\n",
    "        eval_set=[(x_train, y_train)],\n",
    "        eval_metric='auc', verbose=100)\n",
    "\n",
    "print()\n",
    "\n",
    "evals_result = clf.evals_result()"
   ]
  },
  {
   "cell_type": "markdown",
   "metadata": {},
   "source": [
    "#### OK, consider that the slightly higher AUC is due to the fact here we're evaluating also on train data"
   ]
  },
  {
   "cell_type": "code",
   "execution_count": null,
   "metadata": {},
   "outputs": [],
   "source": [
    "def plot_auc(train_hist):\n",
    "    plt.figure(figsize=(9,6))\n",
    "    \n",
    "    plt.plot(train_hist, label='Training AUC')\n",
    "    plt.title('AUC')\n",
    "    plt.legend(loc='lower right')\n",
    "    plt.ylabel('auc')\n",
    "    plt.xlabel('n_estimator')\n",
    "    plt.grid(True)\n",
    "    plt.show();"
   ]
  },
  {
   "cell_type": "code",
   "execution_count": null,
   "metadata": {},
   "outputs": [],
   "source": [
    "train_hist = evals_result['validation_0']['auc']\n",
    "\n",
    "plot_auc(train_hist)"
   ]
  },
  {
   "cell_type": "code",
   "execution_count": 85,
   "metadata": {},
   "outputs": [
    {
     "name": "stdout",
     "output_type": "stream",
     "text": [
      "Accuracy on train set: 80.81%\n",
      "CPU times: user 6.93 s, sys: 22.5 ms, total: 6.95 s\n",
      "Wall time: 845 ms\n"
     ]
    }
   ],
   "source": [
    "%%time\n",
    "\n",
    "# compute accuracy on full dataset\n",
    "y_pred = clf.predict(x_train_full)\n",
    "\n",
    "# not really needed for XGBoost\n",
    "predictions = [round(value) for value in y_pred]\n",
    "\n",
    "accuracy = accuracy_score(y_train_full, predictions)\n",
    "\n",
    "print(\"Accuracy on train set: %.2f%%\" % (accuracy * 100.0))"
   ]
  },
  {
   "cell_type": "code",
   "execution_count": 86,
   "metadata": {},
   "outputs": [
    {
     "data": {
      "image/png": "[encoded data removed]",
      "text/plain": [
       "<Figure size 432x288 with 2 Axes>"
      ]
     },
     "metadata": {
      "needs_background": "light"
     },
     "output_type": "display_data"
    }
   ],
   "source": [
    "# compute confusion matrix on full dataset\n",
    "cm = confusion_matrix(y_train_full, predictions)\n",
    "\n",
    "# plot the confusion matrix\n",
    "disp = ConfusionMatrixDisplay(confusion_matrix=cm)\n",
    "\n",
    "disp.plot();"
   ]
  },
  {
   "cell_type": "code",
   "execution_count": 89,
   "metadata": {},
   "outputs": [
    {
     "data": {
      "image/png": "[encoded data removed]",
      "text/plain": [
       "<Figure size 648x432 with 1 Axes>"
      ]
     },
     "metadata": {
      "needs_background": "light"
     },
     "output_type": "display_data"
    }
   ],
   "source": [
    "from sklearn.metrics import f1_score, recall_score, balanced_accuracy_score\n",
    "\n",
    "y_pred_proba = clf.predict_proba(x_train_full)\n",
    "\n",
    "y_pos_pred_proba = y_pred_proba[:, 1]\n",
    "\n",
    "thresholds = list(np.linspace(0.3, 0.9, 20))\n",
    "\n",
    "list_f1 = []\n",
    "list_bal_acc = []\n",
    "\n",
    "# compute f1 score for diffrent values of classification threshold\n",
    "for thr in thresholds:\n",
    "    \n",
    "    y_pred = np.where(y_pos_pred_proba >= thr, 1, 0)\n",
    "    \n",
    "    f1 = f1_score(y_train_full, y_pred)\n",
    "    rec = recall_score(y_train_full, y_pred)\n",
    "    bal_acc = balanced_accuracy_score(y_train_full, y_pred)\n",
    "    \n",
    "    list_f1.append(f1)\n",
    "    list_bal_acc.append(bal_acc)\n",
    "    \n",
    "    # print(f'Results for: {thr}: f1: {round(f1, 4)}, rec: {round(rec, 4)}, bal_acc: {bal_acc}')\n",
    "\n",
    "# plot\n",
    "\n",
    "plt.figure(figsize=(9,6))\n",
    "plt.title('bal. acc. score vs threshold')\n",
    "plt.plot(thresholds, list_bal_acc, \"o-\")\n",
    "plt.xlabel('Threshold')\n",
    "plt.grid(True)\n",
    "plt.show();"
   ]
  },
  {
   "cell_type": "code",
   "execution_count": 90,
   "metadata": {},
   "outputs": [
    {
     "data": {
      "image/png": "[encoded data removed]",
      "text/plain": [
       "<Figure size 648x432 with 1 Axes>"
      ]
     },
     "metadata": {
      "needs_background": "light"
     },
     "output_type": "display_data"
    }
   ],
   "source": [
    "# interpretability\n",
    "# feature importance\n",
    "# plot\n",
    "\n",
    "plt.figure(figsize=(9, 6))\n",
    "plt.title('Features importance')\n",
    "sns.barplot(x=data_full.drop(TARGET, axis = 1).columns, y=clf.feature_importances_)\n",
    "plt.xticks(rotation=90)\n",
    "plt.grid()\n",
    "plt.show();"
   ]
  },
  {
   "cell_type": "code",
   "execution_count": null,
   "metadata": {},
   "outputs": [],
   "source": [
    "# the number of FN is rather high but using recall things get better"
   ]
  },
  {
   "cell_type": "markdown",
   "metadata": {},
   "source": [
    "### Prediction on the TEST set (for submission to Kaggle)"
   ]
  },
  {
   "cell_type": "code",
   "execution_count": null,
   "metadata": {},
   "outputs": [],
   "source": [
    "# predictions on test set\n",
    "orig_test = pd.read_csv('cs-test.csv')"
   ]
  },
  {
   "cell_type": "code",
   "execution_count": null,
   "metadata": {},
   "outputs": [],
   "source": [
    "# inpute missing values, add the two indicator columns\n",
    "MONTHLY_INC_MEDIAN = 5400.\n",
    "N_OF_DEP_MODE = 0\n",
    "\n",
    "orig_test['isna_mi'] = 0\n",
    "orig_test.loc[orig_test[COL1_MISSING].isna(), 'isna_mi'] = 1\n",
    "orig_test.loc[orig_test[COL1_MISSING].isna(), COL1_MISSING] = MONTHLY_INC_MEDIAN\n",
    "\n",
    "orig_test['isna_nod'] = 0\n",
    "orig_test.loc[orig_test[COL2_MISSING].isna(), 'isna_nod'] = 1\n",
    "orig_test.loc[orig_test[COL2_MISSING].isna(), COL2_MISSING] = N_OF_DEP_MODE"
   ]
  },
  {
   "cell_type": "code",
   "execution_count": null,
   "metadata": {},
   "outputs": [],
   "source": [
    "ind_test = orig_test[ind_col].values"
   ]
  },
  {
   "cell_type": "code",
   "execution_count": null,
   "metadata": {},
   "outputs": [],
   "source": [
    "orig_test = orig_test.drop(ind_col, axis = 1)"
   ]
  },
  {
   "cell_type": "code",
   "execution_count": null,
   "metadata": {},
   "outputs": [],
   "source": [
    "orig_test.columns"
   ]
  },
  {
   "cell_type": "code",
   "execution_count": null,
   "metadata": {},
   "outputs": [],
   "source": [
    "ID_COL_NAME = 'Unnamed: 0'\n",
    "xorig_test = orig_test.drop(ID_COL_NAME, axis = 1)\n",
    "xorig_test = xorig_test.drop(TARGET, axis = 1)\n",
    "\n",
    "x_test = xorig_test.values"
   ]
  },
  {
   "cell_type": "code",
   "execution_count": null,
   "metadata": {},
   "outputs": [],
   "source": [
    "# aggiungi qui lo scaling !!!\n",
    "x_test_scaled = scaler.transform(x_test)\n",
    "# riaggiunge le colonne indicatore\n",
    "x_test_scaled = np.c_[x_test_scaled, ind_test]\n",
    "\n",
    "assert x_test_scaled.shape[1] == N_FEATURES"
   ]
  },
  {
   "cell_type": "code",
   "execution_count": null,
   "metadata": {},
   "outputs": [],
   "source": [
    "# do predictions on test set (no shuffle !)\n",
    "y_pred = clf.predict_proba(x_test)\n",
    "\n",
    "# y_pred contiene le probabilità\n",
    "y_pred = y_pred[:, 1]"
   ]
  },
  {
   "cell_type": "code",
   "execution_count": null,
   "metadata": {},
   "outputs": [],
   "source": [
    "# prepara il csv per la submission\n",
    "result_dict = {\"Id\": orig_test[ID_COL_NAME].values,\n",
    "              'Probability': y_pred}\n",
    "\n",
    "FILE_SUB = 'submission36.csv'\n",
    "\n",
    "# build a dataframe and save to csv\n",
    "result_df = pd.DataFrame(result_dict)\n",
    "\n",
    "result_df.to_csv(FILE_SUB, index=False, float_format='%.5f')"
   ]
  },
  {
   "cell_type": "code",
   "execution_count": null,
   "metadata": {},
   "outputs": [],
   "source": [
    "### Save Modela and scaler"
   ]
  },
  {
   "cell_type": "code",
   "execution_count": null,
   "metadata": {},
   "outputs": [],
   "source": [
    "# save model: uso un formato semplice: pkl\n",
    "pickle.dump(clf, open(\"credit-scoring.pkl\", \"wb\"))"
   ]
  },
  {
   "cell_type": "code",
   "execution_count": null,
   "metadata": {},
   "outputs": [],
   "source": [
    "# salvo anche lo scaler\n",
    "pickle.dump(scaler, open(\"scaler.pkl\", \"wb\"))"
   ]
  },
  {
   "cell_type": "markdown",
   "metadata": {},
   "source": [
    "### Online predictions"
   ]
  },
  {
   "cell_type": "code",
   "execution_count": null,
   "metadata": {},
   "outputs": [],
   "source": [
    "# reload the model\n",
    "loaded_model = pickle.load(open(\"credit-scoring.pkl\", \"rb\"))"
   ]
  },
  {
   "cell_type": "code",
   "execution_count": null,
   "metadata": {},
   "outputs": [],
   "source": [
    "# reload the scaler\n",
    "loaded_scaler = pickle.load(open(\"scaler.pkl\", \"rb\"))"
   ]
  },
  {
   "cell_type": "code",
   "execution_count": null,
   "metadata": {},
   "outputs": [],
   "source": [
    "# prepare for online predictions\n",
    "# input are given as a numpy array, with no missing fields, but we need to add the two indicator columns\n",
    "x_input = np.array([[1,2,3,4,5,6,7,8,9,10],\n",
    "                   [1,2,3,4,5,6,7,8,9,10],\n",
    "                   [1,2,3,4,5,6,7,8,9,10]])"
   ]
  },
  {
   "cell_type": "code",
   "execution_count": null,
   "metadata": {},
   "outputs": [],
   "source": [
    "# controlli\n",
    "assert x_input.shape[1] == 10\n",
    "# check there are no null\n",
    "assert np.sum(np.isnan(x_input)) == 0"
   ]
  },
  {
   "cell_type": "code",
   "execution_count": null,
   "metadata": {},
   "outputs": [],
   "source": [
    "# normalize\n",
    "x_input_scaled = loaded_scaler.transform(x_input)\n",
    "\n",
    "# add two columns with 0\n",
    "x_add = np.zeros((x_input.shape[0], 2))\n",
    "x_input_scaled = np.c_[x_input_scaled, x_add]"
   ]
  },
  {
   "cell_type": "code",
   "execution_count": null,
   "metadata": {},
   "outputs": [],
   "source": [
    "y_pred = loaded_model.predict(x_input_scaled)"
   ]
  },
  {
   "cell_type": "code",
   "execution_count": null,
   "metadata": {},
   "outputs": [],
   "source": [
    "y_pred"
   ]
  },
  {
   "cell_type": "code",
   "execution_count": null,
   "metadata": {},
   "outputs": [],
   "source": [
    "train_df[TARGET].hist();"
   ]
  },
  {
   "cell_type": "code",
   "execution_count": null,
   "metadata": {},
   "outputs": [],
   "source": []
  }
 ],
 "metadata": {
  "kernelspec": {
   "display_name": "Python [conda env:generalml_p37_gpu_v1]",
   "language": "python",
   "name": "conda-env-generalml_p37_gpu_v1-py"
  },
  "language_info": {
   "codemirror_mode": {
    "name": "ipython",
    "version": 3
   },
   "file_extension": ".py",
   "mimetype": "text/x-python",
   "name": "python",
   "nbconvert_exporter": "python",
   "pygments_lexer": "ipython3",
   "version": "3.7.12"
  }
 },
 "nbformat": 4,
 "nbformat_minor": 4
}
