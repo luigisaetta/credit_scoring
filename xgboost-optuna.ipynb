{
 "cells": [
  {
   "cell_type": "markdown",
   "metadata": {},
   "source": [
    "### Hyper-parameter optimization con Optuna"
   ]
  },
  {
   "cell_type": "code",
   "execution_count": 41,
   "metadata": {},
   "outputs": [],
   "source": [
    "import pandas as pd\n",
    "import numpy as np\n",
    "import time\n",
    "import xgboost as xgb\n",
    "\n",
    "from xgboost import XGBClassifier\n",
    "from sklearn.model_selection import train_test_split\n",
    "from sklearn.metrics import accuracy_score, confusion_matrix\n",
    "from sklearn.preprocessing import StandardScaler\n",
    "\n",
    "import matplotlib.pyplot as plt\n",
    "\n",
    "import pickle\n",
    "\n",
    "import optuna\n",
    "\n",
    "%matplotlib inline"
   ]
  },
  {
   "cell_type": "code",
   "execution_count": 2,
   "metadata": {},
   "outputs": [],
   "source": [
    "data = pd.read_csv('cs-training-nonull.csv')\n",
    "\n",
    "# remove unneeded\n",
    "data = data.drop('id', axis = 1)"
   ]
  },
  {
   "cell_type": "code",
   "execution_count": 3,
   "metadata": {},
   "outputs": [],
   "source": [
    "# global constants\n",
    "N_ESTIMATORS = 500\n",
    "# numero di features compreso le due colonne indicatore aggiunte\n",
    "N_FEATURES = 12\n",
    "\n",
    "# nome della colonna con le label\n",
    "TARGET = 'SeriousDlqin2yrs'\n",
    "\n",
    "# colonne con missing values\n",
    "COL1_MISSING = 'MonthlyIncome'\n",
    "COL2_MISSING = 'NumberOfDependents'\n",
    "\n",
    "# nomi delle due colonne indicator (valgono 1 laddove il dato è inputato)\n",
    "IND1 = 'isna_mi'\n",
    "IND2 = 'isna_nod'\n",
    "ind_col = [IND1, IND2]\n",
    "\n",
    "# prese da stats sul train test, usate per inputare i missing values su COL1 e CL2\n",
    "MONTHLY_INC_MEDIAN = 5400.0\n",
    "N_OF_DEP_MODE = 0"
   ]
  },
  {
   "cell_type": "code",
   "execution_count": 4,
   "metadata": {},
   "outputs": [],
   "source": [
    "# split in train, validation set\n",
    "def split_train_test(df, ratio):\n",
    "    # shuffle before split\n",
    "    df = df.sample(frac = 1)\n",
    "    N_REC = df.shape[0]\n",
    "    N_TRAIN = int(N_REC * ratio)\n",
    "    N_VALID = N_REC - N_TRAIN\n",
    "    train_df = df[:N_TRAIN]\n",
    "    valid_df = df[N_TRAIN:]\n",
    "    \n",
    "    return train_df, valid_df"
   ]
  },
  {
   "cell_type": "code",
   "execution_count": 5,
   "metadata": {},
   "outputs": [],
   "source": [
    "train_df, valid_df = split_train_test(data, 0.8)"
   ]
  },
  {
   "cell_type": "code",
   "execution_count": 6,
   "metadata": {},
   "outputs": [],
   "source": [
    "# metto da parte le due colonne indicatori\n",
    "ind_train = train_df[ind_col].values\n",
    "ind_valid = valid_df[ind_col].values"
   ]
  },
  {
   "cell_type": "code",
   "execution_count": 7,
   "metadata": {},
   "outputs": [],
   "source": [
    "train_df = train_df.drop(ind_col, axis = 1)\n",
    "valid_df = valid_df.drop(ind_col, axis = 1)\n",
    "\n",
    "# estrae X: matrice features ed y, labels\n",
    "y_train = train_df[TARGET].values\n",
    "xtrain_df = train_df.drop(TARGET, axis = 1)\n",
    "x_train = xtrain_df.values\n",
    "\n",
    "y_valid = valid_df[TARGET].values\n",
    "xvalid_df = valid_df.drop(TARGET, axis = 1)\n",
    "x_valid = xvalid_df.values"
   ]
  },
  {
   "cell_type": "code",
   "execution_count": 8,
   "metadata": {},
   "outputs": [
    {
     "data": {
      "text/plain": [
       "StandardScaler()"
      ]
     },
     "execution_count": 8,
     "metadata": {},
     "output_type": "execute_result"
    }
   ],
   "source": [
    "# prepara lo scaling\n",
    "scaler = StandardScaler()\n",
    "\n",
    "# calcola i parametri di scaling solo sul train set\n",
    "scaler.fit(x_train)"
   ]
  },
  {
   "cell_type": "code",
   "execution_count": 9,
   "metadata": {},
   "outputs": [],
   "source": [
    "# scalo tutto tranne che le due colonne indicatore\n",
    "x_train_scaled = scaler.transform(x_train)\n",
    "x_valid_scaled = scaler.transform(x_valid)"
   ]
  },
  {
   "cell_type": "code",
   "execution_count": 10,
   "metadata": {},
   "outputs": [],
   "source": [
    "# riaggiungo gli indicatori (che non vengono scalati)\n",
    "x_train_scaled = np.c_[x_train_scaled, ind_train]\n",
    "x_valid_scaled = np.c_[x_valid_scaled, ind_valid]"
   ]
  },
  {
   "cell_type": "code",
   "execution_count": 11,
   "metadata": {},
   "outputs": [],
   "source": [
    "# check\n",
    "assert x_train_scaled.shape[1] == N_FEATURES\n",
    "assert x_valid_scaled.shape[1] == N_FEATURES"
   ]
  },
  {
   "cell_type": "markdown",
   "metadata": {},
   "source": [
    "### Train the XGBoost Classifier"
   ]
  },
  {
   "cell_type": "code",
   "execution_count": 12,
   "metadata": {},
   "outputs": [],
   "source": [
    "def objective(trial):\n",
    "    param = {'objective':'binary:logistic', \n",
    "             'random_state': 0,\n",
    "             'n_estimators':N_ESTIMATORS,\n",
    "             'learning_rate':trial.suggest_uniform(\"learning_rate\", 0.001, 0.01), \n",
    "             'max_depth': trial.suggest_int('max_depth', 3, 8, 1),\n",
    "             'min_child_weight': trial.suggest_uniform(\"min_child_weight\", 6.0, 12.0),\n",
    "             'max_delta_step': trial.suggest_uniform(\"max_delta_step\",1.5, 2.0), \n",
    "             'colsample_bytree': trial.suggest_uniform(\"colsample_bytree\", 0.3, 0.6),\n",
    "             'subsample': trial.suggest_uniform(\"subsample\", 0.5, 0.9), \n",
    "             'eta': trial.suggest_uniform(\"eta\", 0.010, 0.050),\n",
    "             'gamma': trial.suggest_uniform(\"gamma\", 0.50, 0.80)\n",
    "                 }\n",
    "    \n",
    "    clf = xgb.XGBClassifier(use_label_encoder=False, **param)\n",
    "    \n",
    "    # addestro e valuto su train e su validation sec\n",
    "    clf.fit(x_train_scaled, y_train,\n",
    "        eval_set=[(x_train_scaled, y_train), (x_valid_scaled, y_valid)],\n",
    "        eval_metric='auc', verbose=False)\n",
    "    \n",
    "    evals_result = clf.evals_result()\n",
    "    \n",
    "    val_hist = evals_result['validation_1']['auc']\n",
    "    \n",
    "    score = val_hist[-1]\n",
    "    \n",
    "    return score"
   ]
  },
  {
   "cell_type": "code",
   "execution_count": 13,
   "metadata": {},
   "outputs": [
    {
     "name": "stderr",
     "output_type": "stream",
     "text": [
      "\u001b[32m[I 2022-03-14 08:03:13,971]\u001b[0m A new study created in memory with name: credit1\u001b[0m\n",
      "\u001b[32m[I 2022-03-14 08:04:59,578]\u001b[0m Trial 0 finished with value: 0.860854 and parameters: {'learning_rate': 0.009589602124395576, 'max_depth': 4, 'min_child_weight': 8.856700109380128, 'max_delta_step': 1.7429834490739398, 'colsample_bytree': 0.3626184582488109, 'subsample': 0.6719757160078141, 'eta': 0.023192427754631727, 'gamma': 0.6180793738173892}. Best is trial 0 with value: 0.860854.\u001b[0m\n",
      "\u001b[32m[I 2022-03-14 08:07:34,913]\u001b[0m Trial 1 finished with value: 0.861722 and parameters: {'learning_rate': 0.004300231951003278, 'max_depth': 6, 'min_child_weight': 9.38556771556079, 'max_delta_step': 1.9105821268329686, 'colsample_bytree': 0.5081460868576426, 'subsample': 0.6378562072449082, 'eta': 0.038098841263427316, 'gamma': 0.7140962372341386}. Best is trial 1 with value: 0.861722.\u001b[0m\n",
      "\u001b[32m[I 2022-03-14 08:10:31,011]\u001b[0m Trial 2 finished with value: 0.859297 and parameters: {'learning_rate': 0.0013805838837134272, 'max_depth': 8, 'min_child_weight': 7.342753103764653, 'max_delta_step': 1.8193982774671182, 'colsample_bytree': 0.3682947249848751, 'subsample': 0.6577846845354012, 'eta': 0.04477330801119864, 'gamma': 0.7180193288386825}. Best is trial 1 with value: 0.861722.\u001b[0m\n",
      "\u001b[32m[I 2022-03-14 08:12:18,344]\u001b[0m Trial 3 finished with value: 0.86061 and parameters: {'learning_rate': 0.006871953813608232, 'max_depth': 4, 'min_child_weight': 9.740662734213178, 'max_delta_step': 1.7179419166429977, 'colsample_bytree': 0.44313024067397766, 'subsample': 0.5295409368236835, 'eta': 0.035259290370650335, 'gamma': 0.7129505398182548}. Best is trial 1 with value: 0.861722.\u001b[0m\n",
      "\u001b[32m[I 2022-03-14 08:15:34,638]\u001b[0m Trial 4 finished with value: 0.861399 and parameters: {'learning_rate': 0.001865681064318706, 'max_depth': 8, 'min_child_weight': 11.888597106144989, 'max_delta_step': 1.5556925803934234, 'colsample_bytree': 0.5091900428947419, 'subsample': 0.6389414878186653, 'eta': 0.011485832992514622, 'gamma': 0.6643515965913278}. Best is trial 1 with value: 0.861722.\u001b[0m\n",
      "\u001b[32m[I 2022-03-14 08:17:21,772]\u001b[0m Trial 5 finished with value: 0.858876 and parameters: {'learning_rate': 0.003906936826383102, 'max_depth': 4, 'min_child_weight': 11.193131263820767, 'max_delta_step': 1.6195338267139174, 'colsample_bytree': 0.4943859718954784, 'subsample': 0.7478119252733956, 'eta': 0.048532761924824766, 'gamma': 0.5827587895930747}. Best is trial 1 with value: 0.861722.\u001b[0m\n",
      "\u001b[32m[I 2022-03-14 08:19:33,954]\u001b[0m Trial 6 finished with value: 0.860671 and parameters: {'learning_rate': 0.004349456423522092, 'max_depth': 5, 'min_child_weight': 7.325590726912238, 'max_delta_step': 1.5820113573392542, 'colsample_bytree': 0.5668963345881363, 'subsample': 0.8408893784545882, 'eta': 0.04068936236989324, 'gamma': 0.5160458011814297}. Best is trial 1 with value: 0.861722.\u001b[0m\n",
      "\u001b[32m[I 2022-03-14 08:21:44,811]\u001b[0m Trial 7 finished with value: 0.862581 and parameters: {'learning_rate': 0.009125082937503245, 'max_depth': 5, 'min_child_weight': 9.204436969676774, 'max_delta_step': 1.7629279475088857, 'colsample_bytree': 0.518884264690591, 'subsample': 0.5124147516741705, 'eta': 0.04112657176431049, 'gamma': 0.609580152731253}. Best is trial 7 with value: 0.862581.\u001b[0m\n",
      "\u001b[32m[I 2022-03-14 08:23:11,855]\u001b[0m Trial 8 finished with value: 0.858927 and parameters: {'learning_rate': 0.009041061008186087, 'max_depth': 3, 'min_child_weight': 8.883218445600082, 'max_delta_step': 1.825541079182766, 'colsample_bytree': 0.3358132086841921, 'subsample': 0.8621634966977545, 'eta': 0.010013311330016492, 'gamma': 0.6459333053296527}. Best is trial 7 with value: 0.862581.\u001b[0m\n",
      "\u001b[32m[I 2022-03-14 08:26:22,546]\u001b[0m Trial 9 finished with value: 0.862117 and parameters: {'learning_rate': 0.008290253556061113, 'max_depth': 8, 'min_child_weight': 8.068741122055275, 'max_delta_step': 1.676623053363495, 'colsample_bytree': 0.45706753552040846, 'subsample': 0.7141031443911335, 'eta': 0.01942449027929915, 'gamma': 0.6006312360542374}. Best is trial 7 with value: 0.862581.\u001b[0m\n"
     ]
    }
   ],
   "source": [
    "study = optuna.create_study(direction='maximize', study_name='credit1')\n",
    "study.optimize(objective, n_trials=10)"
   ]
  },
  {
   "cell_type": "code",
   "execution_count": 14,
   "metadata": {},
   "outputs": [
    {
     "name": "stdout",
     "output_type": "stream",
     "text": [
      "Best trial:\n",
      "  Value: 0.862581\n",
      "  Params: \n",
      "    learning_rate: 0.009125082937503245\n",
      "    max_depth: 5\n",
      "    min_child_weight: 9.204436969676774\n",
      "    max_delta_step: 1.7629279475088857\n",
      "    colsample_bytree: 0.518884264690591\n",
      "    subsample: 0.5124147516741705\n",
      "    eta: 0.04112657176431049\n",
      "    gamma: 0.609580152731253\n"
     ]
    }
   ],
   "source": [
    "print(\"Best trial:\")\n",
    "trial = study.best_trial\n",
    "\n",
    "print(\"  Value: {}\".format(trial.value))\n",
    "\n",
    "print(\"  Params: \")\n",
    "for key, value in trial.params.items():\n",
    "    print(\"    {}: {}\".format(key, value))"
   ]
  },
  {
   "cell_type": "code",
   "execution_count": 15,
   "metadata": {},
   "outputs": [
    {
     "name": "stdout",
     "output_type": "stream",
     "text": [
      "Running with following parameters:\n",
      "    learning_rate: 0.009125082937503245\n",
      "    max_depth: 5\n",
      "    min_child_weight: 9.204436969676774\n",
      "    max_delta_step: 1.7629279475088857\n",
      "    colsample_bytree: 0.518884264690591\n",
      "    subsample: 0.5124147516741705\n",
      "    eta: 0.04112657176431049\n",
      "    gamma: 0.609580152731253\n"
     ]
    }
   ],
   "source": [
    "# settiamo i parametri del best trial\n",
    "param = {'objective':'binary:logistic', \n",
    "             'random_state': 0,\n",
    "             'n_estimators':N_ESTIMATORS}\n",
    "\n",
    "print('Running with following parameters:')\n",
    "for key, value in trial.params.items():\n",
    "    print(\"    {}: {}\".format(key, value))\n",
    "    param[key] = value\n",
    "\n",
    "clf = xgb.XGBClassifier(use_label_encoder=False, **param)\n",
    "    \n",
    "# addestro e valuto su train e su validation sec\n",
    "clf.fit(x_train_scaled, y_train,\n",
    "        eval_set=[(x_train_scaled, y_train), (x_valid_scaled, y_valid)],\n",
    "        eval_metric='auc', verbose=False)\n",
    "    \n",
    "evals_result = clf.evals_result()"
   ]
  },
  {
   "cell_type": "code",
   "execution_count": 18,
   "metadata": {},
   "outputs": [],
   "source": [
    "def plot_auc(train_hist, val_hist):\n",
    "    plt.figure(figsize=(9,6))\n",
    "    \n",
    "    plt.plot(train_hist, label='Training AUC')\n",
    "    plt.plot(val_hist, label='Validation AUC')\n",
    "    plt.title('AUC')\n",
    "    plt.legend(loc='upper right')\n",
    "    plt.ylabel('auc')\n",
    "    plt.xlabel('n_estimator')\n",
    "    plt.grid(True)\n",
    "    plt.show();"
   ]
  },
  {
   "cell_type": "code",
   "execution_count": 19,
   "metadata": {},
   "outputs": [
    {
     "data": {
      "image/png": "[encoded data removed]",
      "text/plain": [
       "<Figure size 900x600 with 1 Axes>"
      ]
     },
     "metadata": {},
     "output_type": "display_data"
    }
   ],
   "source": [
    "train_hist = evals_result['validation_0']['auc']\n",
    "val_hist = evals_result['validation_1']['auc']\n",
    "\n",
    "plot_auc(train_hist, val_hist)"
   ]
  },
  {
   "cell_type": "code",
   "execution_count": 20,
   "metadata": {},
   "outputs": [
    {
     "name": "stdout",
     "output_type": "stream",
     "text": [
      "Accuracy on validation set: 93.81%\n"
     ]
    }
   ],
   "source": [
    "# compute accuracy on validation set\n",
    "y_pred = clf.predict(x_valid_scaled)\n",
    "\n",
    "predictions = [round(value) for value in y_pred]\n",
    "\n",
    "accuracy = accuracy_score(y_valid, predictions)\n",
    "\n",
    "print(\"Accuracy on validation set: %.2f%%\" % (accuracy * 100.0))"
   ]
  },
  {
   "cell_type": "code",
   "execution_count": 21,
   "metadata": {},
   "outputs": [
    {
     "data": {
      "text/plain": [
       "(27807, 179, 1679, 335)"
      ]
     },
     "execution_count": 21,
     "metadata": {},
     "output_type": "execute_result"
    }
   ],
   "source": [
    "# compute confusion matrix\n",
    "tn, fp, fn, tp = confusion_matrix(y_valid, predictions).ravel()\n",
    "\n",
    "(tn, fp, fn, tp)"
   ]
  },
  {
   "cell_type": "markdown",
   "metadata": {},
   "source": [
    "### Prediction on the TEST set (for submission to Kaggle)"
   ]
  },
  {
   "cell_type": "code",
   "execution_count": 22,
   "metadata": {},
   "outputs": [],
   "source": [
    "# predictions on test set\n",
    "orig_test = pd.read_csv('cs-test.csv')\n",
    "\n",
    "# inpute missing values, add the two indicator columns\n",
    "orig_test['isna_mi'] = 0\n",
    "orig_test.loc[orig_test[COL1_MISSING].isna(), 'isna_mi'] = 1\n",
    "orig_test.loc[orig_test[COL1_MISSING].isna(), COL1_MISSING] = MONTHLY_INC_MEDIAN\n",
    "\n",
    "orig_test['isna_nod'] = 0\n",
    "orig_test.loc[orig_test[COL2_MISSING].isna(), 'isna_nod'] = 1\n",
    "orig_test.loc[orig_test[COL2_MISSING].isna(), COL2_MISSING] = N_OF_DEP_MODE"
   ]
  },
  {
   "cell_type": "code",
   "execution_count": 23,
   "metadata": {},
   "outputs": [],
   "source": [
    "ind_test = orig_test[ind_col].values"
   ]
  },
  {
   "cell_type": "code",
   "execution_count": 24,
   "metadata": {},
   "outputs": [],
   "source": [
    "orig_test = orig_test.drop(ind_col, axis = 1)"
   ]
  },
  {
   "cell_type": "code",
   "execution_count": 25,
   "metadata": {},
   "outputs": [],
   "source": [
    "ID_COL_NAME = 'Unnamed: 0'\n",
    "xorig_test = orig_test.drop(ID_COL_NAME, axis = 1)\n",
    "xorig_test = xorig_test.drop(TARGET, axis = 1)\n",
    "\n",
    "x_test = xorig_test.values"
   ]
  },
  {
   "cell_type": "code",
   "execution_count": 26,
   "metadata": {},
   "outputs": [],
   "source": [
    "# aggiungi qui lo scaling !!!\n",
    "x_test_scaled = scaler.transform(x_test)\n",
    "# riaggiunge le colonne indicatore\n",
    "x_test_scaled = np.c_[x_test_scaled, ind_test]\n",
    "\n",
    "assert x_test_scaled.shape[1] == N_FEATURES"
   ]
  },
  {
   "cell_type": "code",
   "execution_count": 27,
   "metadata": {},
   "outputs": [],
   "source": [
    "# do predictions on test set (no shuffle !)\n",
    "y_pred = clf.predict_proba(x_test_scaled)\n",
    "\n",
    "# y_pred contiene le probabilità\n",
    "y_pred = y_pred[:, 1]"
   ]
  },
  {
   "cell_type": "code",
   "execution_count": 28,
   "metadata": {},
   "outputs": [],
   "source": [
    "# prepara il csv per la submission\n",
    "result_dict = {\"Id\": orig_test[ID_COL_NAME].values,\n",
    "              'Probability': y_pred}\n",
    "\n",
    "FILE_SUB = 'submission25.csv'\n",
    "\n",
    "# build a dataframe and save to csv\n",
    "result_df = pd.DataFrame(result_dict)\n",
    "\n",
    "result_df.to_csv(FILE_SUB, index=False, float_format='%.5f')"
   ]
  },
  {
   "cell_type": "code",
   "execution_count": 29,
   "metadata": {},
   "outputs": [],
   "source": [
    "# save model: uso un formato semplice: pkl\n",
    "pickle.dump(clf, open(\"credit-scoring.pkl\", \"wb\"))"
   ]
  },
  {
   "cell_type": "code",
   "execution_count": 30,
   "metadata": {},
   "outputs": [],
   "source": [
    "# salvo anche lo scaler\n",
    "pickle.dump(scaler, open(\"scaler.pkl\", \"wb\"))"
   ]
  },
  {
   "cell_type": "markdown",
   "metadata": {},
   "source": [
    "### Online predictions"
   ]
  },
  {
   "cell_type": "code",
   "execution_count": 31,
   "metadata": {},
   "outputs": [],
   "source": [
    "# reload the model\n",
    "loaded_model = pickle.load(open(\"credit-scoring.pkl\", \"rb\"))"
   ]
  },
  {
   "cell_type": "code",
   "execution_count": 32,
   "metadata": {},
   "outputs": [],
   "source": [
    "# reload the scaler\n",
    "loaded_scaler = pickle.load(open(\"scaler.pkl\", \"rb\"))"
   ]
  },
  {
   "cell_type": "code",
   "execution_count": 34,
   "metadata": {},
   "outputs": [],
   "source": [
    "# prepare for online predictions\n",
    "# input are given as a numpy array, with no missing fields, but we need to add the two indicator columns\n",
    "x_input = np.array([[1,2,3,4,5,6,7,8,9,10],\n",
    "                   [1,2,3,4,5,6,7,8,9,10],\n",
    "                   [1,2,3,4,5,6,7,8,9,10]])"
   ]
  },
  {
   "cell_type": "code",
   "execution_count": 35,
   "metadata": {},
   "outputs": [],
   "source": [
    "# controlli\n",
    "assert x_input.shape[1] == 10\n",
    "# check there are no null\n",
    "assert np.sum(np.isnan(x_input)) == 0"
   ]
  },
  {
   "cell_type": "code",
   "execution_count": 36,
   "metadata": {},
   "outputs": [],
   "source": [
    "# normalize\n",
    "x_input_scaled = loaded_scaler.transform(x_input)\n",
    "# add two columns with 0\n",
    "x_add = np.zeros((x_input.shape[0], 2))\n",
    "x_input_scaled = np.c_[x_input_scaled, x_add]"
   ]
  },
  {
   "cell_type": "code",
   "execution_count": 37,
   "metadata": {},
   "outputs": [],
   "source": [
    "y_pred = loaded_model.predict(x_input_scaled)"
   ]
  },
  {
   "cell_type": "code",
   "execution_count": 38,
   "metadata": {},
   "outputs": [
    {
     "data": {
      "text/plain": [
       "array([1, 1, 1])"
      ]
     },
     "execution_count": 38,
     "metadata": {},
     "output_type": "execute_result"
    }
   ],
   "source": [
    "y_pred"
   ]
  },
  {
   "cell_type": "code",
   "execution_count": 42,
   "metadata": {},
   "outputs": [
    {
     "data": {
      "image/png": "[encoded data removed]",
      "text/plain": [
       "<Figure size 432x288 with 1 Axes>"
      ]
     },
     "metadata": {
      "needs_background": "light"
     },
     "output_type": "display_data"
    }
   ],
   "source": [
    "train_df[TARGET].hist();"
   ]
  },
  {
   "cell_type": "code",
   "execution_count": null,
   "metadata": {},
   "outputs": [],
   "source": []
  }
 ],
 "metadata": {
  "kernelspec": {
   "display_name": "Python [conda env:generalml_p37_cpu_v1]",
   "language": "python",
   "name": "conda-env-generalml_p37_cpu_v1-py"
  },
  "language_info": {
   "codemirror_mode": {
    "name": "ipython",
    "version": 3
   },
   "file_extension": ".py",
   "mimetype": "text/x-python",
   "name": "python",
   "nbconvert_exporter": "python",
   "pygments_lexer": "ipython3",
   "version": "3.7.12"
  }
 },
 "nbformat": 4,
 "nbformat_minor": 4
}
