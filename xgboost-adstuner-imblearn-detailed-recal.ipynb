{
 "cells": [
  {
   "cell_type": "markdown",
   "metadata": {},
   "source": [
    "### XGBoost with ADSTuner for HPO\n",
    "\n",
    "* Imblearn for undersampling of negative class\n",
    "* ADSTuner for HPO\n",
    "* tuning on more parameters\n",
    "* optimize using recall"
   ]
  },
  {
   "cell_type": "code",
   "execution_count": 1,
   "metadata": {},
   "outputs": [],
   "source": [
    "import pandas as pd\n",
    "import numpy as np\n",
    "import xgboost as xgb\n",
    "\n",
    "import ads\n",
    "\n",
    "# to use ADSTuner\n",
    "from ads.hpo.search_cv import ADSTuner\n",
    "from ads.hpo.stopping_criterion import *\n",
    "from ads.hpo.distributions import *\n",
    "\n",
    "from xgboost import XGBClassifier\n",
    "from sklearn.metrics import accuracy_score, confusion_matrix, ConfusionMatrixDisplay\n",
    "\n",
    "# for undersampling the negative class\n",
    "from imblearn.under_sampling import RandomUnderSampler\n",
    "\n",
    "import matplotlib.pyplot as plt\n",
    "\n",
    "import pickle\n",
    "\n",
    "%matplotlib inline"
   ]
  },
  {
   "cell_type": "code",
   "execution_count": 2,
   "metadata": {},
   "outputs": [
    {
     "name": "stdout",
     "output_type": "stream",
     "text": [
      "2.5.4\n"
     ]
    }
   ],
   "source": [
    "# check the ADS version\n",
    "print(ads.__version__)"
   ]
  },
  {
   "cell_type": "code",
   "execution_count": 9,
   "metadata": {},
   "outputs": [],
   "source": [
    "# global constants\n",
    "SEED = 4321\n",
    "\n",
    "# number of features (without (16/03) the two indicator cols)\n",
    "N_FEATURES = 12 - 2\n",
    "\n",
    "# name of col with label\n",
    "TARGET = 'SeriousDlqin2yrs'\n",
    "\n",
    "# cols with missing values\n",
    "COL1_MISSING = 'MonthlyIncome'\n",
    "COL2_MISSING = 'NumberOfDependents'\n",
    "\n",
    "# nomi delle due colonne indicator (valgono 1 laddove il dato è inputato)\n",
    "IND1 = 'isna_mi'\n",
    "IND2 = 'isna_nod'\n",
    "\n",
    "ind_col = [IND1, IND2]\n",
    "\n",
    "# 16/03 added indicators\n",
    "COLS_TO_DROP = ['id', 'isna_mi', 'isna_nod']\n",
    "\n",
    "# for undersampling to make the dataset more balanced\n",
    "# ratio minority samples/majority\n",
    "# with this ratio I get all the positive samples\n",
    "RATIO = 1./5."
   ]
  },
  {
   "cell_type": "code",
   "execution_count": 10,
   "metadata": {},
   "outputs": [],
   "source": [
    "# full dataset, not undersampled\n",
    "data_full = pd.read_csv('cs-training-nonull.csv')\n",
    "\n",
    "# remove unneeded cols\n",
    "data_full = data_full.drop(COLS_TO_DROP, axis = 1)"
   ]
  },
  {
   "cell_type": "code",
   "execution_count": 11,
   "metadata": {},
   "outputs": [],
   "source": [
    "cat_cols = ['age','NumberOfTime30-59DaysPastDueNotWorse',\n",
    "               'NumberOfOpenCreditLinesAndLoans', 'NumberOfTimes90DaysLate',\n",
    "               'NumberRealEstateLoansOrLines', 'NumberOfTime60-89DaysPastDueNotWorse',\n",
    "               'NumberOfDependents']\n",
    "num_cols = ['RevolvingUtilizationOfUnsecuredLines', 'DebtRatio', 'MonthlyIncome', ]\n",
    "\n",
    "# indicators are not touched"
   ]
  },
  {
   "cell_type": "code",
   "execution_count": 12,
   "metadata": {},
   "outputs": [],
   "source": [
    "# scaling and label encoding is done on data_full. After we will do resampling\n",
    "# In this way coding and scaling cover entire range of values, not only for resampled data\n",
    "\n",
    "# we don't need any scaling (it is ensambles of trees)"
   ]
  },
  {
   "cell_type": "code",
   "execution_count": 13,
   "metadata": {},
   "outputs": [],
   "source": [
    "# cat cols treatment\n",
    "# Code categorical columns (only season, weather, year)\n",
    "\n",
    "# we don't need any pre-processing for cat columns\n",
    "\n",
    "# so for XGBoost afpret Nan treatment no other pre-processing is needed"
   ]
  },
  {
   "cell_type": "code",
   "execution_count": 14,
   "metadata": {},
   "outputs": [],
   "source": [
    "# estrae X: matrice features ed y, labels\n",
    "y_train_full = data_full[TARGET].values\n",
    "x_train_full = data_full.drop(TARGET, axis = 1).values\n",
    "\n",
    "assert x_train_full.shape[1] == N_FEATURES"
   ]
  },
  {
   "cell_type": "code",
   "execution_count": 15,
   "metadata": {},
   "outputs": [
    {
     "name": "stdout",
     "output_type": "stream",
     "text": [
      "# of samples in full dataset: 150000\n",
      "# of positive samples: 10026\n",
      "# of negative samples: 139974\n"
     ]
    }
   ],
   "source": [
    "print(f'# of samples in full dataset: {x_train_full.shape[0]}')\n",
    "print(f'# of positive samples: {np.sum(y_train_full)}')\n",
    "print(f'# of negative samples: {x_train_full.shape[0] - np.sum(y_train_full)}')"
   ]
  },
  {
   "cell_type": "code",
   "execution_count": 16,
   "metadata": {},
   "outputs": [
    {
     "name": "stdout",
     "output_type": "stream",
     "text": [
      "# of samples in resampled dataset: 60156\n",
      "# of positive samples: 10026\n",
      "# of negative samples: 50130\n"
     ]
    }
   ],
   "source": [
    "# do the undersampling of the negative class, using IMblearn\n",
    "rus = RandomUnderSampler(sampling_strategy=RATIO, random_state=SEED)\n",
    "\n",
    "x_train, y_train = rus.fit_resample(x_train_full, y_train_full)\n",
    "\n",
    "print(f'# of samples in resampled dataset: {x_train.shape[0]}')\n",
    "\n",
    "# check ratio of classes\n",
    "print(f'# of positive samples: {np.sum(y_train)}')\n",
    "print(f'# of negative samples: {x_train.shape[0] - np.sum(y_train)}')"
   ]
  },
  {
   "cell_type": "markdown",
   "metadata": {},
   "source": [
    "The resampled dataset (x_train, y_train) will be used for training"
   ]
  },
  {
   "cell_type": "markdown",
   "metadata": {},
   "source": [
    "### Train the XGBoost Classifier"
   ]
  },
  {
   "cell_type": "code",
   "execution_count": 17,
   "metadata": {},
   "outputs": [],
   "source": [
    "# parameters for the HPO session with Optuna\n",
    "FOLDS = 5\n",
    "SEED = 4321\n",
    "\n",
    "N_TRIALS = 100\n",
    "TIME_BUDGET = 7200\n",
    "STUDY_NAME = \"xgb01\"\n",
    "\n",
    "# ranges\n",
    "LR_LOW = 1e-3\n",
    "LR_HIGH = 1e-2\n",
    "DEPTH_LOW = 4\n",
    "DEPTH_HIGH = 10\n",
    "N_ITER_LIST = [1500, 1600, 1700, 1800, 1900, 2000, 2100, 2200, 2300, 2400, 2500]\n",
    "GAMMA_LOW = 0.1\n",
    "GAMMA_HIGH = 5\n",
    "SUBSAMPLE_LOW = 0.1\n",
    "SUBSAMPLE_HIGH = 1."
   ]
  },
  {
   "cell_type": "code",
   "execution_count": 18,
   "metadata": {},
   "outputs": [
    {
     "name": "stderr",
     "output_type": "stream",
     "text": [
      "\u001b[32m[I 2022-03-16 09:48:25,322]\u001b[0m A new study created in RDB with name: xgb01\u001b[0m\n"
     ]
    }
   ],
   "source": [
    "#\n",
    "# Here we define the strategy, the space for hyper-parameters we want to explore\n",
    "#\n",
    "params = {\n",
    "    \"n_estimators\": CategoricalDistribution(N_ITER_LIST),\n",
    "    \"learning_rate\": LogUniformDistribution(low=LR_LOW, high=LR_HIGH),\n",
    "    \"max_depth\": IntUniformDistribution(DEPTH_LOW, DEPTH_HIGH),\n",
    "    \"gamma\" : LogUniformDistribution(low=GAMMA_LOW, high=GAMMA_HIGH),\n",
    "    \"subsample\" : UniformDistribution(low=SUBSAMPLE_LOW, high=SUBSAMPLE_HIGH),\n",
    "    \"tree_method\": \"gpu_hist\"\n",
    "}\n",
    "\n",
    "clf = xgb.XGBClassifier()\n",
    "\n",
    "\n",
    "# per lista scorer sorted(sklearn.metrics.SCORERS.keys())\n",
    "tuner = ADSTuner(clf, cv=FOLDS, strategy=params, scoring=\"recall\", study_name=STUDY_NAME, n_jobs=10, random_state=SEED)\n",
    "\n",
    "tuner.tune(x_train, y_train, exit_criterion=[TimeBudget(TIME_BUDGET)])"
   ]
  },
  {
   "cell_type": "code",
   "execution_count": 75,
   "metadata": {},
   "outputs": [
    {
     "name": "stdout",
     "output_type": "stream",
     "text": [
      "The tuner status is: State.COMPLETED\n",
      "Remaining time is: 0 sec.\n"
     ]
    }
   ],
   "source": [
    "# get the status to see if completed\n",
    "print(f\"The tuner status is: {tuner.get_status()}\")\n",
    "\n",
    "print(f\"Remaining time is: {round(tuner.time_remaining, 1)} sec.\")"
   ]
  },
  {
   "cell_type": "code",
   "execution_count": 76,
   "metadata": {},
   "outputs": [
    {
     "data": {
      "text/html": [
       "<div>\n",
       "<style scoped>\n",
       "    .dataframe tbody tr th:only-of-type {\n",
       "        vertical-align: middle;\n",
       "    }\n",
       "\n",
       "    .dataframe tbody tr th {\n",
       "        vertical-align: top;\n",
       "    }\n",
       "\n",
       "    .dataframe thead th {\n",
       "        text-align: right;\n",
       "    }\n",
       "</style>\n",
       "<table border=\"1\" class=\"dataframe\">\n",
       "  <thead>\n",
       "    <tr style=\"text-align: right;\">\n",
       "      <th></th>\n",
       "      <th>number</th>\n",
       "      <th>value</th>\n",
       "      <th>datetime_start</th>\n",
       "      <th>datetime_complete</th>\n",
       "      <th>duration</th>\n",
       "      <th>params_gamma</th>\n",
       "      <th>params_learning_rate</th>\n",
       "      <th>params_max_depth</th>\n",
       "      <th>params_n_estimators</th>\n",
       "      <th>params_subsample</th>\n",
       "      <th>...</th>\n",
       "      <th>user_attrs_metric</th>\n",
       "      <th>user_attrs_split0_test_score</th>\n",
       "      <th>user_attrs_split1_test_score</th>\n",
       "      <th>user_attrs_split2_test_score</th>\n",
       "      <th>user_attrs_split3_test_score</th>\n",
       "      <th>user_attrs_split4_test_score</th>\n",
       "      <th>user_attrs_std_fit_time</th>\n",
       "      <th>user_attrs_std_score_time</th>\n",
       "      <th>user_attrs_std_test_score</th>\n",
       "      <th>state</th>\n",
       "    </tr>\n",
       "  </thead>\n",
       "  <tbody>\n",
       "    <tr>\n",
       "      <th>30</th>\n",
       "      <td>30</td>\n",
       "      <td>0.442350</td>\n",
       "      <td>2022-03-16 10:13:55.556934</td>\n",
       "      <td>2022-03-16 10:22:56.917131</td>\n",
       "      <td>0 days 00:09:01.360197</td>\n",
       "      <td>0.362415</td>\n",
       "      <td>0.009758</td>\n",
       "      <td>8</td>\n",
       "      <td>1900</td>\n",
       "      <td>0.103116</td>\n",
       "      <td>...</td>\n",
       "      <td>recall</td>\n",
       "      <td>0.440678</td>\n",
       "      <td>0.447382</td>\n",
       "      <td>0.428429</td>\n",
       "      <td>0.447880</td>\n",
       "      <td>0.447382</td>\n",
       "      <td>1.223023</td>\n",
       "      <td>0.003069</td>\n",
       "      <td>0.007454</td>\n",
       "      <td>COMPLETE</td>\n",
       "    </tr>\n",
       "    <tr>\n",
       "      <th>31</th>\n",
       "      <td>31</td>\n",
       "      <td>0.441652</td>\n",
       "      <td>2022-03-16 10:14:50.201208</td>\n",
       "      <td>2022-03-16 10:24:39.580061</td>\n",
       "      <td>0 days 00:09:49.378853</td>\n",
       "      <td>0.266504</td>\n",
       "      <td>0.009470</td>\n",
       "      <td>8</td>\n",
       "      <td>1900</td>\n",
       "      <td>0.130487</td>\n",
       "      <td>...</td>\n",
       "      <td>recall</td>\n",
       "      <td>0.438684</td>\n",
       "      <td>0.443890</td>\n",
       "      <td>0.432918</td>\n",
       "      <td>0.441397</td>\n",
       "      <td>0.451372</td>\n",
       "      <td>3.310752</td>\n",
       "      <td>0.002672</td>\n",
       "      <td>0.006077</td>\n",
       "      <td>COMPLETE</td>\n",
       "    </tr>\n",
       "    <tr>\n",
       "      <th>72</th>\n",
       "      <td>72</td>\n",
       "      <td>0.441353</td>\n",
       "      <td>2022-03-16 11:13:33.400944</td>\n",
       "      <td>2022-03-16 11:18:07.284934</td>\n",
       "      <td>0 days 00:04:33.883990</td>\n",
       "      <td>0.298590</td>\n",
       "      <td>0.009068</td>\n",
       "      <td>6</td>\n",
       "      <td>2000</td>\n",
       "      <td>0.100879</td>\n",
       "      <td>...</td>\n",
       "      <td>recall</td>\n",
       "      <td>0.439681</td>\n",
       "      <td>0.443392</td>\n",
       "      <td>0.427930</td>\n",
       "      <td>0.447382</td>\n",
       "      <td>0.448379</td>\n",
       "      <td>0.660419</td>\n",
       "      <td>0.000857</td>\n",
       "      <td>0.007387</td>\n",
       "      <td>COMPLETE</td>\n",
       "    </tr>\n",
       "    <tr>\n",
       "      <th>28</th>\n",
       "      <td>28</td>\n",
       "      <td>0.441253</td>\n",
       "      <td>2022-03-16 10:10:54.426753</td>\n",
       "      <td>2022-03-16 10:20:05.301596</td>\n",
       "      <td>0 days 00:09:10.874843</td>\n",
       "      <td>0.346848</td>\n",
       "      <td>0.009590</td>\n",
       "      <td>8</td>\n",
       "      <td>1900</td>\n",
       "      <td>0.112343</td>\n",
       "      <td>...</td>\n",
       "      <td>recall</td>\n",
       "      <td>0.440179</td>\n",
       "      <td>0.443392</td>\n",
       "      <td>0.423441</td>\n",
       "      <td>0.445387</td>\n",
       "      <td>0.453865</td>\n",
       "      <td>0.982412</td>\n",
       "      <td>0.011925</td>\n",
       "      <td>0.009991</td>\n",
       "      <td>COMPLETE</td>\n",
       "    </tr>\n",
       "    <tr>\n",
       "      <th>71</th>\n",
       "      <td>71</td>\n",
       "      <td>0.440854</td>\n",
       "      <td>2022-03-16 11:13:08.592541</td>\n",
       "      <td>2022-03-16 11:20:20.122942</td>\n",
       "      <td>0 days 00:07:11.530401</td>\n",
       "      <td>0.280380</td>\n",
       "      <td>0.007254</td>\n",
       "      <td>7</td>\n",
       "      <td>1900</td>\n",
       "      <td>0.146281</td>\n",
       "      <td>...</td>\n",
       "      <td>recall</td>\n",
       "      <td>0.434197</td>\n",
       "      <td>0.441397</td>\n",
       "      <td>0.427431</td>\n",
       "      <td>0.443392</td>\n",
       "      <td>0.457855</td>\n",
       "      <td>0.949991</td>\n",
       "      <td>0.001493</td>\n",
       "      <td>0.010201</td>\n",
       "      <td>COMPLETE</td>\n",
       "    </tr>\n",
       "    <tr>\n",
       "      <th>81</th>\n",
       "      <td>81</td>\n",
       "      <td>0.440854</td>\n",
       "      <td>2022-03-16 11:18:46.058020</td>\n",
       "      <td>2022-03-16 11:25:45.076694</td>\n",
       "      <td>0 days 00:06:59.018674</td>\n",
       "      <td>0.398462</td>\n",
       "      <td>0.007508</td>\n",
       "      <td>7</td>\n",
       "      <td>2000</td>\n",
       "      <td>0.100816</td>\n",
       "      <td>...</td>\n",
       "      <td>recall</td>\n",
       "      <td>0.439182</td>\n",
       "      <td>0.443392</td>\n",
       "      <td>0.426434</td>\n",
       "      <td>0.444389</td>\n",
       "      <td>0.450873</td>\n",
       "      <td>0.659269</td>\n",
       "      <td>0.002766</td>\n",
       "      <td>0.008125</td>\n",
       "      <td>COMPLETE</td>\n",
       "    </tr>\n",
       "    <tr>\n",
       "      <th>4</th>\n",
       "      <td>4</td>\n",
       "      <td>0.440654</td>\n",
       "      <td>2022-03-16 09:48:25.954038</td>\n",
       "      <td>2022-03-16 09:53:22.831772</td>\n",
       "      <td>0 days 00:04:56.877734</td>\n",
       "      <td>3.754146</td>\n",
       "      <td>0.006738</td>\n",
       "      <td>10</td>\n",
       "      <td>1900</td>\n",
       "      <td>0.430254</td>\n",
       "      <td>...</td>\n",
       "      <td>recall</td>\n",
       "      <td>0.440678</td>\n",
       "      <td>0.437905</td>\n",
       "      <td>0.422444</td>\n",
       "      <td>0.449377</td>\n",
       "      <td>0.452868</td>\n",
       "      <td>1.981264</td>\n",
       "      <td>0.004072</td>\n",
       "      <td>0.010625</td>\n",
       "      <td>COMPLETE</td>\n",
       "    </tr>\n",
       "    <tr>\n",
       "      <th>66</th>\n",
       "      <td>66</td>\n",
       "      <td>0.440456</td>\n",
       "      <td>2022-03-16 11:09:47.010077</td>\n",
       "      <td>2022-03-16 11:16:54.300950</td>\n",
       "      <td>0 days 00:07:07.290873</td>\n",
       "      <td>0.273102</td>\n",
       "      <td>0.008763</td>\n",
       "      <td>7</td>\n",
       "      <td>1900</td>\n",
       "      <td>0.147134</td>\n",
       "      <td>...</td>\n",
       "      <td>recall</td>\n",
       "      <td>0.429711</td>\n",
       "      <td>0.445387</td>\n",
       "      <td>0.431920</td>\n",
       "      <td>0.444888</td>\n",
       "      <td>0.450374</td>\n",
       "      <td>1.509002</td>\n",
       "      <td>0.002822</td>\n",
       "      <td>0.008132</td>\n",
       "      <td>COMPLETE</td>\n",
       "    </tr>\n",
       "    <tr>\n",
       "      <th>82</th>\n",
       "      <td>82</td>\n",
       "      <td>0.440455</td>\n",
       "      <td>2022-03-16 11:19:58.558181</td>\n",
       "      <td>2022-03-16 11:23:34.418455</td>\n",
       "      <td>0 days 00:03:35.860274</td>\n",
       "      <td>0.660394</td>\n",
       "      <td>0.007380</td>\n",
       "      <td>6</td>\n",
       "      <td>1600</td>\n",
       "      <td>0.101541</td>\n",
       "      <td>...</td>\n",
       "      <td>recall</td>\n",
       "      <td>0.435693</td>\n",
       "      <td>0.440898</td>\n",
       "      <td>0.428429</td>\n",
       "      <td>0.446384</td>\n",
       "      <td>0.450873</td>\n",
       "      <td>0.387309</td>\n",
       "      <td>0.004003</td>\n",
       "      <td>0.007889</td>\n",
       "      <td>COMPLETE</td>\n",
       "    </tr>\n",
       "    <tr>\n",
       "      <th>22</th>\n",
       "      <td>22</td>\n",
       "      <td>0.440256</td>\n",
       "      <td>2022-03-16 10:01:56.586277</td>\n",
       "      <td>2022-03-16 10:17:05.507551</td>\n",
       "      <td>0 days 00:15:08.921274</td>\n",
       "      <td>0.257564</td>\n",
       "      <td>0.009619</td>\n",
       "      <td>10</td>\n",
       "      <td>1900</td>\n",
       "      <td>0.101360</td>\n",
       "      <td>...</td>\n",
       "      <td>recall</td>\n",
       "      <td>0.431705</td>\n",
       "      <td>0.440399</td>\n",
       "      <td>0.433416</td>\n",
       "      <td>0.443890</td>\n",
       "      <td>0.451870</td>\n",
       "      <td>0.964781</td>\n",
       "      <td>0.006283</td>\n",
       "      <td>0.007321</td>\n",
       "      <td>COMPLETE</td>\n",
       "    </tr>\n",
       "  </tbody>\n",
       "</table>\n",
       "<p>10 rows × 24 columns</p>\n",
       "</div>"
      ],
      "text/plain": [
       "    number     value             datetime_start          datetime_complete  \\\n",
       "30      30  0.442350 2022-03-16 10:13:55.556934 2022-03-16 10:22:56.917131   \n",
       "31      31  0.441652 2022-03-16 10:14:50.201208 2022-03-16 10:24:39.580061   \n",
       "72      72  0.441353 2022-03-16 11:13:33.400944 2022-03-16 11:18:07.284934   \n",
       "28      28  0.441253 2022-03-16 10:10:54.426753 2022-03-16 10:20:05.301596   \n",
       "71      71  0.440854 2022-03-16 11:13:08.592541 2022-03-16 11:20:20.122942   \n",
       "81      81  0.440854 2022-03-16 11:18:46.058020 2022-03-16 11:25:45.076694   \n",
       "4        4  0.440654 2022-03-16 09:48:25.954038 2022-03-16 09:53:22.831772   \n",
       "66      66  0.440456 2022-03-16 11:09:47.010077 2022-03-16 11:16:54.300950   \n",
       "82      82  0.440455 2022-03-16 11:19:58.558181 2022-03-16 11:23:34.418455   \n",
       "22      22  0.440256 2022-03-16 10:01:56.586277 2022-03-16 10:17:05.507551   \n",
       "\n",
       "                 duration  params_gamma  params_learning_rate  \\\n",
       "30 0 days 00:09:01.360197      0.362415              0.009758   \n",
       "31 0 days 00:09:49.378853      0.266504              0.009470   \n",
       "72 0 days 00:04:33.883990      0.298590              0.009068   \n",
       "28 0 days 00:09:10.874843      0.346848              0.009590   \n",
       "71 0 days 00:07:11.530401      0.280380              0.007254   \n",
       "81 0 days 00:06:59.018674      0.398462              0.007508   \n",
       "4  0 days 00:04:56.877734      3.754146              0.006738   \n",
       "66 0 days 00:07:07.290873      0.273102              0.008763   \n",
       "82 0 days 00:03:35.860274      0.660394              0.007380   \n",
       "22 0 days 00:15:08.921274      0.257564              0.009619   \n",
       "\n",
       "    params_max_depth  params_n_estimators  params_subsample  ...  \\\n",
       "30                 8                 1900          0.103116  ...   \n",
       "31                 8                 1900          0.130487  ...   \n",
       "72                 6                 2000          0.100879  ...   \n",
       "28                 8                 1900          0.112343  ...   \n",
       "71                 7                 1900          0.146281  ...   \n",
       "81                 7                 2000          0.100816  ...   \n",
       "4                 10                 1900          0.430254  ...   \n",
       "66                 7                 1900          0.147134  ...   \n",
       "82                 6                 1600          0.101541  ...   \n",
       "22                10                 1900          0.101360  ...   \n",
       "\n",
       "   user_attrs_metric  user_attrs_split0_test_score  \\\n",
       "30            recall                      0.440678   \n",
       "31            recall                      0.438684   \n",
       "72            recall                      0.439681   \n",
       "28            recall                      0.440179   \n",
       "71            recall                      0.434197   \n",
       "81            recall                      0.439182   \n",
       "4             recall                      0.440678   \n",
       "66            recall                      0.429711   \n",
       "82            recall                      0.435693   \n",
       "22            recall                      0.431705   \n",
       "\n",
       "    user_attrs_split1_test_score  user_attrs_split2_test_score  \\\n",
       "30                      0.447382                      0.428429   \n",
       "31                      0.443890                      0.432918   \n",
       "72                      0.443392                      0.427930   \n",
       "28                      0.443392                      0.423441   \n",
       "71                      0.441397                      0.427431   \n",
       "81                      0.443392                      0.426434   \n",
       "4                       0.437905                      0.422444   \n",
       "66                      0.445387                      0.431920   \n",
       "82                      0.440898                      0.428429   \n",
       "22                      0.440399                      0.433416   \n",
       "\n",
       "   user_attrs_split3_test_score  user_attrs_split4_test_score  \\\n",
       "30                     0.447880                      0.447382   \n",
       "31                     0.441397                      0.451372   \n",
       "72                     0.447382                      0.448379   \n",
       "28                     0.445387                      0.453865   \n",
       "71                     0.443392                      0.457855   \n",
       "81                     0.444389                      0.450873   \n",
       "4                      0.449377                      0.452868   \n",
       "66                     0.444888                      0.450374   \n",
       "82                     0.446384                      0.450873   \n",
       "22                     0.443890                      0.451870   \n",
       "\n",
       "    user_attrs_std_fit_time  user_attrs_std_score_time  \\\n",
       "30                 1.223023                   0.003069   \n",
       "31                 3.310752                   0.002672   \n",
       "72                 0.660419                   0.000857   \n",
       "28                 0.982412                   0.011925   \n",
       "71                 0.949991                   0.001493   \n",
       "81                 0.659269                   0.002766   \n",
       "4                  1.981264                   0.004072   \n",
       "66                 1.509002                   0.002822   \n",
       "82                 0.387309                   0.004003   \n",
       "22                 0.964781                   0.006283   \n",
       "\n",
       "    user_attrs_std_test_score     state  \n",
       "30                   0.007454  COMPLETE  \n",
       "31                   0.006077  COMPLETE  \n",
       "72                   0.007387  COMPLETE  \n",
       "28                   0.009991  COMPLETE  \n",
       "71                   0.010201  COMPLETE  \n",
       "81                   0.008125  COMPLETE  \n",
       "4                    0.010625  COMPLETE  \n",
       "66                   0.008132  COMPLETE  \n",
       "82                   0.007889  COMPLETE  \n",
       "22                   0.007321  COMPLETE  \n",
       "\n",
       "[10 rows x 24 columns]"
      ]
     },
     "execution_count": 76,
     "metadata": {},
     "output_type": "execute_result"
    }
   ],
   "source": [
    "# look only at completed trials, sorted with best on top. Metric chosen is in the value col.\n",
    "result_df = tuner.trials[tuner.trials[\"state\"] == \"COMPLETE\"].sort_values(\n",
    "    by=[\"value\"], ascending=False\n",
    ")\n",
    "\n",
    "result_df.head(10)"
   ]
  },
  {
   "cell_type": "code",
   "execution_count": 77,
   "metadata": {},
   "outputs": [
    {
     "name": "stdout",
     "output_type": "stream",
     "text": [
      "ADSTuner session results:\n",
      "ADSTuner has launched 112 trials\n",
      "ADSTuner has completed 112 trials\n",
      "\n",
      "The best trial is the #: 30\n",
      "Parameters for the best trial are: {'gamma': 0.3624145784289698, 'learning_rate': 0.009757611547413204, 'max_depth': 8, 'n_estimators': 1900, 'subsample': 0.10311561378997164, 'tree_method': 'gpu_hist'}\n",
      "The metric used to optimize is: recall\n",
      "The best score is: 0.4424\n"
     ]
    }
   ],
   "source": [
    "def show_tuner_results(tuner):\n",
    "\n",
    "    # to count completed\n",
    "    result_df = tuner.trials[tuner.trials[\"state\"] == \"COMPLETE\"].sort_values(\n",
    "        by=[\"value\"], ascending=False\n",
    "    )\n",
    "\n",
    "    print(\"ADSTuner session results:\")\n",
    "    print(f\"ADSTuner has launched {tuner.trials.shape[0]} trials\")\n",
    "    print(f\"ADSTuner has completed {result_df.shape[0]} trials\")\n",
    "    print()\n",
    "    print(f\"The best trial is the #: {tuner.best_index}\")\n",
    "    print(f\"Parameters for the best trial are: {tuner.best_params}\")\n",
    "    print(f\"The metric used to optimize is: {tuner.scoring_name}\")\n",
    "    print(f\"The best score is: {round(tuner.best_score, 4)}\")\n",
    "    \n",
    "show_tuner_results(tuner)"
   ]
  },
  {
   "cell_type": "markdown",
   "metadata": {},
   "source": [
    "### Train with best params"
   ]
  },
  {
   "cell_type": "code",
   "execution_count": 79,
   "metadata": {},
   "outputs": [
    {
     "name": "stdout",
     "output_type": "stream",
     "text": [
      "[0]\tvalidation_0-auc:0.83656\n",
      "[100]\tvalidation_0-auc:0.87152\n",
      "[200]\tvalidation_0-auc:0.87561\n",
      "[300]\tvalidation_0-auc:0.87927\n",
      "[400]\tvalidation_0-auc:0.88237\n",
      "[500]\tvalidation_0-auc:0.88530\n",
      "[600]\tvalidation_0-auc:0.88786\n",
      "[700]\tvalidation_0-auc:0.89052\n",
      "[800]\tvalidation_0-auc:0.89296\n",
      "[900]\tvalidation_0-auc:0.89521\n",
      "[1000]\tvalidation_0-auc:0.89768\n",
      "[1100]\tvalidation_0-auc:0.89974\n",
      "[1200]\tvalidation_0-auc:0.90167\n",
      "[1300]\tvalidation_0-auc:0.90372\n",
      "[1400]\tvalidation_0-auc:0.90564\n",
      "[1500]\tvalidation_0-auc:0.90747\n",
      "[1600]\tvalidation_0-auc:0.90944\n",
      "[1700]\tvalidation_0-auc:0.91111\n",
      "[1800]\tvalidation_0-auc:0.91270\n",
      "[1899]\tvalidation_0-auc:0.91430\n",
      "\n",
      "CPU times: user 10.5 s, sys: 968 ms, total: 11.5 s\n",
      "Wall time: 11.4 s\n"
     ]
    }
   ],
   "source": [
    "%%time\n",
    "\n",
    "clf = xgb.XGBClassifier(**tuner.best_params)\n",
    "\n",
    "# addestro e valuto su train e su validation set\n",
    "clf.fit(x_train, y_train,\n",
    "        eval_set=[(x_train, y_train)],\n",
    "        eval_metric='auc', verbose=100)\n",
    "\n",
    "print()\n",
    "\n",
    "evals_result = clf.evals_result()"
   ]
  },
  {
   "cell_type": "markdown",
   "metadata": {},
   "source": [
    "#### OK, consider that the slightly higher AUC is due to the fact here we're evaluating also on train data"
   ]
  },
  {
   "cell_type": "code",
   "execution_count": null,
   "metadata": {},
   "outputs": [],
   "source": [
    "def plot_auc(train_hist):\n",
    "    plt.figure(figsize=(9,6))\n",
    "    \n",
    "    plt.plot(train_hist, label='Training AUC')\n",
    "    plt.title('AUC')\n",
    "    plt.legend(loc='lower right')\n",
    "    plt.ylabel('auc')\n",
    "    plt.xlabel('n_estimator')\n",
    "    plt.grid(True)\n",
    "    plt.show();"
   ]
  },
  {
   "cell_type": "code",
   "execution_count": null,
   "metadata": {},
   "outputs": [],
   "source": [
    "train_hist = evals_result['validation_0']['auc']\n",
    "\n",
    "plot_auc(train_hist)"
   ]
  },
  {
   "cell_type": "code",
   "execution_count": 80,
   "metadata": {},
   "outputs": [
    {
     "name": "stdout",
     "output_type": "stream",
     "text": [
      "Accuracy on train set: 93.20%\n"
     ]
    }
   ],
   "source": [
    "# compute accuracy on full dataset\n",
    "y_pred = clf.predict(x_train_full)\n",
    "\n",
    "# not really needed for XGBoost\n",
    "predictions = [round(value) for value in y_pred]\n",
    "\n",
    "accuracy = accuracy_score(y_train_full, predictions)\n",
    "\n",
    "print(\"Accuracy on train set: %.2f%%\" % (accuracy * 100.0))"
   ]
  },
  {
   "cell_type": "code",
   "execution_count": 81,
   "metadata": {},
   "outputs": [
    {
     "data": {
      "image/png": "[encoded data removed]",
      "text/plain": [
       "<Figure size 432x288 with 2 Axes>"
      ]
     },
     "metadata": {
      "needs_background": "light"
     },
     "output_type": "display_data"
    }
   ],
   "source": [
    "# compute confusion matrix on full dataset\n",
    "cm = confusion_matrix(y_train_full, predictions)\n",
    "\n",
    "# plot the confusion matrix\n",
    "disp = ConfusionMatrixDisplay(confusion_matrix=cm)\n",
    "\n",
    "disp.plot();"
   ]
  },
  {
   "cell_type": "code",
   "execution_count": 83,
   "metadata": {},
   "outputs": [],
   "source": [
    "# the number of FN is rather high but using recall things get better"
   ]
  },
  {
   "cell_type": "markdown",
   "metadata": {},
   "source": [
    "### Prediction on the TEST set (for submission to Kaggle)"
   ]
  },
  {
   "cell_type": "code",
   "execution_count": 95,
   "metadata": {},
   "outputs": [],
   "source": [
    "# predictions on test set\n",
    "orig_test = pd.read_csv('cs-test.csv')"
   ]
  },
  {
   "cell_type": "code",
   "execution_count": 96,
   "metadata": {},
   "outputs": [],
   "source": [
    "# inpute missing values, add the two indicator columns\n",
    "MONTHLY_INC_MEDIAN = 5400.\n",
    "N_OF_DEP_MODE = 0\n",
    "\n",
    "orig_test['isna_mi'] = 0\n",
    "orig_test.loc[orig_test[COL1_MISSING].isna(), 'isna_mi'] = 1\n",
    "orig_test.loc[orig_test[COL1_MISSING].isna(), COL1_MISSING] = MONTHLY_INC_MEDIAN\n",
    "\n",
    "orig_test['isna_nod'] = 0\n",
    "orig_test.loc[orig_test[COL2_MISSING].isna(), 'isna_nod'] = 1\n",
    "orig_test.loc[orig_test[COL2_MISSING].isna(), COL2_MISSING] = N_OF_DEP_MODE"
   ]
  },
  {
   "cell_type": "code",
   "execution_count": 97,
   "metadata": {},
   "outputs": [],
   "source": [
    "ind_test = orig_test[ind_col].values"
   ]
  },
  {
   "cell_type": "code",
   "execution_count": 98,
   "metadata": {},
   "outputs": [],
   "source": [
    "orig_test = orig_test.drop(ind_col, axis = 1)"
   ]
  },
  {
   "cell_type": "code",
   "execution_count": 99,
   "metadata": {},
   "outputs": [
    {
     "data": {
      "text/plain": [
       "Index(['Unnamed: 0', 'SeriousDlqin2yrs',\n",
       "       'RevolvingUtilizationOfUnsecuredLines', 'age',\n",
       "       'NumberOfTime30-59DaysPastDueNotWorse', 'DebtRatio', 'MonthlyIncome',\n",
       "       'NumberOfOpenCreditLinesAndLoans', 'NumberOfTimes90DaysLate',\n",
       "       'NumberRealEstateLoansOrLines', 'NumberOfTime60-89DaysPastDueNotWorse',\n",
       "       'NumberOfDependents'],\n",
       "      dtype='object')"
      ]
     },
     "execution_count": 99,
     "metadata": {},
     "output_type": "execute_result"
    }
   ],
   "source": [
    "orig_test.columns"
   ]
  },
  {
   "cell_type": "code",
   "execution_count": 100,
   "metadata": {},
   "outputs": [],
   "source": [
    "ID_COL_NAME = 'Unnamed: 0'\n",
    "xorig_test = orig_test.drop(ID_COL_NAME, axis = 1)\n",
    "xorig_test = xorig_test.drop(TARGET, axis = 1)\n",
    "\n",
    "x_test = xorig_test.values"
   ]
  },
  {
   "cell_type": "code",
   "execution_count": null,
   "metadata": {},
   "outputs": [],
   "source": [
    "# aggiungi qui lo scaling !!!\n",
    "x_test_scaled = scaler.transform(x_test)\n",
    "# riaggiunge le colonne indicatore\n",
    "x_test_scaled = np.c_[x_test_scaled, ind_test]\n",
    "\n",
    "assert x_test_scaled.shape[1] == N_FEATURES"
   ]
  },
  {
   "cell_type": "code",
   "execution_count": 101,
   "metadata": {},
   "outputs": [],
   "source": [
    "# do predictions on test set (no shuffle !)\n",
    "y_pred = clf.predict_proba(x_test)\n",
    "\n",
    "# y_pred contiene le probabilità\n",
    "y_pred = y_pred[:, 1]"
   ]
  },
  {
   "cell_type": "code",
   "execution_count": 102,
   "metadata": {},
   "outputs": [],
   "source": [
    "# prepara il csv per la submission\n",
    "result_dict = {\"Id\": orig_test[ID_COL_NAME].values,\n",
    "              'Probability': y_pred}\n",
    "\n",
    "FILE_SUB = 'submission36.csv'\n",
    "\n",
    "# build a dataframe and save to csv\n",
    "result_df = pd.DataFrame(result_dict)\n",
    "\n",
    "result_df.to_csv(FILE_SUB, index=False, float_format='%.5f')"
   ]
  },
  {
   "cell_type": "code",
   "execution_count": null,
   "metadata": {},
   "outputs": [],
   "source": [
    "### Save Modela and scaler"
   ]
  },
  {
   "cell_type": "code",
   "execution_count": null,
   "metadata": {},
   "outputs": [],
   "source": [
    "# save model: uso un formato semplice: pkl\n",
    "pickle.dump(clf, open(\"credit-scoring.pkl\", \"wb\"))"
   ]
  },
  {
   "cell_type": "code",
   "execution_count": null,
   "metadata": {},
   "outputs": [],
   "source": [
    "# salvo anche lo scaler\n",
    "pickle.dump(scaler, open(\"scaler.pkl\", \"wb\"))"
   ]
  },
  {
   "cell_type": "markdown",
   "metadata": {},
   "source": [
    "### Online predictions"
   ]
  },
  {
   "cell_type": "code",
   "execution_count": null,
   "metadata": {},
   "outputs": [],
   "source": [
    "# reload the model\n",
    "loaded_model = pickle.load(open(\"credit-scoring.pkl\", \"rb\"))"
   ]
  },
  {
   "cell_type": "code",
   "execution_count": null,
   "metadata": {},
   "outputs": [],
   "source": [
    "# reload the scaler\n",
    "loaded_scaler = pickle.load(open(\"scaler.pkl\", \"rb\"))"
   ]
  },
  {
   "cell_type": "code",
   "execution_count": null,
   "metadata": {},
   "outputs": [],
   "source": [
    "# prepare for online predictions\n",
    "# input are given as a numpy array, with no missing fields, but we need to add the two indicator columns\n",
    "x_input = np.array([[1,2,3,4,5,6,7,8,9,10],\n",
    "                   [1,2,3,4,5,6,7,8,9,10],\n",
    "                   [1,2,3,4,5,6,7,8,9,10]])"
   ]
  },
  {
   "cell_type": "code",
   "execution_count": null,
   "metadata": {},
   "outputs": [],
   "source": [
    "# controlli\n",
    "assert x_input.shape[1] == 10\n",
    "# check there are no null\n",
    "assert np.sum(np.isnan(x_input)) == 0"
   ]
  },
  {
   "cell_type": "code",
   "execution_count": null,
   "metadata": {},
   "outputs": [],
   "source": [
    "# normalize\n",
    "x_input_scaled = loaded_scaler.transform(x_input)\n",
    "\n",
    "# add two columns with 0\n",
    "x_add = np.zeros((x_input.shape[0], 2))\n",
    "x_input_scaled = np.c_[x_input_scaled, x_add]"
   ]
  },
  {
   "cell_type": "code",
   "execution_count": null,
   "metadata": {},
   "outputs": [],
   "source": [
    "y_pred = loaded_model.predict(x_input_scaled)"
   ]
  },
  {
   "cell_type": "code",
   "execution_count": null,
   "metadata": {},
   "outputs": [],
   "source": [
    "y_pred"
   ]
  },
  {
   "cell_type": "code",
   "execution_count": null,
   "metadata": {},
   "outputs": [],
   "source": [
    "train_df[TARGET].hist();"
   ]
  },
  {
   "cell_type": "code",
   "execution_count": null,
   "metadata": {},
   "outputs": [],
   "source": []
  }
 ],
 "metadata": {
  "kernelspec": {
   "display_name": "Python [conda env:generalml_p37_gpu_v1]",
   "language": "python",
   "name": "conda-env-generalml_p37_gpu_v1-py"
  },
  "language_info": {
   "codemirror_mode": {
    "name": "ipython",
    "version": 3
   },
   "file_extension": ".py",
   "mimetype": "text/x-python",
   "name": "python",
   "nbconvert_exporter": "python",
   "pygments_lexer": "ipython3",
   "version": "3.7.12"
  }
 },
 "nbformat": 4,
 "nbformat_minor": 4
}
