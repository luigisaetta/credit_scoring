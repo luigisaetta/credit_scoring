{
 "cells": [
  {
   "cell_type": "markdown",
   "metadata": {},
   "source": [
    "### XGBoost with ADSTuner for HPO\n",
    "\n",
    "* Imblearn for undersampling of negative class\n",
    "* ADSTuner for HPO"
   ]
  },
  {
   "cell_type": "code",
   "execution_count": 1,
   "metadata": {},
   "outputs": [],
   "source": [
    "import pandas as pd\n",
    "import numpy as np\n",
    "import xgboost as xgb\n",
    "\n",
    "import ads\n",
    "\n",
    "# to use ADSTuner\n",
    "from ads.hpo.search_cv import ADSTuner\n",
    "from ads.hpo.stopping_criterion import *\n",
    "from ads.hpo.distributions import *\n",
    "\n",
    "from xgboost import XGBClassifier\n",
    "from sklearn.metrics import accuracy_score, confusion_matrix\n",
    "\n",
    "# for undersampling the negative class\n",
    "from imblearn.under_sampling import RandomUnderSampler\n",
    "\n",
    "import matplotlib.pyplot as plt\n",
    "\n",
    "# my utils.py\n",
    "from utils import train_encoders, apply_encoders\n",
    "\n",
    "import pickle\n",
    "\n",
    "%matplotlib inline"
   ]
  },
  {
   "cell_type": "code",
   "execution_count": 2,
   "metadata": {},
   "outputs": [
    {
     "name": "stdout",
     "output_type": "stream",
     "text": [
      "2.5.8\n"
     ]
    }
   ],
   "source": [
    "# check the ADS version\n",
    "print(ads.__version__)"
   ]
  },
  {
   "cell_type": "code",
   "execution_count": 3,
   "metadata": {},
   "outputs": [],
   "source": [
    "# global constants\n",
    "SEED = 4321\n",
    "\n",
    "# number of features (with the two indicator cols)\n",
    "N_FEATURES = 12\n",
    "\n",
    "# name of col with label\n",
    "TARGET = 'SeriousDlqin2yrs'\n",
    "\n",
    "# cols with missing values\n",
    "COL1_MISSING = 'MonthlyIncome'\n",
    "COL2_MISSING = 'NumberOfDependents'\n",
    "\n",
    "# nomi delle due colonne indicator (valgono 1 laddove il dato è inputato)\n",
    "IND1 = 'isna_mi'\n",
    "IND2 = 'isna_nod'\n",
    "\n",
    "ind_col = [IND1, IND2]\n",
    "\n",
    "COLS_TO_DROP = ['id']\n",
    "\n",
    "# for undersampling to make the dataset more balanced\n",
    "# ratio minority samples/majority\n",
    "RATIO = 1./5."
   ]
  },
  {
   "cell_type": "code",
   "execution_count": 4,
   "metadata": {},
   "outputs": [],
   "source": [
    "# full dataset, not undersampled\n",
    "data_full = pd.read_csv('cs-training-nonull.csv')\n",
    "\n",
    "# remove unneeded cols\n",
    "data_full = data_full.drop(COLS_TO_DROP, axis = 1)"
   ]
  },
  {
   "cell_type": "code",
   "execution_count": 5,
   "metadata": {},
   "outputs": [],
   "source": [
    "cat_cols = ['age','NumberOfTime30-59DaysPastDueNotWorse',\n",
    "               'NumberOfOpenCreditLinesAndLoans', 'NumberOfTimes90DaysLate',\n",
    "               'NumberRealEstateLoansOrLines', 'NumberOfTime60-89DaysPastDueNotWorse',\n",
    "               'NumberOfDependents']\n",
    "num_cols = ['RevolvingUtilizationOfUnsecuredLines', 'DebtRatio', 'MonthlyIncome', ]\n",
    "\n",
    "# indicators are not touched"
   ]
  },
  {
   "cell_type": "code",
   "execution_count": 6,
   "metadata": {},
   "outputs": [],
   "source": [
    "# scaling and label encoding is done on data_full. After we will do resampling\n",
    "# In this way coding and scaling cover entire range of values, not only for resampled data\n",
    "\n",
    "# we don't need any scaling (it is ensambles of trees)"
   ]
  },
  {
   "cell_type": "code",
   "execution_count": 7,
   "metadata": {},
   "outputs": [],
   "source": [
    "# cat cols treatment\n",
    "# Code categorical columns (only season, weather, year)\n",
    "\n",
    "# we don't need any pre-processing for cat columns\n",
    "\n",
    "# so for XGBoost afpret Nan treatment no other pre-processing is needed"
   ]
  },
  {
   "cell_type": "code",
   "execution_count": 8,
   "metadata": {},
   "outputs": [],
   "source": [
    "# estrae X: matrice features ed y, labels\n",
    "y_train_full = data_full[TARGET].values\n",
    "x_train_full = data_full.drop(TARGET, axis = 1).values\n",
    "\n",
    "assert x_train_full.shape[1] == N_FEATURES"
   ]
  },
  {
   "cell_type": "code",
   "execution_count": 10,
   "metadata": {},
   "outputs": [
    {
     "name": "stdout",
     "output_type": "stream",
     "text": [
      "# of samples in full dataset: 150000\n"
     ]
    }
   ],
   "source": [
    "print(f'# of samples in full dataset: {x_train_full.shape[0]}')"
   ]
  },
  {
   "cell_type": "code",
   "execution_count": 12,
   "metadata": {},
   "outputs": [
    {
     "name": "stdout",
     "output_type": "stream",
     "text": [
      "# of samples in resampled dataset: 60156\n",
      "# of positive samples: 10026\n",
      "# of negative samples: 50130\n"
     ]
    }
   ],
   "source": [
    "# do the undersampling of the negative class, using IMblearn\n",
    "rus = RandomUnderSampler(sampling_strategy=RATIO, random_state=SEED)\n",
    "\n",
    "x_train, y_train = rus.fit_resample(x_train_full, y_train_full)\n",
    "\n",
    "print(f'# of samples in resampled dataset: {x_train.shape[0]}')\n",
    "\n",
    "# check ratio of classes\n",
    "print(f'# of positive samples: {np.sum(y_train)}')\n",
    "print(f'# of negative samples: {x_train.shape[0] - np.sum(y_train)}')"
   ]
  },
  {
   "cell_type": "markdown",
   "metadata": {},
   "source": [
    "The resampled dataset (x_train, y_train) will be used for training"
   ]
  },
  {
   "cell_type": "markdown",
   "metadata": {},
   "source": [
    "### Train the XGBoost Classifier"
   ]
  },
  {
   "cell_type": "code",
   "execution_count": 14,
   "metadata": {},
   "outputs": [],
   "source": [
    "# parameters for the HPO session with Optuna\n",
    "FOLDS = 5\n",
    "SEED = 4321\n",
    "\n",
    "N_TRIALS = 100\n",
    "TIME_BUDGET = 7200\n",
    "STUDY_NAME = \"xgb01\"\n",
    "\n",
    "# ranges\n",
    "LR_LOW = 1e-3\n",
    "LR_HIGH = 1e-2\n",
    "DEPTH_LOW = 4\n",
    "DEPTH_HIGH = 8\n",
    "N_ITER_LIST = [600, 700, 800, 900, 1000, 1100, 1200, 1300]"
   ]
  },
  {
   "cell_type": "code",
   "execution_count": 15,
   "metadata": {},
   "outputs": [
    {
     "name": "stderr",
     "output_type": "stream",
     "text": [
      "\u001b[32m[I 2022-03-15 10:44:55,611]\u001b[0m A new study created in RDB with name: xgb01\u001b[0m\n"
     ]
    }
   ],
   "source": [
    "#\n",
    "# Here we define the strategy, the space for hyper-parameters we want to explore\n",
    "#\n",
    "params = {\n",
    "    \"n_estimators\": CategoricalDistribution(N_ITER_LIST),\n",
    "    \"learning_rate\": LogUniformDistribution(low=LR_LOW, high=LR_HIGH),\n",
    "    \"max_depth\": IntUniformDistribution(DEPTH_LOW, DEPTH_HIGH),\n",
    "}\n",
    "\n",
    "clf = xgb.XGBClassifier()\n",
    "\n",
    "\n",
    "# per lista scorer sorted(sklearn.metrics.SCORERS.keys())\n",
    "tuner = ADSTuner(clf, cv=FOLDS, strategy=params, scoring=\"roc_auc\", study_name=STUDY_NAME, n_jobs=6, random_state=SEED)\n",
    "\n",
    "tuner.tune(x_train, y_train, exit_criterion=[TimeBudget(TIME_BUDGET)])"
   ]
  },
  {
   "cell_type": "code",
   "execution_count": 16,
   "metadata": {},
   "outputs": [
    {
     "name": "stdout",
     "output_type": "stream",
     "text": [
      "The tuner status is: State.RUNNING\n",
      "Remaining time is: 7171.0 sec.\n"
     ]
    }
   ],
   "source": [
    "# get the status to see if completed\n",
    "print(f\"The tuner status is: {tuner.get_status()}\")\n",
    "\n",
    "print(f\"Remaining time is: {round(tuner.time_remaining, 1)} sec.\")"
   ]
  },
  {
   "cell_type": "code",
   "execution_count": 31,
   "metadata": {},
   "outputs": [
    {
     "data": {
      "text/html": [
       "<div>\n",
       "<style scoped>\n",
       "    .dataframe tbody tr th:only-of-type {\n",
       "        vertical-align: middle;\n",
       "    }\n",
       "\n",
       "    .dataframe tbody tr th {\n",
       "        vertical-align: top;\n",
       "    }\n",
       "\n",
       "    .dataframe thead th {\n",
       "        text-align: right;\n",
       "    }\n",
       "</style>\n",
       "<table border=\"1\" class=\"dataframe\">\n",
       "  <thead>\n",
       "    <tr style=\"text-align: right;\">\n",
       "      <th></th>\n",
       "      <th>number</th>\n",
       "      <th>value</th>\n",
       "      <th>datetime_start</th>\n",
       "      <th>datetime_complete</th>\n",
       "      <th>duration</th>\n",
       "      <th>params_learning_rate</th>\n",
       "      <th>params_max_depth</th>\n",
       "      <th>params_n_estimators</th>\n",
       "      <th>user_attrs_mean_fit_time</th>\n",
       "      <th>user_attrs_mean_score_time</th>\n",
       "      <th>...</th>\n",
       "      <th>user_attrs_metric</th>\n",
       "      <th>user_attrs_split0_test_score</th>\n",
       "      <th>user_attrs_split1_test_score</th>\n",
       "      <th>user_attrs_split2_test_score</th>\n",
       "      <th>user_attrs_split3_test_score</th>\n",
       "      <th>user_attrs_split4_test_score</th>\n",
       "      <th>user_attrs_std_fit_time</th>\n",
       "      <th>user_attrs_std_score_time</th>\n",
       "      <th>user_attrs_std_test_score</th>\n",
       "      <th>state</th>\n",
       "    </tr>\n",
       "  </thead>\n",
       "  <tbody>\n",
       "    <tr>\n",
       "      <th>43</th>\n",
       "      <td>43</td>\n",
       "      <td>0.865601</td>\n",
       "      <td>2022-03-15 11:12:44.580822</td>\n",
       "      <td>2022-03-15 11:16:46.669010</td>\n",
       "      <td>0 days 00:04:02.088188</td>\n",
       "      <td>0.009475</td>\n",
       "      <td>4</td>\n",
       "      <td>1300</td>\n",
       "      <td>48.338119</td>\n",
       "      <td>0.034586</td>\n",
       "      <td>...</td>\n",
       "      <td>roc_auc</td>\n",
       "      <td>0.864633</td>\n",
       "      <td>0.860387</td>\n",
       "      <td>0.865874</td>\n",
       "      <td>0.864797</td>\n",
       "      <td>0.872316</td>\n",
       "      <td>0.864000</td>\n",
       "      <td>0.003266</td>\n",
       "      <td>0.003845</td>\n",
       "      <td>COMPLETE</td>\n",
       "    </tr>\n",
       "    <tr>\n",
       "      <th>42</th>\n",
       "      <td>42</td>\n",
       "      <td>0.865601</td>\n",
       "      <td>2022-03-15 11:12:39.520932</td>\n",
       "      <td>2022-03-15 11:16:40.831658</td>\n",
       "      <td>0 days 00:04:01.310726</td>\n",
       "      <td>0.009506</td>\n",
       "      <td>4</td>\n",
       "      <td>1300</td>\n",
       "      <td>48.185437</td>\n",
       "      <td>0.032267</td>\n",
       "      <td>...</td>\n",
       "      <td>roc_auc</td>\n",
       "      <td>0.864676</td>\n",
       "      <td>0.860434</td>\n",
       "      <td>0.865796</td>\n",
       "      <td>0.864819</td>\n",
       "      <td>0.872279</td>\n",
       "      <td>0.786084</td>\n",
       "      <td>0.001985</td>\n",
       "      <td>0.003816</td>\n",
       "      <td>COMPLETE</td>\n",
       "    </tr>\n",
       "    <tr>\n",
       "      <th>78</th>\n",
       "      <td>78</td>\n",
       "      <td>0.865589</td>\n",
       "      <td>2022-03-15 11:36:10.410147</td>\n",
       "      <td>2022-03-15 11:40:00.604142</td>\n",
       "      <td>0 days 00:03:50.193995</td>\n",
       "      <td>0.009314</td>\n",
       "      <td>4</td>\n",
       "      <td>1300</td>\n",
       "      <td>45.963471</td>\n",
       "      <td>0.031837</td>\n",
       "      <td>...</td>\n",
       "      <td>roc_auc</td>\n",
       "      <td>0.864575</td>\n",
       "      <td>0.860453</td>\n",
       "      <td>0.865857</td>\n",
       "      <td>0.864771</td>\n",
       "      <td>0.872287</td>\n",
       "      <td>0.410735</td>\n",
       "      <td>0.002261</td>\n",
       "      <td>0.003821</td>\n",
       "      <td>COMPLETE</td>\n",
       "    </tr>\n",
       "    <tr>\n",
       "      <th>48</th>\n",
       "      <td>48</td>\n",
       "      <td>0.865524</td>\n",
       "      <td>2022-03-15 11:16:46.689930</td>\n",
       "      <td>2022-03-15 11:20:58.118984</td>\n",
       "      <td>0 days 00:04:11.429054</td>\n",
       "      <td>0.008123</td>\n",
       "      <td>4</td>\n",
       "      <td>1300</td>\n",
       "      <td>50.209382</td>\n",
       "      <td>0.032501</td>\n",
       "      <td>...</td>\n",
       "      <td>roc_auc</td>\n",
       "      <td>0.864349</td>\n",
       "      <td>0.860473</td>\n",
       "      <td>0.865899</td>\n",
       "      <td>0.864719</td>\n",
       "      <td>0.872180</td>\n",
       "      <td>0.664897</td>\n",
       "      <td>0.002582</td>\n",
       "      <td>0.003794</td>\n",
       "      <td>COMPLETE</td>\n",
       "    </tr>\n",
       "    <tr>\n",
       "      <th>76</th>\n",
       "      <td>76</td>\n",
       "      <td>0.865502</td>\n",
       "      <td>2022-03-15 11:35:43.825740</td>\n",
       "      <td>2022-03-15 11:39:35.125163</td>\n",
       "      <td>0 days 00:03:51.299423</td>\n",
       "      <td>0.009237</td>\n",
       "      <td>4</td>\n",
       "      <td>1300</td>\n",
       "      <td>46.180514</td>\n",
       "      <td>0.033492</td>\n",
       "      <td>...</td>\n",
       "      <td>roc_auc</td>\n",
       "      <td>0.864466</td>\n",
       "      <td>0.860408</td>\n",
       "      <td>0.865857</td>\n",
       "      <td>0.864519</td>\n",
       "      <td>0.872260</td>\n",
       "      <td>0.147837</td>\n",
       "      <td>0.003163</td>\n",
       "      <td>0.003841</td>\n",
       "      <td>COMPLETE</td>\n",
       "    </tr>\n",
       "    <tr>\n",
       "      <th>45</th>\n",
       "      <td>45</td>\n",
       "      <td>0.865497</td>\n",
       "      <td>2022-03-15 11:15:14.817528</td>\n",
       "      <td>2022-03-15 11:19:24.053789</td>\n",
       "      <td>0 days 00:04:09.236261</td>\n",
       "      <td>0.008142</td>\n",
       "      <td>4</td>\n",
       "      <td>1300</td>\n",
       "      <td>49.768803</td>\n",
       "      <td>0.032747</td>\n",
       "      <td>...</td>\n",
       "      <td>roc_auc</td>\n",
       "      <td>0.864445</td>\n",
       "      <td>0.860460</td>\n",
       "      <td>0.865940</td>\n",
       "      <td>0.864491</td>\n",
       "      <td>0.872150</td>\n",
       "      <td>0.466231</td>\n",
       "      <td>0.003442</td>\n",
       "      <td>0.003793</td>\n",
       "      <td>COMPLETE</td>\n",
       "    </tr>\n",
       "    <tr>\n",
       "      <th>50</th>\n",
       "      <td>50</td>\n",
       "      <td>0.865486</td>\n",
       "      <td>2022-03-15 11:18:47.910652</td>\n",
       "      <td>2022-03-15 11:23:01.668267</td>\n",
       "      <td>0 days 00:04:13.757615</td>\n",
       "      <td>0.008080</td>\n",
       "      <td>4</td>\n",
       "      <td>1300</td>\n",
       "      <td>50.675535</td>\n",
       "      <td>0.031981</td>\n",
       "      <td>...</td>\n",
       "      <td>roc_auc</td>\n",
       "      <td>0.864399</td>\n",
       "      <td>0.860471</td>\n",
       "      <td>0.865900</td>\n",
       "      <td>0.864601</td>\n",
       "      <td>0.872061</td>\n",
       "      <td>0.365501</td>\n",
       "      <td>0.001805</td>\n",
       "      <td>0.003755</td>\n",
       "      <td>COMPLETE</td>\n",
       "    </tr>\n",
       "    <tr>\n",
       "      <th>47</th>\n",
       "      <td>47</td>\n",
       "      <td>0.865485</td>\n",
       "      <td>2022-03-15 11:16:40.849067</td>\n",
       "      <td>2022-03-15 11:20:51.730777</td>\n",
       "      <td>0 days 00:04:10.881710</td>\n",
       "      <td>0.008340</td>\n",
       "      <td>4</td>\n",
       "      <td>1300</td>\n",
       "      <td>50.100374</td>\n",
       "      <td>0.033129</td>\n",
       "      <td>...</td>\n",
       "      <td>roc_auc</td>\n",
       "      <td>0.864542</td>\n",
       "      <td>0.860462</td>\n",
       "      <td>0.865902</td>\n",
       "      <td>0.864498</td>\n",
       "      <td>0.872021</td>\n",
       "      <td>0.659717</td>\n",
       "      <td>0.002016</td>\n",
       "      <td>0.003741</td>\n",
       "      <td>COMPLETE</td>\n",
       "    </tr>\n",
       "    <tr>\n",
       "      <th>49</th>\n",
       "      <td>49</td>\n",
       "      <td>0.865477</td>\n",
       "      <td>2022-03-15 11:18:28.099829</td>\n",
       "      <td>2022-03-15 11:22:41.582734</td>\n",
       "      <td>0 days 00:04:13.482905</td>\n",
       "      <td>0.008278</td>\n",
       "      <td>4</td>\n",
       "      <td>1300</td>\n",
       "      <td>50.623851</td>\n",
       "      <td>0.030466</td>\n",
       "      <td>...</td>\n",
       "      <td>roc_auc</td>\n",
       "      <td>0.864397</td>\n",
       "      <td>0.860458</td>\n",
       "      <td>0.865879</td>\n",
       "      <td>0.864638</td>\n",
       "      <td>0.872015</td>\n",
       "      <td>0.470939</td>\n",
       "      <td>0.001787</td>\n",
       "      <td>0.003741</td>\n",
       "      <td>COMPLETE</td>\n",
       "    </tr>\n",
       "    <tr>\n",
       "      <th>60</th>\n",
       "      <td>60</td>\n",
       "      <td>0.865474</td>\n",
       "      <td>2022-03-15 11:25:13.707733</td>\n",
       "      <td>2022-03-15 11:29:27.283489</td>\n",
       "      <td>0 days 00:04:13.575756</td>\n",
       "      <td>0.009057</td>\n",
       "      <td>4</td>\n",
       "      <td>1300</td>\n",
       "      <td>50.638212</td>\n",
       "      <td>0.033464</td>\n",
       "      <td>...</td>\n",
       "      <td>roc_auc</td>\n",
       "      <td>0.864513</td>\n",
       "      <td>0.860347</td>\n",
       "      <td>0.865848</td>\n",
       "      <td>0.864599</td>\n",
       "      <td>0.872065</td>\n",
       "      <td>0.094071</td>\n",
       "      <td>0.002859</td>\n",
       "      <td>0.003783</td>\n",
       "      <td>COMPLETE</td>\n",
       "    </tr>\n",
       "  </tbody>\n",
       "</table>\n",
       "<p>10 rows × 21 columns</p>\n",
       "</div>"
      ],
      "text/plain": [
       "    number     value             datetime_start          datetime_complete  \\\n",
       "43      43  0.865601 2022-03-15 11:12:44.580822 2022-03-15 11:16:46.669010   \n",
       "42      42  0.865601 2022-03-15 11:12:39.520932 2022-03-15 11:16:40.831658   \n",
       "78      78  0.865589 2022-03-15 11:36:10.410147 2022-03-15 11:40:00.604142   \n",
       "48      48  0.865524 2022-03-15 11:16:46.689930 2022-03-15 11:20:58.118984   \n",
       "76      76  0.865502 2022-03-15 11:35:43.825740 2022-03-15 11:39:35.125163   \n",
       "45      45  0.865497 2022-03-15 11:15:14.817528 2022-03-15 11:19:24.053789   \n",
       "50      50  0.865486 2022-03-15 11:18:47.910652 2022-03-15 11:23:01.668267   \n",
       "47      47  0.865485 2022-03-15 11:16:40.849067 2022-03-15 11:20:51.730777   \n",
       "49      49  0.865477 2022-03-15 11:18:28.099829 2022-03-15 11:22:41.582734   \n",
       "60      60  0.865474 2022-03-15 11:25:13.707733 2022-03-15 11:29:27.283489   \n",
       "\n",
       "                 duration  params_learning_rate  params_max_depth  \\\n",
       "43 0 days 00:04:02.088188              0.009475                 4   \n",
       "42 0 days 00:04:01.310726              0.009506                 4   \n",
       "78 0 days 00:03:50.193995              0.009314                 4   \n",
       "48 0 days 00:04:11.429054              0.008123                 4   \n",
       "76 0 days 00:03:51.299423              0.009237                 4   \n",
       "45 0 days 00:04:09.236261              0.008142                 4   \n",
       "50 0 days 00:04:13.757615              0.008080                 4   \n",
       "47 0 days 00:04:10.881710              0.008340                 4   \n",
       "49 0 days 00:04:13.482905              0.008278                 4   \n",
       "60 0 days 00:04:13.575756              0.009057                 4   \n",
       "\n",
       "    params_n_estimators  user_attrs_mean_fit_time  user_attrs_mean_score_time  \\\n",
       "43                 1300                 48.338119                    0.034586   \n",
       "42                 1300                 48.185437                    0.032267   \n",
       "78                 1300                 45.963471                    0.031837   \n",
       "48                 1300                 50.209382                    0.032501   \n",
       "76                 1300                 46.180514                    0.033492   \n",
       "45                 1300                 49.768803                    0.032747   \n",
       "50                 1300                 50.675535                    0.031981   \n",
       "47                 1300                 50.100374                    0.033129   \n",
       "49                 1300                 50.623851                    0.030466   \n",
       "60                 1300                 50.638212                    0.033464   \n",
       "\n",
       "    ...  user_attrs_metric user_attrs_split0_test_score  \\\n",
       "43  ...            roc_auc                     0.864633   \n",
       "42  ...            roc_auc                     0.864676   \n",
       "78  ...            roc_auc                     0.864575   \n",
       "48  ...            roc_auc                     0.864349   \n",
       "76  ...            roc_auc                     0.864466   \n",
       "45  ...            roc_auc                     0.864445   \n",
       "50  ...            roc_auc                     0.864399   \n",
       "47  ...            roc_auc                     0.864542   \n",
       "49  ...            roc_auc                     0.864397   \n",
       "60  ...            roc_auc                     0.864513   \n",
       "\n",
       "    user_attrs_split1_test_score  user_attrs_split2_test_score  \\\n",
       "43                      0.860387                      0.865874   \n",
       "42                      0.860434                      0.865796   \n",
       "78                      0.860453                      0.865857   \n",
       "48                      0.860473                      0.865899   \n",
       "76                      0.860408                      0.865857   \n",
       "45                      0.860460                      0.865940   \n",
       "50                      0.860471                      0.865900   \n",
       "47                      0.860462                      0.865902   \n",
       "49                      0.860458                      0.865879   \n",
       "60                      0.860347                      0.865848   \n",
       "\n",
       "    user_attrs_split3_test_score  user_attrs_split4_test_score  \\\n",
       "43                      0.864797                      0.872316   \n",
       "42                      0.864819                      0.872279   \n",
       "78                      0.864771                      0.872287   \n",
       "48                      0.864719                      0.872180   \n",
       "76                      0.864519                      0.872260   \n",
       "45                      0.864491                      0.872150   \n",
       "50                      0.864601                      0.872061   \n",
       "47                      0.864498                      0.872021   \n",
       "49                      0.864638                      0.872015   \n",
       "60                      0.864599                      0.872065   \n",
       "\n",
       "    user_attrs_std_fit_time  user_attrs_std_score_time  \\\n",
       "43                 0.864000                   0.003266   \n",
       "42                 0.786084                   0.001985   \n",
       "78                 0.410735                   0.002261   \n",
       "48                 0.664897                   0.002582   \n",
       "76                 0.147837                   0.003163   \n",
       "45                 0.466231                   0.003442   \n",
       "50                 0.365501                   0.001805   \n",
       "47                 0.659717                   0.002016   \n",
       "49                 0.470939                   0.001787   \n",
       "60                 0.094071                   0.002859   \n",
       "\n",
       "    user_attrs_std_test_score     state  \n",
       "43                   0.003845  COMPLETE  \n",
       "42                   0.003816  COMPLETE  \n",
       "78                   0.003821  COMPLETE  \n",
       "48                   0.003794  COMPLETE  \n",
       "76                   0.003841  COMPLETE  \n",
       "45                   0.003793  COMPLETE  \n",
       "50                   0.003755  COMPLETE  \n",
       "47                   0.003741  COMPLETE  \n",
       "49                   0.003741  COMPLETE  \n",
       "60                   0.003783  COMPLETE  \n",
       "\n",
       "[10 rows x 21 columns]"
      ]
     },
     "execution_count": 31,
     "metadata": {},
     "output_type": "execute_result"
    }
   ],
   "source": [
    "# look only at completed trials, sorted with best on top. Metric chosen is in the value col.\n",
    "result_df = tuner.trials[tuner.trials[\"state\"] == \"COMPLETE\"].sort_values(\n",
    "    by=[\"value\"], ascending=False\n",
    ")\n",
    "\n",
    "result_df.head(10)"
   ]
  },
  {
   "cell_type": "code",
   "execution_count": 28,
   "metadata": {},
   "outputs": [
    {
     "name": "stdout",
     "output_type": "stream",
     "text": [
      "ADSTuner session results:\n",
      "ADSTuner has launched 17 trials\n",
      "ADSTuner has completed 11 trials\n",
      "\n",
      "The best trial is the #: 3\n",
      "Parameters for the best trial are: {'learning_rate': 0.009782305710376605, 'max_depth': 6, 'n_estimators': 1200}\n",
      "The metric used to optimize is: roc_auc\n",
      "The best score is: 0.8646\n"
     ]
    }
   ],
   "source": [
    "def show_tuner_results(tuner):\n",
    "\n",
    "    # to count completed\n",
    "    result_df = tuner.trials[tuner.trials[\"state\"] == \"COMPLETE\"].sort_values(\n",
    "        by=[\"value\"], ascending=False\n",
    "    )\n",
    "\n",
    "    print(\"ADSTuner session results:\")\n",
    "    print(f\"ADSTuner has launched {tuner.trials.shape[0]} trials\")\n",
    "    print(f\"ADSTuner has completed {result_df.shape[0]} trials\")\n",
    "    print()\n",
    "    print(f\"The best trial is the #: {tuner.best_index}\")\n",
    "    print(f\"Parameters for the best trial are: {tuner.best_params}\")\n",
    "    print(f\"The metric used to optimize is: {tuner.scoring_name}\")\n",
    "    print(f\"The best score is: {round(tuner.best_score, 4)}\")\n",
    "    \n",
    "show_tuner_results(tuner)"
   ]
  },
  {
   "cell_type": "markdown",
   "metadata": {},
   "source": [
    "### Train with best params"
   ]
  },
  {
   "cell_type": "code",
   "execution_count": null,
   "metadata": {},
   "outputs": [],
   "source": [
    "%%time\n",
    "\n",
    "clf = xgb.XGBClassifier(**tuner.best_params)\n",
    "\n",
    "# addestro e valuto su train e su validation set\n",
    "clf.fit(x_train, y_train,\n",
    "        eval_set=[(x_train, y_train)],\n",
    "        eval_metric='auc', verbose=100)\n",
    "\n",
    "print()\n",
    "\n",
    "evals_result = clf.evals_result()"
   ]
  },
  {
   "cell_type": "markdown",
   "metadata": {},
   "source": [
    "#### OK, consider that the slightly higher AUC is due to the fact here we're evaluating also on train data"
   ]
  },
  {
   "cell_type": "code",
   "execution_count": null,
   "metadata": {},
   "outputs": [],
   "source": [
    "def plot_auc(train_hist):\n",
    "    plt.figure(figsize=(9,6))\n",
    "    \n",
    "    plt.plot(train_hist, label='Training AUC')\n",
    "    plt.title('AUC')\n",
    "    plt.legend(loc='lower right')\n",
    "    plt.ylabel('auc')\n",
    "    plt.xlabel('n_estimator')\n",
    "    plt.grid(True)\n",
    "    plt.show();"
   ]
  },
  {
   "cell_type": "code",
   "execution_count": null,
   "metadata": {},
   "outputs": [],
   "source": [
    "train_hist = evals_result['validation_0']['auc']\n",
    "\n",
    "plot_auc(train_hist)"
   ]
  },
  {
   "cell_type": "code",
   "execution_count": null,
   "metadata": {},
   "outputs": [],
   "source": [
    "# compute accuracy on full dataset\n",
    "y_pred = clf.predict(x_train_full_scaled)\n",
    "\n",
    "predictions = [round(value) for value in y_pred]\n",
    "\n",
    "accuracy = accuracy_score(y_train_full, predictions)\n",
    "\n",
    "print(\"Accuracy on train set: %.2f%%\" % (accuracy * 100.0))"
   ]
  },
  {
   "cell_type": "code",
   "execution_count": null,
   "metadata": {},
   "outputs": [],
   "source": [
    "# compute confusion matrix on full dataset\n",
    "tn, fp, fn, tp = confusion_matrix(y_train_full, predictions).ravel()\n",
    "\n",
    "(tn, fp, fn, tp)"
   ]
  },
  {
   "cell_type": "markdown",
   "metadata": {},
   "source": [
    "### Prediction on the TEST set (for submission to Kaggle)"
   ]
  },
  {
   "cell_type": "code",
   "execution_count": null,
   "metadata": {},
   "outputs": [],
   "source": [
    "# predictions on test set\n",
    "orig_test = pd.read_csv('cs-test.csv')\n",
    "\n",
    "# inpute missing values, add the two indicator columns\n",
    "orig_test['isna_mi'] = 0\n",
    "orig_test.loc[orig_test[COL1_MISSING].isna(), 'isna_mi'] = 1\n",
    "orig_test.loc[orig_test[COL1_MISSING].isna(), COL1_MISSING] = MONTHLY_INC_MEDIAN\n",
    "\n",
    "orig_test['isna_nod'] = 0\n",
    "orig_test.loc[orig_test[COL2_MISSING].isna(), 'isna_nod'] = 1\n",
    "orig_test.loc[orig_test[COL2_MISSING].isna(), COL2_MISSING] = N_OF_DEP_MODE"
   ]
  },
  {
   "cell_type": "code",
   "execution_count": null,
   "metadata": {},
   "outputs": [],
   "source": [
    "ind_test = orig_test[ind_col].values"
   ]
  },
  {
   "cell_type": "code",
   "execution_count": null,
   "metadata": {},
   "outputs": [],
   "source": [
    "orig_test = orig_test.drop(ind_col, axis = 1)"
   ]
  },
  {
   "cell_type": "code",
   "execution_count": null,
   "metadata": {},
   "outputs": [],
   "source": [
    "ID_COL_NAME = 'Unnamed: 0'\n",
    "xorig_test = orig_test.drop(ID_COL_NAME, axis = 1)\n",
    "xorig_test = xorig_test.drop(TARGET, axis = 1)\n",
    "\n",
    "x_test = xorig_test.values"
   ]
  },
  {
   "cell_type": "code",
   "execution_count": null,
   "metadata": {},
   "outputs": [],
   "source": [
    "# aggiungi qui lo scaling !!!\n",
    "x_test_scaled = scaler.transform(x_test)\n",
    "# riaggiunge le colonne indicatore\n",
    "x_test_scaled = np.c_[x_test_scaled, ind_test]\n",
    "\n",
    "assert x_test_scaled.shape[1] == N_FEATURES"
   ]
  },
  {
   "cell_type": "code",
   "execution_count": null,
   "metadata": {},
   "outputs": [],
   "source": [
    "# do predictions on test set (no shuffle !)\n",
    "y_pred = clf.predict_proba(x_test_scaled)\n",
    "\n",
    "# y_pred contiene le probabilità\n",
    "y_pred = y_pred[:, 1]"
   ]
  },
  {
   "cell_type": "code",
   "execution_count": null,
   "metadata": {},
   "outputs": [],
   "source": [
    "# prepara il csv per la submission\n",
    "result_dict = {\"Id\": orig_test[ID_COL_NAME].values,\n",
    "              'Probability': y_pred}\n",
    "\n",
    "FILE_SUB = 'submission25.csv'\n",
    "\n",
    "# build a dataframe and save to csv\n",
    "result_df = pd.DataFrame(result_dict)\n",
    "\n",
    "result_df.to_csv(FILE_SUB, index=False, float_format='%.5f')"
   ]
  },
  {
   "cell_type": "code",
   "execution_count": null,
   "metadata": {},
   "outputs": [],
   "source": [
    "### Save Modela and scaler"
   ]
  },
  {
   "cell_type": "code",
   "execution_count": null,
   "metadata": {},
   "outputs": [],
   "source": [
    "# save model: uso un formato semplice: pkl\n",
    "pickle.dump(clf, open(\"credit-scoring.pkl\", \"wb\"))"
   ]
  },
  {
   "cell_type": "code",
   "execution_count": null,
   "metadata": {},
   "outputs": [],
   "source": [
    "# salvo anche lo scaler\n",
    "pickle.dump(scaler, open(\"scaler.pkl\", \"wb\"))"
   ]
  },
  {
   "cell_type": "markdown",
   "metadata": {},
   "source": [
    "### Online predictions"
   ]
  },
  {
   "cell_type": "code",
   "execution_count": null,
   "metadata": {},
   "outputs": [],
   "source": [
    "# reload the model\n",
    "loaded_model = pickle.load(open(\"credit-scoring.pkl\", \"rb\"))"
   ]
  },
  {
   "cell_type": "code",
   "execution_count": null,
   "metadata": {},
   "outputs": [],
   "source": [
    "# reload the scaler\n",
    "loaded_scaler = pickle.load(open(\"scaler.pkl\", \"rb\"))"
   ]
  },
  {
   "cell_type": "code",
   "execution_count": null,
   "metadata": {},
   "outputs": [],
   "source": [
    "# prepare for online predictions\n",
    "# input are given as a numpy array, with no missing fields, but we need to add the two indicator columns\n",
    "x_input = np.array([[1,2,3,4,5,6,7,8,9,10],\n",
    "                   [1,2,3,4,5,6,7,8,9,10],\n",
    "                   [1,2,3,4,5,6,7,8,9,10]])"
   ]
  },
  {
   "cell_type": "code",
   "execution_count": null,
   "metadata": {},
   "outputs": [],
   "source": [
    "# controlli\n",
    "assert x_input.shape[1] == 10\n",
    "# check there are no null\n",
    "assert np.sum(np.isnan(x_input)) == 0"
   ]
  },
  {
   "cell_type": "code",
   "execution_count": null,
   "metadata": {},
   "outputs": [],
   "source": [
    "# normalize\n",
    "x_input_scaled = loaded_scaler.transform(x_input)\n",
    "\n",
    "# add two columns with 0\n",
    "x_add = np.zeros((x_input.shape[0], 2))\n",
    "x_input_scaled = np.c_[x_input_scaled, x_add]"
   ]
  },
  {
   "cell_type": "code",
   "execution_count": null,
   "metadata": {},
   "outputs": [],
   "source": [
    "y_pred = loaded_model.predict(x_input_scaled)"
   ]
  },
  {
   "cell_type": "code",
   "execution_count": null,
   "metadata": {},
   "outputs": [],
   "source": [
    "y_pred"
   ]
  },
  {
   "cell_type": "code",
   "execution_count": null,
   "metadata": {},
   "outputs": [],
   "source": [
    "train_df[TARGET].hist();"
   ]
  },
  {
   "cell_type": "code",
   "execution_count": null,
   "metadata": {},
   "outputs": [],
   "source": []
  }
 ],
 "metadata": {
  "kernelspec": {
   "display_name": "Python [conda env:generalml_p37_cpu_v1]",
   "language": "python",
   "name": "conda-env-generalml_p37_cpu_v1-py"
  },
  "language_info": {
   "codemirror_mode": {
    "name": "ipython",
    "version": 3
   },
   "file_extension": ".py",
   "mimetype": "text/x-python",
   "name": "python",
   "nbconvert_exporter": "python",
   "pygments_lexer": "ipython3",
   "version": "3.7.12"
  }
 },
 "nbformat": 4,
 "nbformat_minor": 4
}
